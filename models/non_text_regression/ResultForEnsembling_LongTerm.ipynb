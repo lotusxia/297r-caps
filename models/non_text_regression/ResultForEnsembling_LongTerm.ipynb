{
 "cells": [
  {
   "cell_type": "code",
   "execution_count": 21,
   "id": "da5b2cea",
   "metadata": {},
   "outputs": [],
   "source": [
    "import numpy as np\n",
    "import pandas as pd\n",
    "import matplotlib.pyplot as plt\n",
    "import pickle\n",
    "from sklearn.linear_model import LogisticRegression\n",
    "from sklearn.ensemble import GradientBoostingClassifier, RandomForestClassifier\n",
    "import joblib\n",
    "from sklearn.metrics import r2_score, f1_score, roc_auc_score, precision_score, recall_score, roc_curve\n",
    "import json"
   ]
  },
  {
   "cell_type": "code",
   "execution_count": null,
   "id": "d752f2ae",
   "metadata": {},
   "outputs": [],
   "source": [
    "#In this notebook we create the results required to input in the ensemble model for the long term prediction."
   ]
  },
  {
   "cell_type": "code",
   "execution_count": 22,
   "id": "1937bfef",
   "metadata": {},
   "outputs": [],
   "source": [
    "finalx_train_df = pd.read_pickle('./X_train.pickle')\n",
    "finalx_test_df = pd.read_pickle('./X_test.pickle')\n",
    "finaly_train_df = pd.read_pickle('./y_train.pickle')\n",
    "finaly_test_df = pd.read_pickle('./y_test.pickle')\n",
    "del finalx_train_df['asin']\n",
    "del finalx_test_df['asin']\n",
    "del finaly_train_df['asin']\n",
    "del finaly_test_df['asin']"
   ]
  },
  {
   "cell_type": "code",
   "execution_count": 23,
   "id": "cce50068",
   "metadata": {},
   "outputs": [],
   "source": [
    "#Create numpy array out of them\n",
    "y_train=finaly_train_df.to_numpy()\n",
    "y_train=y_train[:,0]\n",
    "y_test=finaly_test_df.to_numpy()\n",
    "y_test=y_test[:,0]\n",
    "X_train=finalx_train_df.to_numpy()\n",
    "X_test=finalx_test_df.to_numpy()"
   ]
  },
  {
   "cell_type": "code",
   "execution_count": 24,
   "id": "9a4b4009",
   "metadata": {},
   "outputs": [],
   "source": [
    "forest = joblib.load('./RandomForestBestModel_FullFeatures_Val.sav')\n",
    "xgboost = joblib.load('./XgboostBestModel_FullFeatures_Val.sav')"
   ]
  },
  {
   "cell_type": "code",
   "execution_count": 25,
   "id": "e66482e5",
   "metadata": {},
   "outputs": [],
   "source": [
    "y_pred_forest_test = forest.predict(X_test)\n",
    "probas_forest_test = forest.predict_proba(X=X_test)[:,1]\n",
    "y_pred_forest_train = forest.predict(X_train)\n",
    "probas_forest_train = forest.predict_proba(X=X_train)[:,1]"
   ]
  },
  {
   "cell_type": "code",
   "execution_count": 26,
   "id": "fba7dab2",
   "metadata": {},
   "outputs": [],
   "source": [
    "y_pred_xgboost_test = xgboost.predict(X_test)\n",
    "probas_xgboost_test = xgboost.predict_proba(X=X_test)[:,1]\n",
    "y_pred_xgboost_train = xgboost.predict(X_train)\n",
    "probas_xgboost_train = xgboost.predict_proba(X=X_train)[:,1]"
   ]
  },
  {
   "cell_type": "code",
   "execution_count": 27,
   "id": "fc10d723",
   "metadata": {},
   "outputs": [],
   "source": [
    "#Produce train test data-frames with new columns of results\n",
    "y_train_predict_df = pd.read_pickle('./y_train.pickle')\n",
    "y_test_predict_df = pd.read_pickle('./y_test.pickle')"
   ]
  },
  {
   "cell_type": "code",
   "execution_count": 28,
   "id": "03df9bcf",
   "metadata": {},
   "outputs": [
    {
     "data": {
      "text/plain": [
       "(2768, 6)"
      ]
     },
     "execution_count": 28,
     "metadata": {},
     "output_type": "execute_result"
    }
   ],
   "source": [
    "y_train_predict_df['y_forest_predict']=y_pred_forest_train\n",
    "y_train_predict_df['y_forest_predict_probas']=probas_forest_train\n",
    "y_train_predict_df['y_xgboost_predict']=y_pred_xgboost_train\n",
    "y_train_predict_df['y_xgboost_predict_probas']=probas_xgboost_train\n",
    "y_train_predict_df.shape"
   ]
  },
  {
   "cell_type": "code",
   "execution_count": 29,
   "id": "e0c22e34",
   "metadata": {},
   "outputs": [
    {
     "data": {
      "text/plain": [
       "(923, 6)"
      ]
     },
     "execution_count": 29,
     "metadata": {},
     "output_type": "execute_result"
    }
   ],
   "source": [
    "y_test_predict_df['y_forest_predict']=y_pred_forest_test\n",
    "y_test_predict_df['y_forest_predict_probas']=probas_forest_test\n",
    "y_test_predict_df['y_xgboost_predict']=y_pred_xgboost_test\n",
    "y_test_predict_df['y_xgboost_predict_probas']=probas_xgboost_test\n",
    "y_test_predict_df.shape"
   ]
  },
  {
   "cell_type": "code",
   "execution_count": 30,
   "id": "5256d61c",
   "metadata": {},
   "outputs": [],
   "source": [
    "Total_res_df=pd.concat([y_test_predict_df, y_train_predict_df], axis=0)"
   ]
  },
  {
   "cell_type": "code",
   "execution_count": 31,
   "id": "1b61eca0",
   "metadata": {},
   "outputs": [
    {
     "data": {
      "text/plain": [
       "(3691, 6)"
      ]
     },
     "execution_count": 31,
     "metadata": {},
     "output_type": "execute_result"
    }
   ],
   "source": [
    "Total_res_df.shape"
   ]
  },
  {
   "cell_type": "code",
   "execution_count": 32,
   "id": "478ecd73",
   "metadata": {},
   "outputs": [
    {
     "data": {
      "text/html": [
       "<div>\n",
       "<style scoped>\n",
       "    .dataframe tbody tr th:only-of-type {\n",
       "        vertical-align: middle;\n",
       "    }\n",
       "\n",
       "    .dataframe tbody tr th {\n",
       "        vertical-align: top;\n",
       "    }\n",
       "\n",
       "    .dataframe thead th {\n",
       "        text-align: right;\n",
       "    }\n",
       "</style>\n",
       "<table border=\"1\" class=\"dataframe\">\n",
       "  <thead>\n",
       "    <tr style=\"text-align: right;\">\n",
       "      <th></th>\n",
       "      <th>asin</th>\n",
       "      <th>label_after_1_yr_period_12_mo_min_bsr</th>\n",
       "      <th>y_forest_predict</th>\n",
       "      <th>y_forest_predict_probas</th>\n",
       "      <th>y_xgboost_predict</th>\n",
       "      <th>y_xgboost_predict_probas</th>\n",
       "    </tr>\n",
       "  </thead>\n",
       "  <tbody>\n",
       "    <tr>\n",
       "      <th>1</th>\n",
       "      <td>B0009DVYVC</td>\n",
       "      <td>1</td>\n",
       "      <td>0</td>\n",
       "      <td>0.411587</td>\n",
       "      <td>0</td>\n",
       "      <td>0.411587</td>\n",
       "    </tr>\n",
       "    <tr>\n",
       "      <th>4</th>\n",
       "      <td>B000POZG0U</td>\n",
       "      <td>0</td>\n",
       "      <td>0</td>\n",
       "      <td>0.032897</td>\n",
       "      <td>0</td>\n",
       "      <td>0.032897</td>\n",
       "    </tr>\n",
       "    <tr>\n",
       "      <th>9</th>\n",
       "      <td>B0013TOBUW</td>\n",
       "      <td>0</td>\n",
       "      <td>0</td>\n",
       "      <td>0.133685</td>\n",
       "      <td>0</td>\n",
       "      <td>0.133685</td>\n",
       "    </tr>\n",
       "    <tr>\n",
       "      <th>11</th>\n",
       "      <td>B0019LVMC4</td>\n",
       "      <td>0</td>\n",
       "      <td>0</td>\n",
       "      <td>0.012275</td>\n",
       "      <td>0</td>\n",
       "      <td>0.012250</td>\n",
       "    </tr>\n",
       "    <tr>\n",
       "      <th>16</th>\n",
       "      <td>B002SZNS2M</td>\n",
       "      <td>0</td>\n",
       "      <td>0</td>\n",
       "      <td>0.022496</td>\n",
       "      <td>0</td>\n",
       "      <td>0.022496</td>\n",
       "    </tr>\n",
       "  </tbody>\n",
       "</table>\n",
       "</div>"
      ],
      "text/plain": [
       "          asin  label_after_1_yr_period_12_mo_min_bsr  y_forest_predict  \\\n",
       "1   B0009DVYVC                                      1                 0   \n",
       "4   B000POZG0U                                      0                 0   \n",
       "9   B0013TOBUW                                      0                 0   \n",
       "11  B0019LVMC4                                      0                 0   \n",
       "16  B002SZNS2M                                      0                 0   \n",
       "\n",
       "    y_forest_predict_probas  y_xgboost_predict  y_xgboost_predict_probas  \n",
       "1                  0.411587                  0                  0.411587  \n",
       "4                  0.032897                  0                  0.032897  \n",
       "9                  0.133685                  0                  0.133685  \n",
       "11                 0.012275                  0                  0.012250  \n",
       "16                 0.022496                  0                  0.022496  "
      ]
     },
     "execution_count": 32,
     "metadata": {},
     "output_type": "execute_result"
    }
   ],
   "source": [
    "Total_res_df.head()"
   ]
  },
  {
   "cell_type": "code",
   "execution_count": 34,
   "id": "f2a55048",
   "metadata": {},
   "outputs": [],
   "source": [
    "Total_res_df.to_pickle('./Total_Valid_res.pickle')"
   ]
  },
  {
   "cell_type": "code",
   "execution_count": null,
   "id": "06b60ebc",
   "metadata": {},
   "outputs": [],
   "source": []
  }
 ],
 "metadata": {
  "kernelspec": {
   "display_name": "Python 3 (ipykernel)",
   "language": "python",
   "name": "python3"
  },
  "language_info": {
   "codemirror_mode": {
    "name": "ipython",
    "version": 3
   },
   "file_extension": ".py",
   "mimetype": "text/x-python",
   "name": "python",
   "nbconvert_exporter": "python",
   "pygments_lexer": "ipython3",
   "version": "3.8.10"
  }
 },
 "nbformat": 4,
 "nbformat_minor": 5
}
