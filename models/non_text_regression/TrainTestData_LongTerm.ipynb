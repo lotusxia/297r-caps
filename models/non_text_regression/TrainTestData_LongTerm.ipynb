{
 "cells": [
  {
   "cell_type": "code",
   "execution_count": 1,
   "id": "0c7584e0",
   "metadata": {},
   "outputs": [],
   "source": [
    "import csv\n",
    "import numpy as np\n",
    "import pandas as pd\n",
    "import matplotlib.pyplot as plt\n",
    "import pickle\n",
    "import glob\n",
    "from random import sample"
   ]
  },
  {
   "cell_type": "code",
   "execution_count": 2,
   "id": "3319a72f",
   "metadata": {},
   "outputs": [],
   "source": [
    "products_df = pd.read_pickle('./bsr_review_features.pickle')"
   ]
  },
  {
   "cell_type": "code",
   "execution_count": 3,
   "id": "cf7313f9",
   "metadata": {},
   "outputs": [
    {
     "data": {
      "text/html": [
       "<div>\n",
       "<style scoped>\n",
       "    .dataframe tbody tr th:only-of-type {\n",
       "        vertical-align: middle;\n",
       "    }\n",
       "\n",
       "    .dataframe tbody tr th {\n",
       "        vertical-align: top;\n",
       "    }\n",
       "\n",
       "    .dataframe thead th {\n",
       "        text-align: right;\n",
       "    }\n",
       "</style>\n",
       "<table border=\"1\" class=\"dataframe\">\n",
       "  <thead>\n",
       "    <tr style=\"text-align: right;\">\n",
       "      <th></th>\n",
       "      <th>asin</th>\n",
       "      <th>num_reviews_3_mo</th>\n",
       "      <th>revrating_mean_3_mo</th>\n",
       "      <th>reviewrating_meanverified_3_mo</th>\n",
       "      <th>num_verified_rev_3_mo</th>\n",
       "      <th>mo_1_mean</th>\n",
       "      <th>mo_2_mean</th>\n",
       "      <th>mo_3_mean</th>\n",
       "      <th>mo_1_median</th>\n",
       "      <th>mo_2_median</th>\n",
       "      <th>mo_3_median</th>\n",
       "      <th>mo_1_min</th>\n",
       "      <th>mo_2_min</th>\n",
       "      <th>mo_3_min</th>\n",
       "      <th>mean_over_3_mo</th>\n",
       "      <th>median_over_3_mo</th>\n",
       "      <th>min_over_3_mo</th>\n",
       "      <th>label_after_1_yr_period_12_mo_min_bsr</th>\n",
       "    </tr>\n",
       "  </thead>\n",
       "  <tbody>\n",
       "    <tr>\n",
       "      <th>0</th>\n",
       "      <td>B00005K9DO</td>\n",
       "      <td>1</td>\n",
       "      <td>5.000000</td>\n",
       "      <td>5.000000</td>\n",
       "      <td>1</td>\n",
       "      <td>1.198820e+05</td>\n",
       "      <td>101592.562366</td>\n",
       "      <td>111303.227222</td>\n",
       "      <td>103538.000</td>\n",
       "      <td>93593.00</td>\n",
       "      <td>110549.50</td>\n",
       "      <td>15917.0</td>\n",
       "      <td>35518.000000</td>\n",
       "      <td>57708.000000</td>\n",
       "      <td>110925.944230</td>\n",
       "      <td>103538.00</td>\n",
       "      <td>15917.000000</td>\n",
       "      <td>0</td>\n",
       "    </tr>\n",
       "    <tr>\n",
       "      <th>1</th>\n",
       "      <td>B0009DVYVC</td>\n",
       "      <td>7</td>\n",
       "      <td>4.571429</td>\n",
       "      <td>4.333333</td>\n",
       "      <td>3</td>\n",
       "      <td>6.871078e+04</td>\n",
       "      <td>14283.912847</td>\n",
       "      <td>13196.105645</td>\n",
       "      <td>56523.250</td>\n",
       "      <td>13882.25</td>\n",
       "      <td>12691.50</td>\n",
       "      <td>20931.0</td>\n",
       "      <td>7759.666667</td>\n",
       "      <td>8176.000000</td>\n",
       "      <td>32063.598426</td>\n",
       "      <td>13882.25</td>\n",
       "      <td>7759.666667</td>\n",
       "      <td>1</td>\n",
       "    </tr>\n",
       "    <tr>\n",
       "      <th>2</th>\n",
       "      <td>B000CL8LAI</td>\n",
       "      <td>1</td>\n",
       "      <td>5.000000</td>\n",
       "      <td>5.000000</td>\n",
       "      <td>1</td>\n",
       "      <td>1.105162e+06</td>\n",
       "      <td>730441.677419</td>\n",
       "      <td>470000.216667</td>\n",
       "      <td>1114473.875</td>\n",
       "      <td>691677.00</td>\n",
       "      <td>468332.50</td>\n",
       "      <td>971148.0</td>\n",
       "      <td>160881.000000</td>\n",
       "      <td>172227.000000</td>\n",
       "      <td>768534.479576</td>\n",
       "      <td>691677.00</td>\n",
       "      <td>160881.000000</td>\n",
       "      <td>0</td>\n",
       "    </tr>\n",
       "    <tr>\n",
       "      <th>3</th>\n",
       "      <td>B000H8A212</td>\n",
       "      <td>1</td>\n",
       "      <td>5.000000</td>\n",
       "      <td>5.000000</td>\n",
       "      <td>1</td>\n",
       "      <td>2.941590e+05</td>\n",
       "      <td>316723.588710</td>\n",
       "      <td>149149.611111</td>\n",
       "      <td>299642.250</td>\n",
       "      <td>333154.00</td>\n",
       "      <td>125755.50</td>\n",
       "      <td>117928.0</td>\n",
       "      <td>150299.000000</td>\n",
       "      <td>59737.000000</td>\n",
       "      <td>253344.078512</td>\n",
       "      <td>299642.25</td>\n",
       "      <td>59737.000000</td>\n",
       "      <td>0</td>\n",
       "    </tr>\n",
       "    <tr>\n",
       "      <th>4</th>\n",
       "      <td>B000POZG0U</td>\n",
       "      <td>1</td>\n",
       "      <td>5.000000</td>\n",
       "      <td>5.000000</td>\n",
       "      <td>1</td>\n",
       "      <td>1.838216e+05</td>\n",
       "      <td>154731.102151</td>\n",
       "      <td>163585.706111</td>\n",
       "      <td>164412.000</td>\n",
       "      <td>154003.50</td>\n",
       "      <td>165687.15</td>\n",
       "      <td>90450.0</td>\n",
       "      <td>99845.000000</td>\n",
       "      <td>76813.333333</td>\n",
       "      <td>167379.453329</td>\n",
       "      <td>164412.00</td>\n",
       "      <td>76813.333333</td>\n",
       "      <td>0</td>\n",
       "    </tr>\n",
       "  </tbody>\n",
       "</table>\n",
       "</div>"
      ],
      "text/plain": [
       "         asin  num_reviews_3_mo  revrating_mean_3_mo  \\\n",
       "0  B00005K9DO                 1             5.000000   \n",
       "1  B0009DVYVC                 7             4.571429   \n",
       "2  B000CL8LAI                 1             5.000000   \n",
       "3  B000H8A212                 1             5.000000   \n",
       "4  B000POZG0U                 1             5.000000   \n",
       "\n",
       "   reviewrating_meanverified_3_mo  num_verified_rev_3_mo     mo_1_mean  \\\n",
       "0                        5.000000                      1  1.198820e+05   \n",
       "1                        4.333333                      3  6.871078e+04   \n",
       "2                        5.000000                      1  1.105162e+06   \n",
       "3                        5.000000                      1  2.941590e+05   \n",
       "4                        5.000000                      1  1.838216e+05   \n",
       "\n",
       "       mo_2_mean      mo_3_mean  mo_1_median  mo_2_median  mo_3_median  \\\n",
       "0  101592.562366  111303.227222   103538.000     93593.00    110549.50   \n",
       "1   14283.912847   13196.105645    56523.250     13882.25     12691.50   \n",
       "2  730441.677419  470000.216667  1114473.875    691677.00    468332.50   \n",
       "3  316723.588710  149149.611111   299642.250    333154.00    125755.50   \n",
       "4  154731.102151  163585.706111   164412.000    154003.50    165687.15   \n",
       "\n",
       "   mo_1_min       mo_2_min       mo_3_min  mean_over_3_mo  median_over_3_mo  \\\n",
       "0   15917.0   35518.000000   57708.000000   110925.944230         103538.00   \n",
       "1   20931.0    7759.666667    8176.000000    32063.598426          13882.25   \n",
       "2  971148.0  160881.000000  172227.000000   768534.479576         691677.00   \n",
       "3  117928.0  150299.000000   59737.000000   253344.078512         299642.25   \n",
       "4   90450.0   99845.000000   76813.333333   167379.453329         164412.00   \n",
       "\n",
       "   min_over_3_mo  label_after_1_yr_period_12_mo_min_bsr  \n",
       "0   15917.000000                                      0  \n",
       "1    7759.666667                                      1  \n",
       "2  160881.000000                                      0  \n",
       "3   59737.000000                                      0  \n",
       "4   76813.333333                                      0  "
      ]
     },
     "execution_count": 3,
     "metadata": {},
     "output_type": "execute_result"
    }
   ],
   "source": [
    "products_df.head()"
   ]
  },
  {
   "cell_type": "code",
   "execution_count": 19,
   "id": "e0ff2382",
   "metadata": {},
   "outputs": [],
   "source": [
    "traintestlist = pd.read_pickle('./product_sample_long_term.pickle')"
   ]
  },
  {
   "cell_type": "code",
   "execution_count": 21,
   "id": "7c9008f1",
   "metadata": {},
   "outputs": [],
   "source": [
    "traintestlistVal = pd.read_pickle('./product_sample_long_term_Validation.pickle')"
   ]
  },
  {
   "cell_type": "code",
   "execution_count": null,
   "id": "c773118a",
   "metadata": {},
   "outputs": [],
   "source": [
    "#test for validation/train split\n",
    "#set(traintestlist['train']).difference(set(traintestlistvalid['train']+traintestlistvalid['val']))"
   ]
  },
  {
   "cell_type": "code",
   "execution_count": 22,
   "id": "1121a9d1",
   "metadata": {},
   "outputs": [
    {
     "name": "stdout",
     "output_type": "stream",
     "text": [
      "(1938, 18) (830, 18) (2768, 18) (923, 18)\n"
     ]
    }
   ],
   "source": [
    "#Train and validation for hyperparameter tuning\n",
    "aux_trainval_df=products_df[products_df['asin'].isin(traintestlistVal['train'])]\n",
    "aux_val_df=products_df[products_df['asin'].isin(traintestlistVal['val'])]\n",
    "#train on this set with best hyperparameter and then test on test set\n",
    "aux_train_df=products_df[products_df['asin'].isin(traintestlist['train'])]\n",
    "aux_test_df=products_df[products_df['asin'].isin(traintestlist['test'])]\n",
    "print(aux_trainval_df.shape,aux_val_df.shape, aux_train_df.shape, aux_test_df.shape)"
   ]
  },
  {
   "cell_type": "code",
   "execution_count": 23,
   "id": "5e5d1ccc",
   "metadata": {},
   "outputs": [
    {
     "name": "stdout",
     "output_type": "stream",
     "text": [
      "(1938, 17) (830, 17)\n",
      "(2768, 17) (923, 17)\n",
      "(1938, 2) (830, 2)\n",
      "(2768, 2) (923, 2)\n"
     ]
    }
   ],
   "source": [
    "finalx_trainval_df=aux_trainval_df[['asin',\"num_reviews_3_mo\", \"revrating_mean_3_mo\", \"reviewrating_meanverified_3_mo\", \"num_verified_rev_3_mo\",\"mo_1_mean\", \"mo_2_mean\", \"mo_3_mean\", \"mo_1_median\", \"mo_2_median\", \"mo_3_median\", \"mo_1_min\", \"mo_2_min\", \"mo_3_min\", \"mean_over_3_mo\", \"median_over_3_mo\", \"min_over_3_mo\"]]\n",
    "finalx_val_df=aux_val_df[['asin',\"num_reviews_3_mo\", \"revrating_mean_3_mo\", \"reviewrating_meanverified_3_mo\", \"num_verified_rev_3_mo\",\"mo_1_mean\", \"mo_2_mean\", \"mo_3_mean\", \"mo_1_median\", \"mo_2_median\", \"mo_3_median\", \"mo_1_min\", \"mo_2_min\", \"mo_3_min\", \"mean_over_3_mo\", \"median_over_3_mo\", \"min_over_3_mo\"]]\n",
    "finalx_train_df=aux_train_df[['asin',\"num_reviews_3_mo\", \"revrating_mean_3_mo\", \"reviewrating_meanverified_3_mo\", \"num_verified_rev_3_mo\",\"mo_1_mean\", \"mo_2_mean\", \"mo_3_mean\", \"mo_1_median\", \"mo_2_median\", \"mo_3_median\", \"mo_1_min\", \"mo_2_min\", \"mo_3_min\", \"mean_over_3_mo\", \"median_over_3_mo\", \"min_over_3_mo\"]]\n",
    "finalx_test_df=aux_test_df[['asin',\"num_reviews_3_mo\", \"revrating_mean_3_mo\", \"reviewrating_meanverified_3_mo\", \"num_verified_rev_3_mo\",\"mo_1_mean\", \"mo_2_mean\", \"mo_3_mean\", \"mo_1_median\", \"mo_2_median\", \"mo_3_median\", \"mo_1_min\", \"mo_2_min\", \"mo_3_min\", \"mean_over_3_mo\", \"median_over_3_mo\", \"min_over_3_mo\"]]\n",
    "\n",
    "finaly_trainval_df=aux_trainval_df[['asin','label_after_1_yr_period_12_mo_min_bsr']]\n",
    "finaly_val_df=aux_val_df[['asin','label_after_1_yr_period_12_mo_min_bsr']]\n",
    "finaly_train_df=aux_train_df[['asin','label_after_1_yr_period_12_mo_min_bsr']]\n",
    "finaly_test_df=aux_test_df[['asin','label_after_1_yr_period_12_mo_min_bsr']]\n",
    "print(finalx_trainval_df.shape,finalx_val_df.shape)\n",
    "print(finalx_train_df.shape,finalx_test_df.shape)\n",
    "print(finaly_trainval_df.shape,finaly_val_df.shape)\n",
    "print(finaly_train_df.shape,finaly_test_df.shape)"
   ]
  },
  {
   "cell_type": "code",
   "execution_count": 24,
   "id": "ed73dea0",
   "metadata": {},
   "outputs": [],
   "source": [
    "#Create pickle files for train and test\n",
    "finalx_trainval_df.to_pickle('./X_trainval.pickle')\n",
    "finalx_val_df.to_pickle('./X_val.pickle')\n",
    "finalx_train_df.to_pickle('./X_train.pickle')\n",
    "finalx_test_df.to_pickle('./X_test.pickle')\n",
    "\n",
    "finaly_trainval_df.to_pickle('./y_trainval.pickle')\n",
    "finaly_val_df.to_pickle('./y_val.pickle')\n",
    "finaly_train_df.to_pickle('./y_train.pickle')\n",
    "finaly_test_df.to_pickle('./y_test.pickle')"
   ]
  },
  {
   "cell_type": "code",
   "execution_count": 7,
   "id": "878f6fda",
   "metadata": {},
   "outputs": [
    {
     "name": "stdout",
     "output_type": "stream",
     "text": [
      "(2768, 5) (923, 5)\n",
      "(2768, 2) (923, 2)\n"
     ]
    }
   ],
   "source": [
    "#CAVEAT: If considering less features, i.e. only the 4 review based features (NEED TO CHANGE FOR VALIDATION)\n",
    "finalx_train_df=aux_train_df[['asin',\"num_reviews_3_mo\", \"revrating_mean_3_mo\", \"reviewrating_meanverified_3_mo\", \"num_verified_rev_3_mo\"]]\n",
    "finalx_test_df=aux_test_df[['asin',\"num_reviews_3_mo\", \"revrating_mean_3_mo\", \"reviewrating_meanverified_3_mo\", \"num_verified_rev_3_mo\"]]\n",
    "finaly_train_df=aux_train_df[['asin','label_after_1_yr_period_12_mo_min_bsr']]\n",
    "finaly_test_df=aux_test_df[['asin','label_after_1_yr_period_12_mo_min_bsr']]\n",
    "print(finalx_train_df.shape,finalx_test_df.shape)\n",
    "print(finaly_train_df.shape,finaly_test_df.shape)"
   ]
  },
  {
   "cell_type": "code",
   "execution_count": 8,
   "id": "7db9ea9f",
   "metadata": {},
   "outputs": [],
   "source": [
    "#Create pickle files for train and test (NEED TO CHANGE FOR VALIDATION)\n",
    "finalx_train_df.to_pickle('./X_train.pickle')\n",
    "finalx_test_df.to_pickle('./X_test.pickle')\n",
    "finaly_train_df.to_pickle('./y_train.pickle')\n",
    "finaly_test_df.to_pickle('./y_test.pickle')"
   ]
  },
  {
   "cell_type": "code",
   "execution_count": null,
   "id": "902d8755",
   "metadata": {},
   "outputs": [],
   "source": []
  }
 ],
 "metadata": {
  "kernelspec": {
   "display_name": "Python 3 (ipykernel)",
   "language": "python",
   "name": "python3"
  },
  "language_info": {
   "codemirror_mode": {
    "name": "ipython",
    "version": 3
   },
   "file_extension": ".py",
   "mimetype": "text/x-python",
   "name": "python",
   "nbconvert_exporter": "python",
   "pygments_lexer": "ipython3",
   "version": "3.8.10"
  }
 },
 "nbformat": 4,
 "nbformat_minor": 5
}
