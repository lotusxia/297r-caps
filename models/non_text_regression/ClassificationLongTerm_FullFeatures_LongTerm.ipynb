{
 "cells": [
  {
   "cell_type": "code",
   "execution_count": null,
   "id": "7d2602f3",
   "metadata": {},
   "outputs": [],
   "source": [
    "#Description of notebook: \n",
    "#1. We first tune the hyperparameters of our models on a validation set \n",
    "#2. We then make predictions on the test data set"
   ]
  },
  {
   "cell_type": "code",
   "execution_count": 1,
   "id": "3810f096",
   "metadata": {},
   "outputs": [],
   "source": [
    "#This notebook is based on all features, i.e. we also consider rank related data compared to previously. \n",
    "#Make sure that all the columns are included when constructing X_train and X_test"
   ]
  },
  {
   "cell_type": "code",
   "execution_count": 1,
   "id": "1262c0d1",
   "metadata": {},
   "outputs": [],
   "source": [
    "import numpy as np\n",
    "import pandas as pd\n",
    "import matplotlib.pyplot as plt\n",
    "import pickle\n",
    "from sklearn.linear_model import LogisticRegression\n",
    "from sklearn.ensemble import GradientBoostingClassifier, RandomForestClassifier\n",
    "import joblib\n",
    "from sklearn.metrics import r2_score, f1_score, roc_auc_score, precision_score, recall_score, roc_curve\n",
    "import json"
   ]
  },
  {
   "cell_type": "code",
   "execution_count": 2,
   "id": "1c86d673",
   "metadata": {},
   "outputs": [],
   "source": [
    "finalx_trainval_df = pd.read_pickle('./X_trainval.pickle')\n",
    "finalx_val_df = pd.read_pickle('./X_val.pickle')\n",
    "finalx_train_df = pd.read_pickle('./X_train.pickle')\n",
    "finalx_test_df = pd.read_pickle('./X_test.pickle')\n",
    "\n",
    "finaly_trainval_df = pd.read_pickle('./y_trainval.pickle')\n",
    "finaly_val_df = pd.read_pickle('./y_val.pickle')\n",
    "finaly_train_df = pd.read_pickle('./y_train.pickle')\n",
    "finaly_test_df = pd.read_pickle('./y_test.pickle')\n",
    "del finalx_trainval_df['asin']\n",
    "del finalx_val_df['asin']\n",
    "del finalx_train_df['asin']\n",
    "del finalx_test_df['asin']\n",
    "\n",
    "del finaly_trainval_df['asin']\n",
    "del finaly_val_df['asin']\n",
    "del finaly_train_df['asin']\n",
    "del finaly_test_df['asin']"
   ]
  },
  {
   "cell_type": "code",
   "execution_count": 3,
   "id": "22c4cf39",
   "metadata": {},
   "outputs": [],
   "source": [
    "#Create numpy array out of them\n",
    "X_trainval=finalx_trainval_df.to_numpy()\n",
    "X_val=finalx_val_df.to_numpy()\n",
    "X_train=finalx_train_df.to_numpy()\n",
    "X_test=finalx_test_df.to_numpy()\n",
    "\n",
    "\n",
    "y_trainval=finaly_trainval_df.to_numpy()\n",
    "y_trainval=y_trainval[:,0]\n",
    "\n",
    "y_val=finaly_val_df.to_numpy()\n",
    "y_val=y_val[:,0]\n",
    "\n",
    "y_train=finaly_train_df.to_numpy()\n",
    "y_train=y_train[:,0]\n",
    "\n",
    "y_test=finaly_test_df.to_numpy()\n",
    "y_test=y_test[:,0]"
   ]
  },
  {
   "cell_type": "code",
   "execution_count": 4,
   "id": "79e591df",
   "metadata": {},
   "outputs": [
    {
     "data": {
      "text/plain": [
       "LogisticRegression()"
      ]
     },
     "execution_count": 4,
     "metadata": {},
     "output_type": "execute_result"
    }
   ],
   "source": [
    "#Logistic Regression\n",
    "regressor=LogisticRegression()\n",
    "regressor.fit(X_train,y_train)"
   ]
  },
  {
   "cell_type": "code",
   "execution_count": 5,
   "id": "0bbab7e8",
   "metadata": {},
   "outputs": [],
   "source": [
    "#Saving the model\n",
    "#filename_regression = './LogReg.sav'\n",
    "#joblib.dump(regressor, filename_regression)"
   ]
  },
  {
   "cell_type": "code",
   "execution_count": 6,
   "id": "35e741a1",
   "metadata": {},
   "outputs": [
    {
     "name": "stdout",
     "output_type": "stream",
     "text": [
      "\tf1: 0.012121212121212121\n",
      "\tprecision: 1.0\n",
      "\trecall: 0.006097560975609756\n",
      "\tauc: 0.7224605546450723\n"
     ]
    }
   ],
   "source": [
    "#Metrics\n",
    "y_pred = regressor.predict(X_test)\n",
    "probas = regressor.predict_proba(X=X_test)[:,1]\n",
    "f1 = f1_score(y_test, y_pred)\n",
    "precision = precision_score(y_test, y_pred)\n",
    "recall = recall_score(y_test, y_pred)\n",
    "auc = roc_auc_score(y_test, probas)\n",
    "print('\\tf1:', f1)\n",
    "print('\\tprecision:', precision)\n",
    "print('\\trecall:', recall)\n",
    "print('\\tauc:', auc)"
   ]
  },
  {
   "cell_type": "code",
   "execution_count": null,
   "id": "8462bdf3",
   "metadata": {},
   "outputs": [],
   "source": []
  },
  {
   "cell_type": "code",
   "execution_count": 45,
   "id": "2667e5b3",
   "metadata": {},
   "outputs": [
    {
     "data": {
      "text/plain": [
       "GradientBoostingClassifier()"
      ]
     },
     "execution_count": 45,
     "metadata": {},
     "output_type": "execute_result"
    }
   ],
   "source": [
    "#XGBOOST\n",
    "xgboost=GradientBoostingClassifier()\n",
    "xgboost.fit(X_trainval,y_trainval)"
   ]
  },
  {
   "cell_type": "code",
   "execution_count": 46,
   "id": "e5a1d5bf",
   "metadata": {},
   "outputs": [
    {
     "name": "stdout",
     "output_type": "stream",
     "text": [
      "\tf1: 0.4104803493449781\n",
      "\tprecision: 0.5802469135802469\n",
      "\trecall: 0.31756756756756754\n",
      "\tauc: 0.7731186098121583\n"
     ]
    }
   ],
   "source": [
    "#Metrics\n",
    "y_pred = xgboost.predict(X_val)\n",
    "probas = xgboost.predict_proba(X=X_val)[:,1]\n",
    "f1 = f1_score(y_val, y_pred)\n",
    "precision = precision_score(y_val, y_pred)\n",
    "recall = recall_score(y_val, y_pred)\n",
    "auc = roc_auc_score(y_val, probas)\n",
    "print('\\tf1:', f1)\n",
    "print('\\tprecision:', precision)\n",
    "print('\\trecall:', recall)\n",
    "print('\\tauc:', auc)"
   ]
  },
  {
   "cell_type": "code",
   "execution_count": 47,
   "id": "2099ba6d",
   "metadata": {},
   "outputs": [],
   "source": [
    "#XgboostRes_dict={'f1': f1,\n",
    "            # 'precision': precision, \n",
    "             #'recall': recall, \n",
    "            # 'auc': auc}"
   ]
  },
  {
   "cell_type": "code",
   "execution_count": 48,
   "id": "90550cf4",
   "metadata": {},
   "outputs": [],
   "source": [
    "XgboostRes_dict={'f1': f1}"
   ]
  },
  {
   "cell_type": "code",
   "execution_count": 49,
   "id": "50d106d3",
   "metadata": {},
   "outputs": [],
   "source": [
    "with open('XgboostMetrics_FullFeatures_Val.json', 'w') as f:\n",
    "    json.dump(XgboostRes_dict, f)"
   ]
  },
  {
   "cell_type": "code",
   "execution_count": 50,
   "id": "389e1918",
   "metadata": {},
   "outputs": [
    {
     "name": "stdout",
     "output_type": "stream",
     "text": [
      "0.4085106382978724\n",
      "0.3926940639269407\n",
      "0.4205607476635514\n",
      "0.0\n"
     ]
    },
    {
     "name": "stderr",
     "output_type": "stream",
     "text": [
      "/home/ubuntu/.local/lib/python3.8/site-packages/sklearn/metrics/_classification.py:1318: UndefinedMetricWarning: Precision is ill-defined and being set to 0.0 due to no predicted samples. Use `zero_division` parameter to control this behavior.\n",
      "  _warn_prf(average, modifier, msg_start, len(result))\n"
     ]
    },
    {
     "name": "stdout",
     "output_type": "stream",
     "text": [
      "0.43548387096774194\n",
      "0.4052863436123348\n",
      "0.4234234234234234\n",
      "0.23728813559322035\n",
      "0.4081632653061224\n",
      "0.3893805309734513\n",
      "0.4052863436123348\n",
      "0.3434343434343434\n",
      "0.40163934426229514\n",
      "0.4069264069264069\n",
      "0.39647577092511016\n",
      "0.4\n",
      "0.40157480314960636\n",
      "0.4100418410041841\n",
      "0.39484978540772525\n",
      "0.4200913242009132\n"
     ]
    }
   ],
   "source": [
    "#Xgboost optimization\n",
    "nestim = [50,100,150,200,500]\n",
    "learning_rate = [0.2,0.1,0.05,0.01]\n",
    "for estim in nestim:\n",
    "  for lr in learning_rate:\n",
    "    xgboost=GradientBoostingClassifier(learning_rate=lr, n_estimators=estim)\n",
    "    xgboost.fit(X_trainval,y_trainval)\n",
    "    y_pred = xgboost.predict(X_val)\n",
    "    probas = xgboost.predict_proba(X=X_val)[:,1]\n",
    "    #Saving the model\n",
    "    #filename_xgboost_opt = 'Xgboost_model_'+str(lr)+ '_'+str(estim)+'.sav'\n",
    "    #joblib.dump(xgboost, filename_xgboost_opt)\n",
    "    #Compute metrics, add to dictionary, and store in JSON file\n",
    "    f1 = f1_score(y_val, y_pred)\n",
    "    print(f1)\n",
    "    precision = precision_score(y_val, y_pred)\n",
    "    recall = recall_score(y_val, y_pred)\n",
    "    auc = roc_auc_score(y_val, probas)\n",
    "    #XgboostRes_dict.update({'f1 '+str(lr) + 'n_estim '+str(estim): f1,\n",
    "             #'precision '+str(lr) + 'n_estim '+str(estim): precision, \n",
    "             #'recall '+str(lr) + 'n_estim '+str(estim): recall, \n",
    "             #'auc'+str(lr) + 'n_estim '+str(estim): auc})\n",
    "    XgboostRes_dict.update({'f1 '+str(lr) + 'n_estim '+str(estim): f1})\n",
    "    with open('XgboostMetrics_FullFeatures_Val.json', 'w') as f:\n",
    "        json.dump(XgboostRes_dict, f)"
   ]
  },
  {
   "cell_type": "code",
   "execution_count": null,
   "id": "a1ef31e9",
   "metadata": {},
   "outputs": [],
   "source": []
  },
  {
   "cell_type": "code",
   "execution_count": 51,
   "id": "edfe517f",
   "metadata": {},
   "outputs": [
    {
     "data": {
      "text/plain": [
       "RandomForestClassifier()"
      ]
     },
     "execution_count": 51,
     "metadata": {},
     "output_type": "execute_result"
    }
   ],
   "source": [
    "#RANDOM FOREST\n",
    "forest=RandomForestClassifier()\n",
    "forest.fit(X_trainval,y_trainval)"
   ]
  },
  {
   "cell_type": "code",
   "execution_count": 52,
   "id": "ec9593f5",
   "metadata": {},
   "outputs": [
    {
     "name": "stdout",
     "output_type": "stream",
     "text": [
      "\tf1: 0.4070796460176991\n",
      "\tprecision: 0.5897435897435898\n",
      "\trecall: 0.3108108108108108\n",
      "\tauc: 0.7668720773559483\n"
     ]
    }
   ],
   "source": [
    "#Metrics\n",
    "y_pred = forest.predict(X_val)\n",
    "probas = forest.predict_proba(X=X_val)[:,1]\n",
    "f1 = f1_score(y_val, y_pred)\n",
    "precision = precision_score(y_val, y_pred)\n",
    "recall = recall_score(y_val, y_pred)\n",
    "auc = roc_auc_score(y_val, probas)\n",
    "print('\\tf1:', f1)\n",
    "print('\\tprecision:', precision)\n",
    "print('\\trecall:', recall)\n",
    "print('\\tauc:', auc)"
   ]
  },
  {
   "cell_type": "code",
   "execution_count": 53,
   "id": "04246fb9",
   "metadata": {},
   "outputs": [],
   "source": [
    "#ForestRes_dict={'f1': f1,\n",
    "#               'precision': precision, \n",
    "#             'recall': recall, \n",
    "#             'auc': auc"
   ]
  },
  {
   "cell_type": "code",
   "execution_count": 54,
   "id": "d373de0f",
   "metadata": {},
   "outputs": [],
   "source": [
    "ForestRes_dict={'f1': f1}"
   ]
  },
  {
   "cell_type": "code",
   "execution_count": 55,
   "id": "5a821e81",
   "metadata": {},
   "outputs": [],
   "source": [
    "with open('ForestMetrics_FullFeatures_Val.json', 'w') as f:\n",
    "    json.dump(ForestRes_dict, f)"
   ]
  },
  {
   "cell_type": "code",
   "execution_count": 56,
   "id": "110d2c6c",
   "metadata": {},
   "outputs": [],
   "source": [
    "#Random forest trying to optimize\n",
    "ntrees = [50,100,150,200,500]\n",
    "tree_depth = [3,5,8,None]\n",
    "for tree in ntrees:\n",
    "  for depth in tree_depth:\n",
    "    forest=RandomForestClassifier(max_depth=depth, n_estimators=tree)\n",
    "    forest.fit(X_trainval,y_trainval)\n",
    "    y_pred = forest.predict(X_val)\n",
    "    probas = forest.predict_proba(X=X_val)[:,1]\n",
    "    #Saving the model\n",
    "    #filename_forest_opt = 'Forest_model_'+str(depth)+ '_'+str(tree)+'.sav'\n",
    "    #joblib.dump(forest, filename_forest_opt)\n",
    "    #Compute metrics, add to dictionary, and store in JSON file\n",
    "    f1 = f1_score(y_val, y_pred)\n",
    "    precision = precision_score(y_val, y_pred)\n",
    "    recall = recall_score(y_val, y_pred)\n",
    "    auc = roc_auc_score(y_val, probas)\n",
    "    #ForestRes_dict.update({'f1 '+str(depth) + 'n_estim '+str(tree): f1,\n",
    "    #       'precision '+str(depth) + 'n_estim '+str(tree): precision, \n",
    "    #       'recall '+str(depth) + 'n_estim '+str(tree): recall, \n",
    "    #       'auc '+str(depth) + 'n_estim '+str(tree): auc})\n",
    "    ForestRes_dict.update({'f1 '+str(depth) + 'n_estim '+str(tree): f1})\n",
    "    with open('ForestMetrics_FullFeatures_Val.json', 'w') as f:\n",
    "        json.dump(ForestRes_dict, f)\n",
    "    "
   ]
  },
  {
   "cell_type": "code",
   "execution_count": null,
   "id": "e7d4ef25",
   "metadata": {},
   "outputs": [],
   "source": []
  },
  {
   "cell_type": "code",
   "execution_count": 7,
   "id": "050670f1",
   "metadata": {},
   "outputs": [
    {
     "data": {
      "text/plain": [
       "GradientBoostingClassifier(learning_rate=0.2)"
      ]
     },
     "execution_count": 7,
     "metadata": {},
     "output_type": "execute_result"
    }
   ],
   "source": [
    "#Xgboost Best model\n",
    "xgboost=GradientBoostingClassifier(learning_rate=0.2, n_estimators=100)\n",
    "xgboost.fit(X_train,y_train)"
   ]
  },
  {
   "cell_type": "code",
   "execution_count": 8,
   "id": "4eaafbfa",
   "metadata": {
    "scrolled": true
   },
   "outputs": [
    {
     "name": "stdout",
     "output_type": "stream",
     "text": [
      "\tf1: 0.36885245901639346\n",
      "\tprecision: 0.5625\n",
      "\trecall: 0.27439024390243905\n",
      "\tauc: 0.7455694270381439\n"
     ]
    }
   ],
   "source": [
    "#Metrics\n",
    "y_pred = xgboost.predict(X_test)\n",
    "probas = xgboost.predict_proba(X=X_test)[:,1]\n",
    "f1 = f1_score(y_test, y_pred)\n",
    "precision = precision_score(y_test, y_pred)\n",
    "recall = recall_score(y_test, y_pred)\n",
    "auc = roc_auc_score(y_test, probas)\n",
    "print('\\tf1:', f1)\n",
    "print('\\tprecision:', precision)\n",
    "print('\\trecall:', recall)\n",
    "print('\\tauc:', auc)"
   ]
  },
  {
   "cell_type": "code",
   "execution_count": 9,
   "id": "29ea4ed4",
   "metadata": {},
   "outputs": [
    {
     "data": {
      "text/plain": [
       "['./XgboostBestModel_FullFeatures_Val.sav']"
      ]
     },
     "execution_count": 9,
     "metadata": {},
     "output_type": "execute_result"
    }
   ],
   "source": [
    "#Saving the model\n",
    "filename_regression = './XgboostBestModel_FullFeatures_Val.sav'\n",
    "joblib.dump(xgboost, filename_regression)"
   ]
  },
  {
   "cell_type": "code",
   "execution_count": null,
   "id": "950638b7",
   "metadata": {},
   "outputs": [],
   "source": []
  },
  {
   "cell_type": "code",
   "execution_count": 10,
   "id": "8f4d0647",
   "metadata": {},
   "outputs": [
    {
     "data": {
      "text/plain": [
       "RandomForestClassifier(max_depth=5, n_estimators=200)"
      ]
     },
     "execution_count": 10,
     "metadata": {},
     "output_type": "execute_result"
    }
   ],
   "source": [
    "#RANDOM FOREST Best Model\n",
    "forest=RandomForestClassifier(max_depth=5, n_estimators=200)\n",
    "forest.fit(X_train,y_train)"
   ]
  },
  {
   "cell_type": "code",
   "execution_count": 11,
   "id": "5ef4de02",
   "metadata": {},
   "outputs": [
    {
     "name": "stdout",
     "output_type": "stream",
     "text": [
      "\tf1: 0.3436123348017621\n",
      "\tprecision: 0.6190476190476191\n",
      "\trecall: 0.23780487804878048\n",
      "\tauc: 0.7638339920948617\n"
     ]
    }
   ],
   "source": [
    "#Metrics\n",
    "y_pred = forest.predict(X_test)\n",
    "probas = forest.predict_proba(X=X_test)[:,1]\n",
    "f1 = f1_score(y_test, y_pred)\n",
    "precision = precision_score(y_test, y_pred)\n",
    "recall = recall_score(y_test, y_pred)\n",
    "auc = roc_auc_score(y_test, probas)\n",
    "print('\\tf1:', f1)\n",
    "print('\\tprecision:', precision)\n",
    "print('\\trecall:', recall)\n",
    "print('\\tauc:', auc)"
   ]
  },
  {
   "cell_type": "code",
   "execution_count": 12,
   "id": "47ed55d7",
   "metadata": {},
   "outputs": [
    {
     "data": {
      "text/plain": [
       "['./RandomForestBestModel_FullFeatures_Val.sav']"
      ]
     },
     "execution_count": 12,
     "metadata": {},
     "output_type": "execute_result"
    }
   ],
   "source": [
    "#Saving the model\n",
    "filename_regression = './RandomForestBestModel_FullFeatures_Val.sav'\n",
    "joblib.dump(forest, filename_regression)"
   ]
  },
  {
   "cell_type": "code",
   "execution_count": null,
   "id": "5be408f6",
   "metadata": {},
   "outputs": [],
   "source": []
  }
 ],
 "metadata": {
  "kernelspec": {
   "display_name": "Python 3 (ipykernel)",
   "language": "python",
   "name": "python3"
  },
  "language_info": {
   "codemirror_mode": {
    "name": "ipython",
    "version": 3
   },
   "file_extension": ".py",
   "mimetype": "text/x-python",
   "name": "python",
   "nbconvert_exporter": "python",
   "pygments_lexer": "ipython3",
   "version": "3.8.10"
  }
 },
 "nbformat": 4,
 "nbformat_minor": 5
}
