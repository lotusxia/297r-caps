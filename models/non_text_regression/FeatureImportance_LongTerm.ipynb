{
 "cells": [
  {
   "cell_type": "code",
   "execution_count": null,
   "id": "8b2eaf91",
   "metadata": {},
   "outputs": [],
   "source": [
    "#In this notebook we compute the feature importance of our models and plot Partial Dependence Plots (PDPs)"
   ]
  },
  {
   "cell_type": "code",
   "execution_count": null,
   "id": "20570851",
   "metadata": {},
   "outputs": [],
   "source": [
    "#Have to downgrade numpy because of shap..\n",
    "#!pip install --upgrade numpy==1.21"
   ]
  },
  {
   "cell_type": "code",
   "execution_count": null,
   "id": "b542c152",
   "metadata": {},
   "outputs": [],
   "source": [
    "import numpy as np\n",
    "import pandas as pd\n",
    "import matplotlib.pyplot as plt\n",
    "import pickle\n",
    "import joblib\n",
    "from sklearn.inspection import permutation_importance\n",
    "import xgboost\n",
    "import shap\n",
    "from sklearn.inspection import partial_dependence\n",
    "from sklearn.inspection import PartialDependenceDisplay"
   ]
  },
  {
   "cell_type": "code",
   "execution_count": null,
   "id": "7b91a6b2",
   "metadata": {},
   "outputs": [],
   "source": [
    "finalx_test_df = pd.read_pickle('./X_test.pickle')\n",
    "finaly_test_df = pd.read_pickle('./y_test.pickle')\n",
    "del finalx_test_df['asin']\n",
    "del finaly_test_df['asin']"
   ]
  },
  {
   "cell_type": "code",
   "execution_count": null,
   "id": "afc3aaf6",
   "metadata": {},
   "outputs": [],
   "source": [
    "y_test=finaly_test_df.to_numpy()\n",
    "y_test=y_test[:,0]"
   ]
  },
  {
   "cell_type": "code",
   "execution_count": null,
   "id": "b57619a2",
   "metadata": {},
   "outputs": [],
   "source": [
    "X_test=finalx_test_df.to_numpy()"
   ]
  },
  {
   "cell_type": "code",
   "execution_count": null,
   "id": "0b3d30e9",
   "metadata": {},
   "outputs": [],
   "source": [
    "features_names=[\"number of reviews\", \"review rating mean\", \"review rating mean weigthed by verification\", \"number of verified reviews\",\"mean rank of 1st month\", \"mean rank of 2nd month\", \"mean rank of 3rd month\", \"median rank of 1st month\", \"median rank of 2nd month\", \"median rank of 3rd month\", \"min rank of 1st month\", \"min rank of 2nd month\", \"min rank of 3rd month\", \"mean rank\", \"median rank\", \"minimum rank\"]"
   ]
  },
  {
   "cell_type": "code",
   "execution_count": null,
   "id": "ebae4ee5",
   "metadata": {},
   "outputs": [],
   "source": [
    "#We first study the scikit Xgboost model using scikit permutation_importance and then with SHAP\n",
    "forest_scikit = joblib.load('./RandomForestBestModel_FullFeatures_Val.sav')\n",
    "xgboost_scikit = joblib.load('./XgboostBestModel_FullFeatures_Val.sav')"
   ]
  },
  {
   "cell_type": "code",
   "execution_count": null,
   "id": "6fc9186e",
   "metadata": {},
   "outputs": [],
   "source": [
    "perm_importance_forest = permutation_importance(forest_scikit, X_test, y_test)\n",
    "perm_importance_xgboost = permutation_importance(xgboost_scikit, X_test, y_test)"
   ]
  },
  {
   "cell_type": "code",
   "execution_count": null,
   "id": "42445c43",
   "metadata": {},
   "outputs": [],
   "source": [
    "sorted_idx = perm_importance_forest.importances_mean.argsort()\n",
    "features_names_forest=[features_names[i] for i in sorted_idx]\n",
    "plt.figure(figsize=(5,5))\n",
    "plt.barh(features_names_forest[11:], perm_importance_forest.importances_mean[sorted_idx[11:]])\n",
    "plt.xlabel(\"Permutation Importance Random Forest\")\n",
    "plt.savefig('./Partial_Dependence_Plots_Validation/FeatureImportance_Forest_Val_Perm_SmallPlot.png')"
   ]
  },
  {
   "cell_type": "code",
   "execution_count": null,
   "id": "9cd6817a",
   "metadata": {
    "scrolled": true
   },
   "outputs": [],
   "source": [
    "sorted_idx = perm_importance_forest.importances_mean.argsort()\n",
    "features_names_forest=[features_names[i] for i in sorted_idx]\n",
    "plt.figure(figsize=(10,10))\n",
    "plt.barh(features_names_forest, perm_importance_forest.importances_mean[sorted_idx])\n",
    "plt.xlabel(\"Permutation Importance Random Forest\")\n",
    "plt.savefig('./Partial_Dependence_Plots_Validation/FeatureImportance_Forest_Val_Perm.png')"
   ]
  },
  {
   "cell_type": "code",
   "execution_count": null,
   "id": "c9554d9e",
   "metadata": {},
   "outputs": [],
   "source": [
    "sorted_idx = perm_importance_xgboost.importances_mean.argsort()\n",
    "features_names_xgboost=[features_names[i] for i in sorted_idx]\n",
    "plt.figure(figsize=(5,5))\n",
    "plt.barh(features_names_xgboost[11:], perm_importance_xgboost.importances_mean[sorted_idx[11:]])\n",
    "plt.xlabel(\"Permutation Importance Xgboost\")\n",
    "plt.savefig('./Partial_Dependence_Plots_Validation/FeatureImportance_Xgboost_Val_Perm_SmallPlot.png')"
   ]
  },
  {
   "cell_type": "code",
   "execution_count": null,
   "id": "b95e06e7",
   "metadata": {},
   "outputs": [],
   "source": [
    "sorted_idx = perm_importance_xgboost.importances_mean.argsort()\n",
    "features_names_xgboost=[features_names[i] for i in sorted_idx]\n",
    "plt.figure(figsize=(10,10))\n",
    "plt.barh(features_names_xgboost, perm_importance_xgboost.importances_mean[sorted_idx])\n",
    "plt.xlabel(\"Permutation Importance Xgboost\")\n",
    "plt.savefig('./Partial_Dependence_Plots_Validation/FeatureImportance_Xgboost_Val_Perm.png')"
   ]
  },
  {
   "cell_type": "code",
   "execution_count": null,
   "id": "2ce88d13",
   "metadata": {},
   "outputs": [],
   "source": [
    "idx=features_names.index('min rank of 3rd month')\n",
    "#Partial dependence plot\n",
    "PartialDependenceDisplay.from_estimator(forest_scikit, X_test, features=[idx], feature_names=features_names)\n",
    "#plt.title('Partial dependence plot xgboost for the minimum rank of the 3rd month')\n",
    "plt.title('Random Forest')\n",
    "plt.savefig('./Partial_Dependence_Plots_Validation/PartialDepPlot_Forest_Validation_MinRank3rdMonth.png')"
   ]
  },
  {
   "cell_type": "code",
   "execution_count": null,
   "id": "d8d83024",
   "metadata": {
    "scrolled": true
   },
   "outputs": [],
   "source": [
    "idx=features_names.index('mean rank')\n",
    "#Partial dependence plot\n",
    "PartialDependenceDisplay.from_estimator(forest_scikit, X_test, features=[idx], feature_names=features_names)\n",
    "#plt.title('Partial dependence plot xgboost for rolling mean rank of 1st month')\n",
    "plt.title('Forest')\n",
    "plt.savefig('./Partial_Dependence_Plots_Validation/PartialDepPlot_Forest_Validation_MeanRank.png')"
   ]
  },
  {
   "cell_type": "code",
   "execution_count": null,
   "id": "e7112111",
   "metadata": {},
   "outputs": [],
   "source": [
    "idx=features_names.index('review rating mean')\n",
    "#Partial dependence plot\n",
    "PartialDependenceDisplay.from_estimator(forest_scikit, X_test, features=[idx], feature_names=features_names)\n",
    "#plt.title('Partial dependence plot xgboost for rolling mean rank of 1st month')\n",
    "plt.xlim([3.5,5])\n",
    "plt.ylim([0.173,0.179])\n",
    "plt.title('Forest')\n",
    "plt.savefig('./Partial_Dependence_Plots_Validation/PartialDepPlot_Forest_Validation_ReviewRatingMean.png')"
   ]
  },
  {
   "cell_type": "code",
   "execution_count": null,
   "id": "4480f204",
   "metadata": {
    "scrolled": false
   },
   "outputs": [],
   "source": [
    "idx=features_names.index('mean rank of 1st month')\n",
    "#Partial dependence plot\n",
    "PartialDependenceDisplay.from_estimator(forest_scikit, X_test, features=[idx], feature_names=features_names)\n",
    "#plt.title('Partial dependence plot xgboost for rolling mean rank of 1st month')\n",
    "plt.title('Forest')\n",
    "plt.savefig('./Partial_Dependence_Plots_Validation/PartialDepPlot_Forest_Validation_MeanRank1stMonth.png')"
   ]
  },
  {
   "cell_type": "code",
   "execution_count": null,
   "id": "c484af50",
   "metadata": {},
   "outputs": [],
   "source": [
    "idx=features_names.index('minimum rank')\n",
    "#Partial dependence plot\n",
    "PartialDependenceDisplay.from_estimator(forest_scikit, X_test, features=[idx], feature_names=features_names)\n",
    "#plt.title('Partial dependence plot xgboost for rolling minimum rank over 3 months')\n",
    "plt.title('Forest')\n",
    "plt.savefig('./Partial_Dependence_Plots/PartialDepPlot_Forest_Validation_MinRank.png')"
   ]
  },
  {
   "cell_type": "code",
   "execution_count": null,
   "id": "78b2e021",
   "metadata": {},
   "outputs": [],
   "source": [
    "idx=features_names.index('number of verified reviews')\n",
    "#Partial dependence plot\n",
    "PartialDependenceDisplay.from_estimator(forest_scikit, X_test, features=[idx], feature_names=features_names)\n",
    "#plt.title('Partial dependence plot xgboost number of verified reviews over 3 monthx')\n",
    "plt.xlim([0,50])\n",
    "plt.title('Forest')\n",
    "plt.savefig('./Partial_Dependence_Plots/PartialDepPlot_Forest_Validation_NumberVerifiedReviews.png')"
   ]
  },
  {
   "cell_type": "code",
   "execution_count": null,
   "id": "8894db3e",
   "metadata": {
    "scrolled": false
   },
   "outputs": [],
   "source": [
    "idx=features_names.index('number of reviews')\n",
    "#Partial dependence plot\n",
    "PartialDependenceDisplay.from_estimator(forest_scikit, X_test, features=[idx], feature_names=features_names)\n",
    "#plt.title('Partial dependence plot xgboost number of reviews over 3 months')\n",
    "plt.title('Forest')\n",
    "plt.savefig('./Partial_Dependence_Plots/PartialDepPlot_Forest_Validation_NumberReviews.png')"
   ]
  },
  {
   "cell_type": "code",
   "execution_count": null,
   "id": "7cda9801",
   "metadata": {},
   "outputs": [],
   "source": []
  },
  {
   "cell_type": "code",
   "execution_count": null,
   "id": "4813b340",
   "metadata": {
    "scrolled": true
   },
   "outputs": [],
   "source": [
    "idx=features_names.index('min rank of 3rd month')\n",
    "#Partial dependence plot\n",
    "PartialDependenceDisplay.from_estimator(xgboost_scikit, X_test, features=[idx], feature_names=features_names)\n",
    "#plt.title('Partial dependence plot xgboost for the minimum rank of the 3rd month')\n",
    "plt.title('Xgboost')\n",
    "plt.savefig('./Partial_Dependence_Plots_Validation/PartialDepPlot_Xgboost_Validation_MinRank3rdMonth.png')"
   ]
  },
  {
   "cell_type": "code",
   "execution_count": null,
   "id": "9caf21da",
   "metadata": {
    "scrolled": true
   },
   "outputs": [],
   "source": [
    "idx=features_names.index('mean rank of 1st month')\n",
    "#Partial dependence plot\n",
    "PartialDependenceDisplay.from_estimator(xgboost_scikit, X_test, features=[idx], feature_names=features_names)\n",
    "#plt.title('Partial dependence plot xgboost for rolling mean rank of 1st month')\n",
    "plt.title('Xgboost')\n",
    "plt.savefig('./Partial_Dependence_Plots_Validation/PartialDepPlot_Xgboost_Validation_MeanRank1stMonth.png')"
   ]
  },
  {
   "cell_type": "code",
   "execution_count": null,
   "id": "205ff14c",
   "metadata": {
    "scrolled": true
   },
   "outputs": [],
   "source": [
    "idx=features_names.index('minimum rank')\n",
    "#Partial dependence plot\n",
    "PartialDependenceDisplay.from_estimator(xgboost_scikit, X_test, features=[idx], feature_names=features_names)\n",
    "#plt.title('Partial dependence plot xgboost for rolling minimum rank over 3 months')\n",
    "plt.title('Xgboost')\n",
    "plt.savefig('./Partial_Dependence_Plots/PartialDepPlot_Xgboost_Validation_MinRank.png')"
   ]
  },
  {
   "cell_type": "code",
   "execution_count": null,
   "id": "00ade2b3",
   "metadata": {},
   "outputs": [],
   "source": [
    "idx=features_names.index('number of verified reviews')\n",
    "f,axs = plt.subplots(1,1,figsize=(3,2))\n",
    "#Partial dependence plot\n",
    "PartialDependenceDisplay.from_estimator(xgboost_scikit, X_test, features=[idx], feature_names=features_names, ax=axs)\n",
    "#plt.title('Partial dependence plot xgboost number of verified reviews over 3 monthx')\n",
    "plt.xlim([0,50])\n",
    "plt.ylim([-1,-0.1])\n",
    "plt.title('XGB')\n",
    "plt.savefig('./Partial_Dependence_Plots/PartialDepPlot_Xgboost_Validation_NumberVerifiedReviews.png')"
   ]
  },
  {
   "cell_type": "code",
   "execution_count": null,
   "id": "24c0655b",
   "metadata": {
    "scrolled": true
   },
   "outputs": [],
   "source": [
    "idx=features_names.index('number of reviews')\n",
    "#Partial dependence plot\n",
    "PartialDependenceDisplay.from_estimator(xgboost_scikit, X_test, features=[idx], feature_names=features_names)\n",
    "#plt.title('Partial dependence plot xgboost number of reviews over 3 months')\n",
    "plt.title('Xgboost')\n",
    "plt.savefig('./Partial_Dependence_Plots/PartialDepPlot_Xgboost_Validation_NumberReviews.png')"
   ]
  },
  {
   "cell_type": "code",
   "execution_count": null,
   "id": "2871db05",
   "metadata": {},
   "outputs": [],
   "source": [
    "idx=features_names.index('review rating mean')\n",
    "#Partial dependence plot\n",
    "PartialDependenceDisplay.from_estimator(xgboost_scikit, X_test, features=[idx], feature_names=features_names)\n",
    "#plt.title('Partial dependence plot xgboost for rolling mean rank of 1st month')\n",
    "plt.title('Xgboost')\n",
    "plt.savefig('./Partial_Dependence_Plots_Validation/PartialDepPlot_Xgboost_Validation_ReviewRatingMean.png')"
   ]
  },
  {
   "cell_type": "code",
   "execution_count": null,
   "id": "dac6621c",
   "metadata": {},
   "outputs": [],
   "source": []
  }
 ],
 "metadata": {
  "kernelspec": {
   "display_name": "Python 3 (ipykernel)",
   "language": "python",
   "name": "python3"
  },
  "language_info": {
   "codemirror_mode": {
    "name": "ipython",
    "version": 3
   },
   "file_extension": ".py",
   "mimetype": "text/x-python",
   "name": "python",
   "nbconvert_exporter": "python",
   "pygments_lexer": "ipython3",
   "version": "3.8.10"
  }
 },
 "nbformat": 4,
 "nbformat_minor": 5
}
