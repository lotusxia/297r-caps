{
 "cells": [
  {
   "cell_type": "code",
   "execution_count": 1,
   "id": "f144b973",
   "metadata": {},
   "outputs": [],
   "source": [
    "#THIS NOTEBOOK WAS CREATED AFTER REGRESSION_METADATA.IPYNB WHERE THE HYPERPARAMETER OPTIMIZATION WAS DONE\n",
    "#WE ARE THUS USING THE BEST HYPERPARAMETERS\n",
    "#WE ARE ALSO CONSIDERING HERE A DIFFERENT DATASET, I.E. NO WEIGHTED MEANS AND ADDITIONALLY: NUMBER OF RATINGS FEATURE, PRICE, ESTIMATED SALED"
   ]
  },
  {
   "cell_type": "code",
   "execution_count": 5,
   "id": "984bf282",
   "metadata": {},
   "outputs": [],
   "source": [
    "import numpy as np\n",
    "import pandas as pd\n",
    "import matplotlib.pyplot as plt\n",
    "import pickle\n",
    "from sklearn.linear_model import LinearRegression\n",
    "from sklearn.ensemble import GradientBoostingRegressor, RandomForestRegressor\n",
    "import joblib\n",
    "from sklearn import metrics\n",
    "import json"
   ]
  },
  {
   "cell_type": "code",
   "execution_count": 6,
   "id": "61c858bb",
   "metadata": {},
   "outputs": [],
   "source": [
    "finalx_train_df = pd.read_pickle('./X_train.pickle')\n",
    "finalx_test_df = pd.read_pickle('./X_test.pickle')\n",
    "finaly_train_df = pd.read_pickle('./y_train.pickle')\n",
    "finaly_test_df = pd.read_pickle('./y_test.pickle')\n",
    "del finalx_train_df['asin']\n",
    "del finalx_test_df['asin']\n",
    "del finaly_train_df['asin']\n",
    "del finaly_test_df['asin']"
   ]
  },
  {
   "cell_type": "code",
   "execution_count": 7,
   "id": "77e83635",
   "metadata": {},
   "outputs": [
    {
     "data": {
      "text/plain": [
       "target_est_sales    226.425307\n",
       "dtype: float64"
      ]
     },
     "execution_count": 7,
     "metadata": {},
     "output_type": "execute_result"
    }
   ],
   "source": [
    "finaly_test_df.std()"
   ]
  },
  {
   "cell_type": "code",
   "execution_count": 4,
   "id": "ccaf1aac",
   "metadata": {},
   "outputs": [],
   "source": [
    "#Create numpy array out of them\n",
    "y_train=finaly_train_df.to_numpy()\n",
    "y_train=y_train[:,0]\n",
    "y_test=finaly_test_df.to_numpy()\n",
    "y_test=y_test[:,0]\n",
    "X_train=finalx_train_df.to_numpy()\n",
    "X_test=finalx_test_df.to_numpy()"
   ]
  },
  {
   "cell_type": "code",
   "execution_count": 4,
   "id": "85b4070a",
   "metadata": {},
   "outputs": [
    {
     "data": {
      "text/plain": [
       "LinearRegression()"
      ]
     },
     "execution_count": 4,
     "metadata": {},
     "output_type": "execute_result"
    }
   ],
   "source": [
    "#Linear Regression \n",
    "regressor=LinearRegression()\n",
    "regressor.fit(X_train,y_train)"
   ]
  },
  {
   "cell_type": "code",
   "execution_count": 5,
   "id": "34497eb0",
   "metadata": {},
   "outputs": [
    {
     "data": {
      "text/plain": [
       "['./OptimizedModels/Regression_model_Opt.sav']"
      ]
     },
     "execution_count": 5,
     "metadata": {},
     "output_type": "execute_result"
    }
   ],
   "source": [
    "#Saving the model\n",
    "filename_regression = './OptimizedModels/Regression_model_Opt.sav'\n",
    "joblib.dump(regressor, filename_regression)"
   ]
  },
  {
   "cell_type": "code",
   "execution_count": 6,
   "id": "aaebf129",
   "metadata": {},
   "outputs": [],
   "source": [
    "#Making prediction\n",
    "y_pred = regressor.predict(X_test)\n",
    "MAE_Regression=metrics.mean_absolute_error(y_test, y_pred)\n",
    "MSE_Regression=metrics.mean_squared_error(y_test, y_pred)\n",
    "RMSE_Regression=np.sqrt(metrics.mean_squared_error(y_test, y_pred))\n",
    "R2_Regression=metrics.r2_score(y_test, y_pred)"
   ]
  },
  {
   "cell_type": "code",
   "execution_count": 7,
   "id": "0197c007",
   "metadata": {},
   "outputs": [],
   "source": [
    "RegRes_dict={'Mean Absolute Error ': MAE_Regression,\n",
    "             'Mean Squared Error': MSE_Regression, \n",
    "             'Root Mean Squared Error': RMSE_Regression, \n",
    "             'R2 ': R2_Regression}"
   ]
  },
  {
   "cell_type": "code",
   "execution_count": 11,
   "id": "2323fb66",
   "metadata": {},
   "outputs": [],
   "source": [
    "with open('./OptimizedModels/RegressionMetricsOpt.json', 'w') as f:\n",
    "    json.dump(RegRes_dict, f)"
   ]
  },
  {
   "cell_type": "code",
   "execution_count": null,
   "id": "a4e0d01a",
   "metadata": {},
   "outputs": [],
   "source": []
  },
  {
   "cell_type": "code",
   "execution_count": 12,
   "id": "33a94ddf",
   "metadata": {},
   "outputs": [],
   "source": [
    "#XgBoost HERE WE USE THE OPTIMIZED LEARNING RATES\n",
    "xgboost=GradientBoostingRegressor(learning_rate=0.05,n_estimators=500)\n",
    "xgboost.fit(X_train,y_train)\n",
    "y_pred_boost = xgboost.predict(X_test)"
   ]
  },
  {
   "cell_type": "code",
   "execution_count": 13,
   "id": "4c253051",
   "metadata": {},
   "outputs": [
    {
     "data": {
      "text/plain": [
       "['./OptimizedModels/Xgboost_model_Opt.sav']"
      ]
     },
     "execution_count": 13,
     "metadata": {},
     "output_type": "execute_result"
    }
   ],
   "source": [
    "#Saving the model\n",
    "filename_xgboost = './OptimizedModels/Xgboost_model_Opt.sav'\n",
    "joblib.dump(xgboost, filename_xgboost)"
   ]
  },
  {
   "cell_type": "code",
   "execution_count": null,
   "id": "33d771be",
   "metadata": {},
   "outputs": [],
   "source": [
    "MAE_Xgboost=metrics.mean_absolute_error(y_test, y_pred_boost)\n",
    "MSE_Xgboost=metrics.mean_squared_error(y_test, y_pred_boost)\n",
    "RMSE_Xgboost=np.sqrt(metrics.mean_squared_error(y_test, y_pred_boost))\n",
    "R2_Xgboost=metrics.r2_score(y_test, y_pred_boost)"
   ]
  },
  {
   "cell_type": "code",
   "execution_count": null,
   "id": "018bfefb",
   "metadata": {},
   "outputs": [],
   "source": [
    "XgboostRes_dict={'Mean Absolute Error default': MAE_Xgboost,\n",
    "             'Mean Squared Error default': MSE_Xgboost, \n",
    "             'Root Mean Squared Error default': RMSE_Xgboost, \n",
    "             'R2 default': R2_Xgboost}"
   ]
  },
  {
   "cell_type": "code",
   "execution_count": null,
   "id": "b75bd1c3",
   "metadata": {},
   "outputs": [],
   "source": [
    "# with weighted mean R2 score was 0.38668153513067294\n",
    "print(XgboostRes_dict)"
   ]
  },
  {
   "cell_type": "code",
   "execution_count": null,
   "id": "8a132e69",
   "metadata": {},
   "outputs": [],
   "source": [
    "with open('./OptimizedModels/XgboostMetrics_Opt.json', 'w') as f:\n",
    "    json.dump(XgboostRes_dict, f)"
   ]
  },
  {
   "cell_type": "code",
   "execution_count": null,
   "id": "ac3c1748",
   "metadata": {},
   "outputs": [],
   "source": []
  },
  {
   "cell_type": "code",
   "execution_count": null,
   "id": "c64646b7",
   "metadata": {},
   "outputs": [],
   "source": [
    "#random forest HERE WE USE THE OPTIMIZED LEARNING RATES\n",
    "forest=RandomForestRegressor(max_depth=None, n_estimators=500)\n",
    "forest.fit(X_train,y_train)\n",
    "y_pred_forest = forest.predict(X_test)"
   ]
  },
  {
   "cell_type": "code",
   "execution_count": null,
   "id": "00aa7df4",
   "metadata": {},
   "outputs": [],
   "source": [
    "#Saving the model\n",
    "filename_Randomforest = './OptimizedModels/Randomforest_model_Opt.sav'\n",
    "joblib.dump(forest, filename_Randomforest)"
   ]
  },
  {
   "cell_type": "code",
   "execution_count": null,
   "id": "a52ebd88",
   "metadata": {},
   "outputs": [],
   "source": [
    "MAE_forest=metrics.mean_absolute_error(y_test, y_pred_forest)\n",
    "MSE_forest=metrics.mean_squared_error(y_test, y_pred_forest)\n",
    "RMSE_forest=np.sqrt(metrics.mean_squared_error(y_test, y_pred_forest))\n",
    "R2_forest=metrics.r2_score(y_test, y_pred_forest)"
   ]
  },
  {
   "cell_type": "code",
   "execution_count": null,
   "id": "0b9dd778",
   "metadata": {},
   "outputs": [],
   "source": [
    "ForestRes_dict={'Mean Absolute Error default': MAE_forest,\n",
    "             'Mean Squared Error default': MSE_forest, \n",
    "             'Root Mean Squared Error default': RMSE_forest, \n",
    "             'R2 default ': R2_forest}"
   ]
  },
  {
   "cell_type": "code",
   "execution_count": null,
   "id": "52652f35",
   "metadata": {},
   "outputs": [],
   "source": [
    "with open('./OptimizedModels/ForestMetrics_Opt.json', 'w') as f:\n",
    "    json.dump(ForestRes_dict, f)"
   ]
  },
  {
   "cell_type": "code",
   "execution_count": null,
   "id": "e0fefb6c",
   "metadata": {},
   "outputs": [],
   "source": []
  }
 ],
 "metadata": {
  "kernelspec": {
   "display_name": "Python 3 (ipykernel)",
   "language": "python",
   "name": "python3"
  },
  "language_info": {
   "codemirror_mode": {
    "name": "ipython",
    "version": 3
   },
   "file_extension": ".py",
   "mimetype": "text/x-python",
   "name": "python",
   "nbconvert_exporter": "python",
   "pygments_lexer": "ipython3",
   "version": "3.8.10"
  }
 },
 "nbformat": 4,
 "nbformat_minor": 5
}
