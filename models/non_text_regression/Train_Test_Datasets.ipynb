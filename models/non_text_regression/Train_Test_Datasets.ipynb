{
 "cells": [
  {
   "cell_type": "code",
   "execution_count": 12,
   "id": "e57af6ce",
   "metadata": {},
   "outputs": [],
   "source": [
    "import csv\n",
    "import numpy as np\n",
    "import pandas as pd\n",
    "import matplotlib.pyplot as plt\n",
    "import pickle\n",
    "import glob\n",
    "from random import sample"
   ]
  },
  {
   "cell_type": "code",
   "execution_count": 13,
   "id": "55bf5306",
   "metadata": {},
   "outputs": [],
   "source": [
    "products_df = pd.read_pickle('./merged_bsr_review_cumulative.pickle')"
   ]
  },
  {
   "cell_type": "code",
   "execution_count": 14,
   "id": "b8d2ba5b",
   "metadata": {},
   "outputs": [
    {
     "data": {
      "text/html": [
       "<div>\n",
       "<style scoped>\n",
       "    .dataframe tbody tr th:only-of-type {\n",
       "        vertical-align: middle;\n",
       "    }\n",
       "\n",
       "    .dataframe tbody tr th {\n",
       "        vertical-align: top;\n",
       "    }\n",
       "\n",
       "    .dataframe thead th {\n",
       "        text-align: right;\n",
       "    }\n",
       "</style>\n",
       "<table border=\"1\" class=\"dataframe\">\n",
       "  <thead>\n",
       "    <tr style=\"text-align: right;\">\n",
       "      <th></th>\n",
       "      <th>asin</th>\n",
       "      <th>year_month</th>\n",
       "      <th>reviewvotes_num</th>\n",
       "      <th>reviewrating</th>\n",
       "      <th>reviewverifiedpurchase</th>\n",
       "      <th>country_name</th>\n",
       "      <th>mean_month_rank</th>\n",
       "      <th>median_month_rank</th>\n",
       "      <th>mean_month_est_sales</th>\n",
       "      <th>median_month_est_sales</th>\n",
       "      <th>...</th>\n",
       "      <th>cumulative_numrev_list</th>\n",
       "      <th>revrating_weightmean</th>\n",
       "      <th>revrating_mean</th>\n",
       "      <th>reviewrating_meanverified</th>\n",
       "      <th>cumulative_weightrating</th>\n",
       "      <th>cumulative_weightrating_list</th>\n",
       "      <th>cumulative_rating</th>\n",
       "      <th>cumulative_rating_list</th>\n",
       "      <th>cumulative_rating_verified</th>\n",
       "      <th>cumulative_rating_verified_list</th>\n",
       "    </tr>\n",
       "  </thead>\n",
       "  <tbody>\n",
       "    <tr>\n",
       "      <th>0</th>\n",
       "      <td>B000052XB5</td>\n",
       "      <td>2018-01-01</td>\n",
       "      <td>[0, 1, 0, 0, 0, 0, 0, 0, 0, 0, 0, 0, 0, 0, 0, 5]</td>\n",
       "      <td>[5.0, 4.0, 5.0, 1.0, 2.0, 5.0, 5.0, 5.0, 4.0, ...</td>\n",
       "      <td>[True, True, True, True, True, True, True, Tru...</td>\n",
       "      <td>[ United States,  United States,  United State...</td>\n",
       "      <td>0.097395</td>\n",
       "      <td>0.097395</td>\n",
       "      <td>379.588710</td>\n",
       "      <td>379.7500</td>\n",
       "      <td>...</td>\n",
       "      <td>[16, 5, 17, 8, 15, 9]</td>\n",
       "      <td>4.0</td>\n",
       "      <td>4.187500</td>\n",
       "      <td>4.187500</td>\n",
       "      <td>3.962772</td>\n",
       "      <td>[4.0, 3.0, 5.0, 3.0, 4.333333333333333, 4.4432...</td>\n",
       "      <td>4.164910</td>\n",
       "      <td>[4.1875, 4.0, 4.235294117647059, 3.5, 4.4, 4.6...</td>\n",
       "      <td>4.264881</td>\n",
       "      <td>[4.1875, 4.0, 4.1875, 4.0, 4.357142857142857, ...</td>\n",
       "    </tr>\n",
       "    <tr>\n",
       "      <th>1</th>\n",
       "      <td>B000052XB5</td>\n",
       "      <td>2019-01-01</td>\n",
       "      <td>[0, 0, 0, 0, 0, 0, 0, 0, 0, 0]</td>\n",
       "      <td>[5.0, 5.0, 5.0, 1.0, 5.0, 1.0, 5.0, 5.0, 5.0, ...</td>\n",
       "      <td>[True, True, True, True, True, False, True, Tr...</td>\n",
       "      <td>[ United States,  United States,  United State...</td>\n",
       "      <td>0.085390</td>\n",
       "      <td>0.085390</td>\n",
       "      <td>395.383065</td>\n",
       "      <td>401.5000</td>\n",
       "      <td>...</td>\n",
       "      <td>[16, 10, 16, 9, 13, 8, 13, 19, 5, 18, 17, 11, ...</td>\n",
       "      <td>0.0</td>\n",
       "      <td>4.100000</td>\n",
       "      <td>4.444444</td>\n",
       "      <td>2.716206</td>\n",
       "      <td>[4.0, 0.0, 4.5, 4.285714285714286, 2.222222222...</td>\n",
       "      <td>4.101358</td>\n",
       "      <td>[4.1875, 4.1, 4.0625, 4.222222222222222, 3.230...</td>\n",
       "      <td>4.213999</td>\n",
       "      <td>[4.1875, 4.444444444444445, 4.0625, 4.85714285...</td>\n",
       "    </tr>\n",
       "    <tr>\n",
       "      <th>2</th>\n",
       "      <td>B000052XB5</td>\n",
       "      <td>2020-01-01</td>\n",
       "      <td>[0, 0, 0, 0, 0, 0, 0, 0, 0, 0, 1]</td>\n",
       "      <td>[5.0, 5.0, 5.0, 4.0, 5.0, 5.0, 1.0, 5.0, 5.0, ...</td>\n",
       "      <td>[True, True, True, True, True, True, True, Tru...</td>\n",
       "      <td>[ United States,  United States,  United State...</td>\n",
       "      <td>0.045969</td>\n",
       "      <td>0.045969</td>\n",
       "      <td>461.209677</td>\n",
       "      <td>455.0000</td>\n",
       "      <td>...</td>\n",
       "      <td>[16, 10, 11, 16, 6, 9, 24, 13, 4, 8, 12, 13, 5...</td>\n",
       "      <td>1.0</td>\n",
       "      <td>4.000000</td>\n",
       "      <td>3.900000</td>\n",
       "      <td>2.294570</td>\n",
       "      <td>[4.0, 0.0, 1.0, 4.5, 1.0, 4.285714285714286, 1...</td>\n",
       "      <td>4.031896</td>\n",
       "      <td>[4.1875, 4.1, 4.0, 4.0625, 3.6666666666666665,...</td>\n",
       "      <td>4.087718</td>\n",
       "      <td>[4.1875, 4.444444444444445, 3.9, 4.0625, 3.4, ...</td>\n",
       "    </tr>\n",
       "    <tr>\n",
       "      <th>3</th>\n",
       "      <td>B000052XB5</td>\n",
       "      <td>2021-01-01</td>\n",
       "      <td>[0, 0, 1, 0, 0, 0, 0, 0, 0, 0, 0, 0, 0, 0, 0, ...</td>\n",
       "      <td>[5.0, 5.0, 1.0, 5.0, 4.0, 5.0, 5.0, 1.0, 4.0, ...</td>\n",
       "      <td>[True, True, True, True, True, True, True, Fal...</td>\n",
       "      <td>[ United States,  United States,  United State...</td>\n",
       "      <td>0.023476</td>\n",
       "      <td>0.023476</td>\n",
       "      <td>511.620968</td>\n",
       "      <td>512.5000</td>\n",
       "      <td>...</td>\n",
       "      <td>[16, 10, 11, 19, 16, 6, 18, 9, 24, 9, 13, 4, 1...</td>\n",
       "      <td>1.0</td>\n",
       "      <td>3.315789</td>\n",
       "      <td>3.750000</td>\n",
       "      <td>2.357439</td>\n",
       "      <td>[4.0, 0.0, 1.0, 1.0, 4.5, 1.0, 5.0, 4.28571428...</td>\n",
       "      <td>3.960198</td>\n",
       "      <td>[4.1875, 4.1, 4.0, 3.3157894736842106, 4.0625,...</td>\n",
       "      <td>4.012213</td>\n",
       "      <td>[4.1875, 4.444444444444445, 3.9, 3.75, 4.0625,...</td>\n",
       "    </tr>\n",
       "    <tr>\n",
       "      <th>4</th>\n",
       "      <td>B000052XB5</td>\n",
       "      <td>2018-02-01</td>\n",
       "      <td>[0, 0, 0, 3, 1, 0, 0, 0, 1, 0, 0, 1, 0, 5, 1, 0]</td>\n",
       "      <td>[3.0, 5.0, 5.0, 5.0, 1.0, 2.0, 5.0, 5.0, 5.0, ...</td>\n",
       "      <td>[True, True, True, True, True, True, True, Tru...</td>\n",
       "      <td>[ United States,  United States,  United State...</td>\n",
       "      <td>0.120613</td>\n",
       "      <td>0.120613</td>\n",
       "      <td>355.897321</td>\n",
       "      <td>372.3125</td>\n",
       "      <td>...</td>\n",
       "      <td>[16, 16, 5, 17, 8, 15, 9]</td>\n",
       "      <td>4.5</td>\n",
       "      <td>4.062500</td>\n",
       "      <td>4.062500</td>\n",
       "      <td>4.039519</td>\n",
       "      <td>[4.0, 4.5, 3.0, 5.0, 3.0, 4.333333333333333, 4...</td>\n",
       "      <td>4.150280</td>\n",
       "      <td>[4.1875, 4.0625, 4.0, 4.235294117647059, 3.5, ...</td>\n",
       "      <td>4.235969</td>\n",
       "      <td>[4.1875, 4.0625, 4.0, 4.1875, 4.0, 4.357142857...</td>\n",
       "    </tr>\n",
       "  </tbody>\n",
       "</table>\n",
       "<p>5 rows × 26 columns</p>\n",
       "</div>"
      ],
      "text/plain": [
       "         asin year_month                                    reviewvotes_num  \\\n",
       "0  B000052XB5 2018-01-01   [0, 1, 0, 0, 0, 0, 0, 0, 0, 0, 0, 0, 0, 0, 0, 5]   \n",
       "1  B000052XB5 2019-01-01                     [0, 0, 0, 0, 0, 0, 0, 0, 0, 0]   \n",
       "2  B000052XB5 2020-01-01                  [0, 0, 0, 0, 0, 0, 0, 0, 0, 0, 1]   \n",
       "3  B000052XB5 2021-01-01  [0, 0, 1, 0, 0, 0, 0, 0, 0, 0, 0, 0, 0, 0, 0, ...   \n",
       "4  B000052XB5 2018-02-01   [0, 0, 0, 3, 1, 0, 0, 0, 1, 0, 0, 1, 0, 5, 1, 0]   \n",
       "\n",
       "                                        reviewrating  \\\n",
       "0  [5.0, 4.0, 5.0, 1.0, 2.0, 5.0, 5.0, 5.0, 4.0, ...   \n",
       "1  [5.0, 5.0, 5.0, 1.0, 5.0, 1.0, 5.0, 5.0, 5.0, ...   \n",
       "2  [5.0, 5.0, 5.0, 4.0, 5.0, 5.0, 1.0, 5.0, 5.0, ...   \n",
       "3  [5.0, 5.0, 1.0, 5.0, 4.0, 5.0, 5.0, 1.0, 4.0, ...   \n",
       "4  [3.0, 5.0, 5.0, 5.0, 1.0, 2.0, 5.0, 5.0, 5.0, ...   \n",
       "\n",
       "                              reviewverifiedpurchase  \\\n",
       "0  [True, True, True, True, True, True, True, Tru...   \n",
       "1  [True, True, True, True, True, False, True, Tr...   \n",
       "2  [True, True, True, True, True, True, True, Tru...   \n",
       "3  [True, True, True, True, True, True, True, Fal...   \n",
       "4  [True, True, True, True, True, True, True, Tru...   \n",
       "\n",
       "                                        country_name  mean_month_rank  \\\n",
       "0  [ United States,  United States,  United State...         0.097395   \n",
       "1  [ United States,  United States,  United State...         0.085390   \n",
       "2  [ United States,  United States,  United State...         0.045969   \n",
       "3  [ United States,  United States,  United State...         0.023476   \n",
       "4  [ United States,  United States,  United State...         0.120613   \n",
       "\n",
       "   median_month_rank  mean_month_est_sales  median_month_est_sales  ...  \\\n",
       "0           0.097395            379.588710                379.7500  ...   \n",
       "1           0.085390            395.383065                401.5000  ...   \n",
       "2           0.045969            461.209677                455.0000  ...   \n",
       "3           0.023476            511.620968                512.5000  ...   \n",
       "4           0.120613            355.897321                372.3125  ...   \n",
       "\n",
       "                              cumulative_numrev_list  revrating_weightmean  \\\n",
       "0                              [16, 5, 17, 8, 15, 9]                   4.0   \n",
       "1  [16, 10, 16, 9, 13, 8, 13, 19, 5, 18, 17, 11, ...                   0.0   \n",
       "2  [16, 10, 11, 16, 6, 9, 24, 13, 4, 8, 12, 13, 5...                   1.0   \n",
       "3  [16, 10, 11, 19, 16, 6, 18, 9, 24, 9, 13, 4, 1...                   1.0   \n",
       "4                          [16, 16, 5, 17, 8, 15, 9]                   4.5   \n",
       "\n",
       "   revrating_mean  reviewrating_meanverified  cumulative_weightrating  \\\n",
       "0        4.187500                   4.187500                 3.962772   \n",
       "1        4.100000                   4.444444                 2.716206   \n",
       "2        4.000000                   3.900000                 2.294570   \n",
       "3        3.315789                   3.750000                 2.357439   \n",
       "4        4.062500                   4.062500                 4.039519   \n",
       "\n",
       "                        cumulative_weightrating_list cumulative_rating  \\\n",
       "0  [4.0, 3.0, 5.0, 3.0, 4.333333333333333, 4.4432...          4.164910   \n",
       "1  [4.0, 0.0, 4.5, 4.285714285714286, 2.222222222...          4.101358   \n",
       "2  [4.0, 0.0, 1.0, 4.5, 1.0, 4.285714285714286, 1...          4.031896   \n",
       "3  [4.0, 0.0, 1.0, 1.0, 4.5, 1.0, 5.0, 4.28571428...          3.960198   \n",
       "4  [4.0, 4.5, 3.0, 5.0, 3.0, 4.333333333333333, 4...          4.150280   \n",
       "\n",
       "                              cumulative_rating_list  \\\n",
       "0  [4.1875, 4.0, 4.235294117647059, 3.5, 4.4, 4.6...   \n",
       "1  [4.1875, 4.1, 4.0625, 4.222222222222222, 3.230...   \n",
       "2  [4.1875, 4.1, 4.0, 4.0625, 3.6666666666666665,...   \n",
       "3  [4.1875, 4.1, 4.0, 3.3157894736842106, 4.0625,...   \n",
       "4  [4.1875, 4.0625, 4.0, 4.235294117647059, 3.5, ...   \n",
       "\n",
       "   cumulative_rating_verified  \\\n",
       "0                    4.264881   \n",
       "1                    4.213999   \n",
       "2                    4.087718   \n",
       "3                    4.012213   \n",
       "4                    4.235969   \n",
       "\n",
       "                     cumulative_rating_verified_list  \n",
       "0  [4.1875, 4.0, 4.1875, 4.0, 4.357142857142857, ...  \n",
       "1  [4.1875, 4.444444444444445, 4.0625, 4.85714285...  \n",
       "2  [4.1875, 4.444444444444445, 3.9, 4.0625, 3.4, ...  \n",
       "3  [4.1875, 4.444444444444445, 3.9, 3.75, 4.0625,...  \n",
       "4  [4.1875, 4.0625, 4.0, 4.1875, 4.0, 4.357142857...  \n",
       "\n",
       "[5 rows x 26 columns]"
      ]
     },
     "execution_count": 14,
     "metadata": {},
     "output_type": "execute_result"
    }
   ],
   "source": [
    "products_df.head()"
   ]
  },
  {
   "cell_type": "code",
   "execution_count": 15,
   "id": "1509a44f",
   "metadata": {},
   "outputs": [
    {
     "name": "stdout",
     "output_type": "stream",
     "text": [
      "['asin', 'year_month', 'reviewvotes_num', 'reviewrating', 'reviewverifiedpurchase', 'country_name', 'mean_month_rank', 'median_month_rank', 'mean_month_est_sales', 'median_month_est_sales', 'rolling_median_month_rank', 'mean_month_price', 'median_month_price', 'target_est_sales', 'num_reviews_month', 'cumulative_num_reviews', 'cumulative_numrev_list', 'revrating_weightmean', 'revrating_mean', 'reviewrating_meanverified', 'cumulative_weightrating', 'cumulative_weightrating_list', 'cumulative_rating', 'cumulative_rating_list', 'cumulative_rating_verified', 'cumulative_rating_verified_list']\n"
     ]
    }
   ],
   "source": [
    "print(products_df.columns.tolist())"
   ]
  },
  {
   "cell_type": "code",
   "execution_count": 16,
   "id": "5e86cb8c",
   "metadata": {},
   "outputs": [],
   "source": [
    "asins=products_df[\"asin\"].unique()"
   ]
  },
  {
   "cell_type": "code",
   "execution_count": 5,
   "id": "02dc5f54",
   "metadata": {},
   "outputs": [],
   "source": [
    "#Number of products to train on: num_train corresponds to 1/3 of all the products\n",
    "#num_train=int(np.ceil(len(asins)/3))"
   ]
  },
  {
   "cell_type": "code",
   "execution_count": 6,
   "id": "3ad3df23",
   "metadata": {},
   "outputs": [],
   "source": [
    "#create the indices that will be used to train and test\n",
    "#train_prod_indices=sample(range(0, len(asins)), num_train)\n",
    "#train_prod_indices.sort()\n",
    "#test_prod_indices=[x for x in range(0,len(asins)) if x not in train_prod_indices]"
   ]
  },
  {
   "cell_type": "code",
   "execution_count": 12,
   "id": "8925a2a6",
   "metadata": {},
   "outputs": [],
   "source": [
    "#create the train and test data sets\n",
    "#aux_train_df=products_df[products_df['asin'].isin(asins[train_prod_indices])]\n",
    "#aux_test_df=products_df[products_df['asin'].isin(asins[test_prod_indices])]\n",
    "#print(aux_test_df.shape, aux_train_df.shape)"
   ]
  },
  {
   "cell_type": "code",
   "execution_count": 17,
   "id": "43fc4680",
   "metadata": {},
   "outputs": [],
   "source": [
    "#using the list compiled by Lotus instead of here creating random sample\n",
    "traintestlist = pd.read_pickle('./product_sample.pickle')"
   ]
  },
  {
   "cell_type": "code",
   "execution_count": 18,
   "id": "24f99128",
   "metadata": {},
   "outputs": [
    {
     "name": "stdout",
     "output_type": "stream",
     "text": [
      "(21813, 26) (61199, 26)\n"
     ]
    }
   ],
   "source": [
    "aux_train_df=products_df[products_df['asin'].isin(traintestlist['train'])]\n",
    "aux_test_df=products_df[products_df['asin'].isin(traintestlist['test'])]\n",
    "print(aux_test_df.shape, aux_train_df.shape)"
   ]
  },
  {
   "cell_type": "code",
   "execution_count": 22,
   "id": "b717da4d",
   "metadata": {},
   "outputs": [
    {
     "name": "stdout",
     "output_type": "stream",
     "text": [
      "(68559, 8) (24340, 8)\n"
     ]
    }
   ],
   "source": [
    "#Ignore this because inlcuding the weighted mean data\n",
    "#finalx_train_df=aux_train_df[['asin','mean_month_rank','revrating_weightmean','revrating_mean','reviewrating_meanverified','cumulative_weightrating','cumulative_rating','cumulative_rating_verified']]\n",
    "#finalx_test_df=aux_test_df[['asin','mean_month_rank','revrating_weightmean','revrating_mean','reviewrating_meanverified','cumulative_weightrating','cumulative_rating','cumulative_rating_verified']]\n",
    "#finaly_train_df=aux_train_df[['asin','rank_change']]\n",
    "#finaly_test_df=aux_test_df[['asin','rank_change']]\n",
    "#print(finalx_train_df.shape,finalx_test_df.shape)"
   ]
  },
  {
   "cell_type": "code",
   "execution_count": 20,
   "id": "b13c1dbc",
   "metadata": {},
   "outputs": [
    {
     "name": "stdout",
     "output_type": "stream",
     "text": [
      "(61199, 12) (21813, 12)\n",
      "(61199, 2) (21813, 2)\n"
     ]
    }
   ],
   "source": [
    "#Xtrain without the weighted mean\n",
    "#Creating the final dataframes that will be used to create the final inputs for the regression in train and test phases\n",
    "#Also including the non-cumulative data because if a specific month is getting a lot of positive reviews probably sign that getting good.\n",
    "finalx_train_df=aux_train_df[['asin','cumulative_num_reviews','num_reviews_month','mean_month_rank','revrating_mean','reviewrating_meanverified','cumulative_rating','cumulative_rating_verified','mean_month_price', 'median_month_price','mean_month_est_sales', 'median_month_est_sales']]\n",
    "finalx_test_df=aux_test_df[['asin','cumulative_num_reviews','num_reviews_month','mean_month_rank','revrating_mean','reviewrating_meanverified','cumulative_rating','cumulative_rating_verified','mean_month_price', 'median_month_price','mean_month_est_sales', 'median_month_est_sales']]\n",
    "finaly_train_df=aux_train_df[['asin','target_est_sales']]\n",
    "finaly_test_df=aux_test_df[['asin','target_est_sales']]\n",
    "print(finalx_train_df.shape,finalx_test_df.shape)\n",
    "print(finaly_train_df.shape,finaly_test_df.shape)"
   ]
  },
  {
   "cell_type": "code",
   "execution_count": 21,
   "id": "6222449e",
   "metadata": {},
   "outputs": [
    {
     "name": "stdout",
     "output_type": "stream",
     "text": [
      "(61199, 42) (21813, 42)\n"
     ]
    }
   ],
   "source": [
    "#Need to rearrange the data in final_x to then use to_numpy to get numpy array for input to regression\n",
    "aux_train_concat_df=pd.DataFrame(np.array(aux_train_df['rolling_median_month_rank'].values.tolist()))\n",
    "aux_test_concat_df=pd.DataFrame(np.array(aux_test_df['rolling_median_month_rank'].values.tolist()))\n",
    "finalx_train_df=pd.concat([finalx_train_df.reset_index(drop=True),aux_train_concat_df.reset_index(drop=True)],axis=1)\n",
    "finalx_test_df=pd.concat([finalx_test_df.reset_index(drop=True),aux_test_concat_df.reset_index(drop=True)],axis=1)\n",
    "print(finalx_train_df.shape,finalx_test_df.shape)"
   ]
  },
  {
   "cell_type": "code",
   "execution_count": 22,
   "id": "1df39d8a",
   "metadata": {},
   "outputs": [],
   "source": [
    "#Create pickle files for train and test\n",
    "finalx_train_df.to_pickle('./X_train.pickle')\n",
    "finalx_test_df.to_pickle('./X_test.pickle')\n",
    "finaly_train_df.to_pickle('./y_train.pickle')\n",
    "finaly_test_df.to_pickle('./y_test.pickle')"
   ]
  },
  {
   "cell_type": "code",
   "execution_count": null,
   "id": "c22117db",
   "metadata": {},
   "outputs": [],
   "source": []
  }
 ],
 "metadata": {
  "kernelspec": {
   "display_name": "Python 3 (ipykernel)",
   "language": "python",
   "name": "python3"
  },
  "language_info": {
   "codemirror_mode": {
    "name": "ipython",
    "version": 3
   },
   "file_extension": ".py",
   "mimetype": "text/x-python",
   "name": "python",
   "nbconvert_exporter": "python",
   "pygments_lexer": "ipython3",
   "version": "3.8.10"
  }
 },
 "nbformat": 4,
 "nbformat_minor": 5
}
