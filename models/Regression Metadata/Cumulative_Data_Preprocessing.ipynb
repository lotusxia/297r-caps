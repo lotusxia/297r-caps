{
 "cells": [
  {
   "cell_type": "code",
   "execution_count": 1,
   "id": "3a598224",
   "metadata": {},
   "outputs": [],
   "source": [
    "import csv\n",
    "import numpy as np\n",
    "import pandas as pd\n",
    "import matplotlib.pyplot as plt\n",
    "import pickle\n",
    "import glob"
   ]
  },
  {
   "cell_type": "code",
   "execution_count": 2,
   "id": "4847633e",
   "metadata": {},
   "outputs": [],
   "source": [
    "# Loading the review texts\n",
    "review_df = pd.read_pickle('./month_level_review.pickle')\n",
    "review_df = review_df[['asin', 'year_month', 'reviewvotes_num','reviewrating','reviewverifiedpurchase','country_name']]"
   ]
  },
  {
   "cell_type": "code",
   "execution_count": 4,
   "id": "8c03cbb0",
   "metadata": {},
   "outputs": [],
   "source": [
    "# Loading the rank data\n",
    "bsr_df = pd.read_pickle('./month_level_rank.pickle')\n",
    "bsr_df = bsr_df[['asin', 'year_month', 'mean_month_rank', 'median_month_rank', 'mean_month_est_sales','median_month_est_sales', 'rolling_median_month_rank','mean_month_price','median_month_price']]"
   ]
  },
  {
   "cell_type": "code",
   "execution_count": 11,
   "id": "156df5bf",
   "metadata": {},
   "outputs": [
    {
     "data": {
      "text/html": [
       "<div>\n",
       "<style scoped>\n",
       "    .dataframe tbody tr th:only-of-type {\n",
       "        vertical-align: middle;\n",
       "    }\n",
       "\n",
       "    .dataframe tbody tr th {\n",
       "        vertical-align: top;\n",
       "    }\n",
       "\n",
       "    .dataframe thead th {\n",
       "        text-align: right;\n",
       "    }\n",
       "</style>\n",
       "<table border=\"1\" class=\"dataframe\">\n",
       "  <thead>\n",
       "    <tr style=\"text-align: right;\">\n",
       "      <th></th>\n",
       "      <th>asin</th>\n",
       "      <th>year_month</th>\n",
       "      <th>mean_month_rank</th>\n",
       "      <th>median_month_rank</th>\n",
       "      <th>mean_month_est_sales</th>\n",
       "      <th>median_month_est_sales</th>\n",
       "      <th>rolling_median_month_rank</th>\n",
       "      <th>mean_month_price</th>\n",
       "      <th>median_month_price</th>\n",
       "      <th>target_est_sales</th>\n",
       "    </tr>\n",
       "  </thead>\n",
       "  <tbody>\n",
       "    <tr>\n",
       "      <th>0</th>\n",
       "      <td>B000052XB5</td>\n",
       "      <td>2017-08-01</td>\n",
       "      <td>0.088999</td>\n",
       "      <td>0.088999</td>\n",
       "      <td>389.705645</td>\n",
       "      <td>396.000</td>\n",
       "      <td>[0.03545335800240161, 0.03545335800240161, 0.0...</td>\n",
       "      <td>15.290000</td>\n",
       "      <td>15.29</td>\n",
       "      <td>397.125</td>\n",
       "    </tr>\n",
       "    <tr>\n",
       "      <th>1</th>\n",
       "      <td>B000052XB5</td>\n",
       "      <td>2017-09-01</td>\n",
       "      <td>0.087918</td>\n",
       "      <td>0.087918</td>\n",
       "      <td>395.304167</td>\n",
       "      <td>397.125</td>\n",
       "      <td>[0.04527607163235586, 0.04999352908399204, 0.0...</td>\n",
       "      <td>13.556000</td>\n",
       "      <td>13.46</td>\n",
       "      <td>448.500</td>\n",
       "    </tr>\n",
       "    <tr>\n",
       "      <th>2</th>\n",
       "      <td>B000052XB5</td>\n",
       "      <td>2017-10-01</td>\n",
       "      <td>0.050594</td>\n",
       "      <td>0.050594</td>\n",
       "      <td>452.091935</td>\n",
       "      <td>448.500</td>\n",
       "      <td>[0.02781543396350373, 0.026825406625974667, 0....</td>\n",
       "      <td>11.970000</td>\n",
       "      <td>11.97</td>\n",
       "      <td>439.625</td>\n",
       "    </tr>\n",
       "    <tr>\n",
       "      <th>3</th>\n",
       "      <td>B000052XB5</td>\n",
       "      <td>2017-11-01</td>\n",
       "      <td>0.052829</td>\n",
       "      <td>0.052829</td>\n",
       "      <td>449.233333</td>\n",
       "      <td>439.625</td>\n",
       "      <td>[0.017099642677690898, 0.017099642677690898, 0...</td>\n",
       "      <td>11.968667</td>\n",
       "      <td>11.97</td>\n",
       "      <td>392.250</td>\n",
       "    </tr>\n",
       "    <tr>\n",
       "      <th>4</th>\n",
       "      <td>B000052XB5</td>\n",
       "      <td>2017-12-01</td>\n",
       "      <td>0.084528</td>\n",
       "      <td>0.084528</td>\n",
       "      <td>396.672581</td>\n",
       "      <td>392.250</td>\n",
       "      <td>[0.031774022534299666, 0.031351070408713426, 0...</td>\n",
       "      <td>11.040968</td>\n",
       "      <td>11.96</td>\n",
       "      <td>379.750</td>\n",
       "    </tr>\n",
       "  </tbody>\n",
       "</table>\n",
       "</div>"
      ],
      "text/plain": [
       "         asin year_month  mean_month_rank  median_month_rank  \\\n",
       "0  B000052XB5 2017-08-01         0.088999           0.088999   \n",
       "1  B000052XB5 2017-09-01         0.087918           0.087918   \n",
       "2  B000052XB5 2017-10-01         0.050594           0.050594   \n",
       "3  B000052XB5 2017-11-01         0.052829           0.052829   \n",
       "4  B000052XB5 2017-12-01         0.084528           0.084528   \n",
       "\n",
       "   mean_month_est_sales  median_month_est_sales  \\\n",
       "0            389.705645                 396.000   \n",
       "1            395.304167                 397.125   \n",
       "2            452.091935                 448.500   \n",
       "3            449.233333                 439.625   \n",
       "4            396.672581                 392.250   \n",
       "\n",
       "                           rolling_median_month_rank  mean_month_price  \\\n",
       "0  [0.03545335800240161, 0.03545335800240161, 0.0...         15.290000   \n",
       "1  [0.04527607163235586, 0.04999352908399204, 0.0...         13.556000   \n",
       "2  [0.02781543396350373, 0.026825406625974667, 0....         11.970000   \n",
       "3  [0.017099642677690898, 0.017099642677690898, 0...         11.968667   \n",
       "4  [0.031774022534299666, 0.031351070408713426, 0...         11.040968   \n",
       "\n",
       "   median_month_price  target_est_sales  \n",
       "0               15.29           397.125  \n",
       "1               13.46           448.500  \n",
       "2               11.97           439.625  \n",
       "3               11.97           392.250  \n",
       "4               11.96           379.750  "
      ]
     },
     "execution_count": 11,
     "metadata": {},
     "output_type": "execute_result"
    }
   ],
   "source": [
    "bsr_df.head()"
   ]
  },
  {
   "cell_type": "code",
   "execution_count": 5,
   "id": "d1f8c544",
   "metadata": {},
   "outputs": [],
   "source": [
    "# processing rank df for the merge\n",
    "bsr_df['year_month'] = pd.to_datetime(bsr_df['year_month'])\n",
    "bsr_df = bsr_df.sort_values(['asin', 'year_month'])\n",
    "bsr_df['target_est_sales'] = bsr_df.groupby(['asin'])['median_month_est_sales'].shift(-1)\n",
    "\n",
    "# processing review df for the merge\n",
    "review_df['year_month'] = pd.to_datetime(review_df['year_month'])"
   ]
  },
  {
   "cell_type": "code",
   "execution_count": 6,
   "id": "ae5b33e7",
   "metadata": {},
   "outputs": [
    {
     "data": {
      "text/plain": [
       "188.13104996238476"
      ]
     },
     "execution_count": 6,
     "metadata": {},
     "output_type": "execute_result"
    }
   ],
   "source": [
    "bsr_df['target_est_sales'].std()"
   ]
  },
  {
   "cell_type": "code",
   "execution_count": 9,
   "id": "86536b21",
   "metadata": {},
   "outputs": [],
   "source": [
    "# merging the data sets\n",
    "products_df = pd.merge(review_df, bsr_df, on=[\"asin\", \"year_month\"])\n",
    "products_df = products_df.dropna()"
   ]
  },
  {
   "cell_type": "code",
   "execution_count": 11,
   "id": "2c4e1239",
   "metadata": {},
   "outputs": [],
   "source": [
    "def process_moving_median_months(row):\n",
    "  \"\"\"Processes the moving median column to make sure it\n",
    "  doesn't break our model\"\"\"\n",
    "  rolling_median = np.array(row['rolling_median_month_rank'])\n",
    "  # impute the NaNs\n",
    "  try: rolling_median[np.isnan(rolling_median)] = np.nanmean(rolling_median)\n",
    "  except: return np.ones(30)*0.24191888901999709\n",
    "  # make sure all are of length 30 (prioritising the last 30 values)\n",
    "  if len(rolling_median) < 30:\n",
    "    impute_value = np.nanmean(rolling_median)\n",
    "    rolling_median = np.append(np.array([impute_value]*(30-len(rolling_median))), rolling_median)\n",
    "  else:\n",
    "    rolling_median = rolling_median[-30:]\n",
    "  return rolling_median\n",
    "\n",
    "products_df['rolling_median_month_rank'] = products_df.apply(process_moving_median_months, axis=1)"
   ]
  },
  {
   "cell_type": "code",
   "execution_count": null,
   "id": "24e9ddd6",
   "metadata": {},
   "outputs": [],
   "source": [
    "asins=products_df[\"asin\"].unique()"
   ]
  },
  {
   "cell_type": "code",
   "execution_count": null,
   "id": "d7f4cab2",
   "metadata": {},
   "outputs": [],
   "source": [
    "# Freeing up RAM\n",
    "del bsr_df\n",
    "del review_df"
   ]
  },
  {
   "cell_type": "code",
   "execution_count": null,
   "id": "06e2f7ee",
   "metadata": {},
   "outputs": [],
   "source": [
    "def num_rev(x):\n",
    "  return len(x['reviewrating'])\n",
    "#Creating column of number of reviews\n",
    "products_df['num_reviews_month']=products_df.apply(num_rev,axis=1)"
   ]
  },
  {
   "cell_type": "code",
   "execution_count": null,
   "id": "55536df8",
   "metadata": {},
   "outputs": [],
   "source": [
    "#Creating cumulative number of reviews\n",
    "products_df['cumulative_num_reviews']=0\n",
    "cumulative_numrev_list=[]"
   ]
  },
  {
   "cell_type": "code",
   "execution_count": null,
   "id": "e7688c23",
   "metadata": {},
   "outputs": [],
   "source": [
    "for asin in asins:\n",
    "  yearmonthlist=products_df[products_df[\"asin\"]==asin]['year_month'].tolist()\n",
    "  for i,ym in enumerate(yearmonthlist):\n",
    "    aux=products_df[(products_df['asin']==asin) & (products_df['year_month']<=ym)]['num_reviews_month'].tolist()\n",
    "    cumulative_numrev_list.append(np.array(aux))\n",
    "    products_df.at[(products_df[\"asin\"]==asin)&(products_df[\"year_month\"]==ym),'cumulative_num_reviews']=np.sum(aux,dtype=int)"
   ]
  },
  {
   "cell_type": "code",
   "execution_count": null,
   "id": "a17afc94",
   "metadata": {},
   "outputs": [],
   "source": [
    "products_df['cumulative_numrev_list']=cumulative_numrev_list"
   ]
  },
  {
   "cell_type": "code",
   "execution_count": null,
   "id": "cba24230",
   "metadata": {},
   "outputs": [],
   "source": [
    "#Creating weighted mean review ratings based on votes\n",
    "def weight_mean(x):\n",
    "  if sum(x['reviewvotes_num'])==0:\n",
    "    return 0\n",
    "  else:\n",
    "    return np.average(x['reviewrating'],weights=x['reviewvotes_num'])\n",
    "\n",
    "products_df['revrating_weightmean']=products_df.apply(weight_mean,axis=1)"
   ]
  },
  {
   "cell_type": "code",
   "execution_count": null,
   "id": "8ded75f4",
   "metadata": {},
   "outputs": [],
   "source": [
    "products_df['revrating_mean']=products_df['reviewrating'].map(lambda x: np.mean(x))"
   ]
  },
  {
   "cell_type": "code",
   "execution_count": null,
   "id": "37cceb80",
   "metadata": {},
   "outputs": [],
   "source": [
    "#Creating weighted mean review ratings based on verification of review\n",
    "def weight_mean_verified(x):\n",
    "  if sum(x['reviewverifiedpurchase'])==0:\n",
    "    return 0\n",
    "  else:\n",
    "    return np.average(x['reviewrating'],weights=x['reviewverifiedpurchase']) \n",
    "\n",
    "products_df['reviewrating_meanverified']=products_df.apply(weight_mean_verified,axis=1)"
   ]
  },
  {
   "cell_type": "code",
   "execution_count": null,
   "id": "078c82fd",
   "metadata": {},
   "outputs": [],
   "source": [
    "#creating cumulative weighted ratings column\n",
    "products_df['cumulative_weightrating']=np.nan\n",
    "cumulative_weightrating_list=[]"
   ]
  },
  {
   "cell_type": "code",
   "execution_count": null,
   "id": "7b3ec40d",
   "metadata": {},
   "outputs": [],
   "source": [
    "#Filling cumulative weighted rating column\n",
    "for asin in asins:\n",
    "  yearmonthlist=products_df[products_df[\"asin\"]==asin]['year_month'].tolist()\n",
    "  for i,ym in enumerate(yearmonthlist):\n",
    "    aux=products_df[(products_df['asin']==asin) & (products_df['year_month']<=ym)]['revrating_weightmean'].tolist()\n",
    "    cumulative_weightrating_list.append(np.array(aux))\n",
    "    products_df.at[(products_df[\"asin\"]==asin)&(products_df[\"year_month\"]==ym),'cumulative_weightrating']=np.average(aux)"
   ]
  },
  {
   "cell_type": "code",
   "execution_count": null,
   "id": "dab5b031",
   "metadata": {},
   "outputs": [],
   "source": [
    "products_df['cumulative_weightrating_list']=cumulative_weightrating_list"
   ]
  },
  {
   "cell_type": "code",
   "execution_count": null,
   "id": "744184d5",
   "metadata": {},
   "outputs": [],
   "source": [
    "#creating cumulative rating without weights\n",
    "products_df['cumulative_rating']=np.nan\n",
    "cumulative_rating_list=[]"
   ]
  },
  {
   "cell_type": "code",
   "execution_count": null,
   "id": "7605d8ea",
   "metadata": {},
   "outputs": [],
   "source": [
    "#Filling cumulative rating column\n",
    "for asin in asins:\n",
    "  yearmonthlist=products_df[products_df[\"asin\"]==asin]['year_month'].tolist()\n",
    "  for i,ym in enumerate(yearmonthlist):\n",
    "    aux=products_df[(products_df['asin']==asin) & (products_df['year_month']<=ym)]['revrating_mean'].tolist()\n",
    "    cumulative_rating_list.append(aux)\n",
    "    products_df.at[(products_df[\"asin\"]==asin)&(products_df[\"year_month\"]==ym),'cumulative_rating']=np.average(aux)\n",
    "\n",
    "products_df['cumulative_rating_list']=cumulative_rating_list"
   ]
  },
  {
   "cell_type": "code",
   "execution_count": null,
   "id": "a9b4c35e",
   "metadata": {},
   "outputs": [],
   "source": [
    "#creating cumulative rating weighted by verified\n",
    "products_df['cumulative_rating_verified']=np.nan\n",
    "cumulative_rating_verified_list=[]"
   ]
  },
  {
   "cell_type": "code",
   "execution_count": null,
   "id": "f807c3f4",
   "metadata": {},
   "outputs": [],
   "source": [
    "#Filling cumulative weighted by verification rating column\n",
    "for asin in asins:\n",
    "  yearmonthlist=products_df[products_df[\"asin\"]==asin]['year_month'].tolist()\n",
    "  for i,ym in enumerate(yearmonthlist):\n",
    "    aux=products_df[(products_df['asin']==asin) & (products_df['year_month']<=ym)]['reviewrating_meanverified'].tolist()\n",
    "    cumulative_rating_verified_list.append(aux)\n",
    "    products_df.at[(products_df[\"asin\"]==asin)&(products_df[\"year_month\"]==ym),'cumulative_rating_verified']=np.average(aux)\n",
    "\n",
    "products_df['cumulative_rating_verified_list']=cumulative_rating_verified_list"
   ]
  },
  {
   "cell_type": "code",
   "execution_count": null,
   "id": "b8b6fcd7",
   "metadata": {},
   "outputs": [],
   "source": [
    "products_df.to_pickle('./merged_bsr_review_cumulative.pickle')  "
   ]
  }
 ],
 "metadata": {
  "kernelspec": {
   "display_name": "Python 3 (ipykernel)",
   "language": "python",
   "name": "python3"
  },
  "language_info": {
   "codemirror_mode": {
    "name": "ipython",
    "version": 3
   },
   "file_extension": ".py",
   "mimetype": "text/x-python",
   "name": "python",
   "nbconvert_exporter": "python",
   "pygments_lexer": "ipython3",
   "version": "3.8.10"
  }
 },
 "nbformat": 4,
 "nbformat_minor": 5
}
