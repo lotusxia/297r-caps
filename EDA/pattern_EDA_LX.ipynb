{
  "nbformat": 4,
  "nbformat_minor": 0,
  "metadata": {
    "colab": {
      "name": "pattern_EDA_LX.ipynb",
      "provenance": [],
      "collapsed_sections": []
    },
    "kernelspec": {
      "name": "python3",
      "display_name": "Python 3"
    },
    "language_info": {
      "name": "python"
    }
  },
  "cells": [
    {
      "cell_type": "code",
      "execution_count": 1,
      "metadata": {
        "id": "UDk7R1VELlGV"
      },
      "outputs": [],
      "source": [
        "import csv\n",
        "import numpy as np\n",
        "import pandas as pd\n",
        "import matplotlib.pyplot as plt"
      ]
    },
    {
      "cell_type": "code",
      "source": [
        "from google.colab import drive\n",
        "drive.mount('/content/drive')"
      ],
      "metadata": {
        "colab": {
          "base_uri": "https://localhost:8080/"
        },
        "id": "FBKEr7i7LrMS",
        "outputId": "2a57fcbd-c311-4797-99ee-192deca580e8"
      },
      "execution_count": 2,
      "outputs": [
        {
          "output_type": "stream",
          "name": "stdout",
          "text": [
            "Drive already mounted at /content/drive; to attempt to forcibly remount, call drive.mount(\"/content/drive\", force_remount=True).\n"
          ]
        }
      ]
    },
    {
      "cell_type": "code",
      "source": [
        "# make sure you add a shortcut of \"295R-Caps-Pattern\" folder to your own Drive if you're shared this folder\n",
        "!ls \"/content/drive/My Drive/297R-Caps-Pattern/Data\""
      ],
      "metadata": {
        "colab": {
          "base_uri": "https://localhost:8080/"
        },
        "id": "ZL6-4ZD0LxnP",
        "outputId": "43859873-7643-431e-ea51-47e28bedc5dc"
      },
      "execution_count": 3,
      "outputs": [
        {
          "output_type": "stream",
          "name": "stdout",
          "text": [
            "clean  encodings  intermediate\traw  themes\n"
          ]
        }
      ]
    },
    {
      "cell_type": "code",
      "source": [
        "# input folders\n",
        "data = \"/content/drive/My Drive/297R-Caps-Pattern/Data\""
      ],
      "metadata": {
        "id": "ocEBkUQvNJ9Y"
      },
      "execution_count": 4,
      "outputs": []
    },
    {
      "cell_type": "code",
      "source": [
        "# get id column of both datasets\n",
        "col_list = [\"asin\"]\n",
        "bsr_asin = pd.read_csv(f'{data}/raw/asin_bsr_history.csv', usecols=col_list)\n",
        "review_asin = pd.read_csv(f'{data}/raw/asin_review_history.csv', usecols=col_list)"
      ],
      "metadata": {
        "id": "ICa5hIzfNgo1"
      },
      "execution_count": 5,
      "outputs": []
    },
    {
      "cell_type": "code",
      "source": [
        "prod_asin_rev = review_asin['asin'].unique()\n",
        "prod_asin_bsr = bsr_asin['asin'].unique()\n",
        "print(prod_asin_rev.shape, 'products in reviews')\n",
        "print(prod_asin_bsr.shape, 'products in bsr')\n",
        "\n",
        "# get interset of the two dataset\n",
        "prod_asin = list(set(prod_asin_rev).intersection(set(prod_asin_bsr)))\n",
        "print(len(prod_asin), 'products in intersection')"
      ],
      "metadata": {
        "id": "s3vEpMHlOu8W",
        "colab": {
          "base_uri": "https://localhost:8080/"
        },
        "outputId": "48377b5b-f184-4ec5-9f17-a866fbbf7cb2"
      },
      "execution_count": 6,
      "outputs": [
        {
          "output_type": "stream",
          "name": "stdout",
          "text": [
            "(9977,) products in reviews\n",
            "(9991,) products in bsr\n",
            "9958 products in intersection\n"
          ]
        }
      ]
    },
    {
      "cell_type": "markdown",
      "source": [
        "### BSR data"
      ],
      "metadata": {
        "id": "bLyWoTeo2env"
      }
    },
    {
      "cell_type": "code",
      "source": [
        "# get id column of both datasets\n",
        "bsr_full = pd.read_csv(f'{data}/raw/asin_bsr_history.csv')"
      ],
      "metadata": {
        "id": "afsQS3Z2cSFX"
      },
      "execution_count": 7,
      "outputs": []
    },
    {
      "cell_type": "code",
      "source": [
        "bsr_full.head()"
      ],
      "metadata": {
        "colab": {
          "base_uri": "https://localhost:8080/",
          "height": 206
        },
        "id": "5dsrg_IjQwG_",
        "outputId": "8ca5b411-5081-4e26-b3ea-836c52bf7572"
      },
      "execution_count": 8,
      "outputs": [
        {
          "output_type": "execute_result",
          "data": {
            "text/plain": [
              "   Unnamed: 0        date          rank  avg180_price        asin\n",
              "0           0  2017-07-03   9003.666667         17.01  B000139ZHU\n",
              "1           1  2017-07-04   8211.666667         17.01  B000139ZHU\n",
              "2           2  2017-07-05   6475.000000         17.01  B000139ZHU\n",
              "3           3  2017-07-06  10318.000000         17.01  B000139ZHU\n",
              "4           4  2017-07-07   8335.500000         17.01  B000139ZHU"
            ],
            "text/html": [
              "\n",
              "  <div id=\"df-6ae11235-8128-4dc7-8e1c-a98c25b908e8\">\n",
              "    <div class=\"colab-df-container\">\n",
              "      <div>\n",
              "<style scoped>\n",
              "    .dataframe tbody tr th:only-of-type {\n",
              "        vertical-align: middle;\n",
              "    }\n",
              "\n",
              "    .dataframe tbody tr th {\n",
              "        vertical-align: top;\n",
              "    }\n",
              "\n",
              "    .dataframe thead th {\n",
              "        text-align: right;\n",
              "    }\n",
              "</style>\n",
              "<table border=\"1\" class=\"dataframe\">\n",
              "  <thead>\n",
              "    <tr style=\"text-align: right;\">\n",
              "      <th></th>\n",
              "      <th>Unnamed: 0</th>\n",
              "      <th>date</th>\n",
              "      <th>rank</th>\n",
              "      <th>avg180_price</th>\n",
              "      <th>asin</th>\n",
              "    </tr>\n",
              "  </thead>\n",
              "  <tbody>\n",
              "    <tr>\n",
              "      <th>0</th>\n",
              "      <td>0</td>\n",
              "      <td>2017-07-03</td>\n",
              "      <td>9003.666667</td>\n",
              "      <td>17.01</td>\n",
              "      <td>B000139ZHU</td>\n",
              "    </tr>\n",
              "    <tr>\n",
              "      <th>1</th>\n",
              "      <td>1</td>\n",
              "      <td>2017-07-04</td>\n",
              "      <td>8211.666667</td>\n",
              "      <td>17.01</td>\n",
              "      <td>B000139ZHU</td>\n",
              "    </tr>\n",
              "    <tr>\n",
              "      <th>2</th>\n",
              "      <td>2</td>\n",
              "      <td>2017-07-05</td>\n",
              "      <td>6475.000000</td>\n",
              "      <td>17.01</td>\n",
              "      <td>B000139ZHU</td>\n",
              "    </tr>\n",
              "    <tr>\n",
              "      <th>3</th>\n",
              "      <td>3</td>\n",
              "      <td>2017-07-06</td>\n",
              "      <td>10318.000000</td>\n",
              "      <td>17.01</td>\n",
              "      <td>B000139ZHU</td>\n",
              "    </tr>\n",
              "    <tr>\n",
              "      <th>4</th>\n",
              "      <td>4</td>\n",
              "      <td>2017-07-07</td>\n",
              "      <td>8335.500000</td>\n",
              "      <td>17.01</td>\n",
              "      <td>B000139ZHU</td>\n",
              "    </tr>\n",
              "  </tbody>\n",
              "</table>\n",
              "</div>\n",
              "      <button class=\"colab-df-convert\" onclick=\"convertToInteractive('df-6ae11235-8128-4dc7-8e1c-a98c25b908e8')\"\n",
              "              title=\"Convert this dataframe to an interactive table.\"\n",
              "              style=\"display:none;\">\n",
              "        \n",
              "  <svg xmlns=\"http://www.w3.org/2000/svg\" height=\"24px\"viewBox=\"0 0 24 24\"\n",
              "       width=\"24px\">\n",
              "    <path d=\"M0 0h24v24H0V0z\" fill=\"none\"/>\n",
              "    <path d=\"M18.56 5.44l.94 2.06.94-2.06 2.06-.94-2.06-.94-.94-2.06-.94 2.06-2.06.94zm-11 1L8.5 8.5l.94-2.06 2.06-.94-2.06-.94L8.5 2.5l-.94 2.06-2.06.94zm10 10l.94 2.06.94-2.06 2.06-.94-2.06-.94-.94-2.06-.94 2.06-2.06.94z\"/><path d=\"M17.41 7.96l-1.37-1.37c-.4-.4-.92-.59-1.43-.59-.52 0-1.04.2-1.43.59L10.3 9.45l-7.72 7.72c-.78.78-.78 2.05 0 2.83L4 21.41c.39.39.9.59 1.41.59.51 0 1.02-.2 1.41-.59l7.78-7.78 2.81-2.81c.8-.78.8-2.07 0-2.86zM5.41 20L4 18.59l7.72-7.72 1.47 1.35L5.41 20z\"/>\n",
              "  </svg>\n",
              "      </button>\n",
              "      \n",
              "  <style>\n",
              "    .colab-df-container {\n",
              "      display:flex;\n",
              "      flex-wrap:wrap;\n",
              "      gap: 12px;\n",
              "    }\n",
              "\n",
              "    .colab-df-convert {\n",
              "      background-color: #E8F0FE;\n",
              "      border: none;\n",
              "      border-radius: 50%;\n",
              "      cursor: pointer;\n",
              "      display: none;\n",
              "      fill: #1967D2;\n",
              "      height: 32px;\n",
              "      padding: 0 0 0 0;\n",
              "      width: 32px;\n",
              "    }\n",
              "\n",
              "    .colab-df-convert:hover {\n",
              "      background-color: #E2EBFA;\n",
              "      box-shadow: 0px 1px 2px rgba(60, 64, 67, 0.3), 0px 1px 3px 1px rgba(60, 64, 67, 0.15);\n",
              "      fill: #174EA6;\n",
              "    }\n",
              "\n",
              "    [theme=dark] .colab-df-convert {\n",
              "      background-color: #3B4455;\n",
              "      fill: #D2E3FC;\n",
              "    }\n",
              "\n",
              "    [theme=dark] .colab-df-convert:hover {\n",
              "      background-color: #434B5C;\n",
              "      box-shadow: 0px 1px 3px 1px rgba(0, 0, 0, 0.15);\n",
              "      filter: drop-shadow(0px 1px 2px rgba(0, 0, 0, 0.3));\n",
              "      fill: #FFFFFF;\n",
              "    }\n",
              "  </style>\n",
              "\n",
              "      <script>\n",
              "        const buttonEl =\n",
              "          document.querySelector('#df-6ae11235-8128-4dc7-8e1c-a98c25b908e8 button.colab-df-convert');\n",
              "        buttonEl.style.display =\n",
              "          google.colab.kernel.accessAllowed ? 'block' : 'none';\n",
              "\n",
              "        async function convertToInteractive(key) {\n",
              "          const element = document.querySelector('#df-6ae11235-8128-4dc7-8e1c-a98c25b908e8');\n",
              "          const dataTable =\n",
              "            await google.colab.kernel.invokeFunction('convertToInteractive',\n",
              "                                                     [key], {});\n",
              "          if (!dataTable) return;\n",
              "\n",
              "          const docLinkHtml = 'Like what you see? Visit the ' +\n",
              "            '<a target=\"_blank\" href=https://colab.research.google.com/notebooks/data_table.ipynb>data table notebook</a>'\n",
              "            + ' to learn more about interactive tables.';\n",
              "          element.innerHTML = '';\n",
              "          dataTable['output_type'] = 'display_data';\n",
              "          await google.colab.output.renderOutput(dataTable, element);\n",
              "          const docLink = document.createElement('div');\n",
              "          docLink.innerHTML = docLinkHtml;\n",
              "          element.appendChild(docLink);\n",
              "        }\n",
              "      </script>\n",
              "    </div>\n",
              "  </div>\n",
              "  "
            ]
          },
          "metadata": {},
          "execution_count": 8
        }
      ]
    },
    {
      "cell_type": "code",
      "source": [
        "# date range\n",
        "bsr_full['date'].min(), bsr_full['date'].max() "
      ],
      "metadata": {
        "colab": {
          "base_uri": "https://localhost:8080/"
        },
        "id": "cmTJugoKo1i_",
        "outputId": "d829cb78-b6f4-4ca3-8414-8fb375600529"
      },
      "execution_count": 9,
      "outputs": [
        {
          "output_type": "execute_result",
          "data": {
            "text/plain": [
              "('2017-07-03', '2021-07-02')"
            ]
          },
          "metadata": {},
          "execution_count": 9
        }
      ]
    },
    {
      "cell_type": "code",
      "source": [
        "min_dates = bsr_full.groupby(['asin'])['date'].min()\n",
        "max_dates = bsr_full.groupby(['asin'])['date'].max()"
      ],
      "metadata": {
        "id": "bPr5o4jfo_rR"
      },
      "execution_count": 10,
      "outputs": []
    },
    {
      "cell_type": "code",
      "source": [
        "min_dates.value_counts()"
      ],
      "metadata": {
        "colab": {
          "base_uri": "https://localhost:8080/"
        },
        "id": "i6KvW8qYpwLc",
        "outputId": "f3be799a-85f5-44c7-b27f-8427774d5e1a"
      },
      "execution_count": 11,
      "outputs": [
        {
          "output_type": "execute_result",
          "data": {
            "text/plain": [
              "2017-07-03    3945\n",
              "2017-07-04     472\n",
              "2017-07-05     260\n",
              "2017-07-06      53\n",
              "2017-10-13      21\n",
              "              ... \n",
              "2018-09-18       1\n",
              "2018-03-19       1\n",
              "2018-02-08       1\n",
              "2018-02-23       1\n",
              "2021-06-20       1\n",
              "Name: date, Length: 1389, dtype: int64"
            ]
          },
          "metadata": {},
          "execution_count": 11
        }
      ]
    },
    {
      "cell_type": "code",
      "source": [
        "max_dates.value_counts()"
      ],
      "metadata": {
        "colab": {
          "base_uri": "https://localhost:8080/"
        },
        "id": "d62fxTT_pwJM",
        "outputId": "d3027c34-527d-4ec0-f3f2-cbe91d399315"
      },
      "execution_count": 12,
      "outputs": [
        {
          "output_type": "execute_result",
          "data": {
            "text/plain": [
              "2021-07-02    9982\n",
              "2021-07-01       5\n",
              "2021-03-28       1\n",
              "2021-02-05       1\n",
              "2021-06-30       1\n",
              "2021-06-29       1\n",
              "Name: date, dtype: int64"
            ]
          },
          "metadata": {},
          "execution_count": 12
        }
      ]
    },
    {
      "cell_type": "code",
      "source": [
        "bsr_movement = pd.DataFrame({'asin': bsr_full.groupby('asin')['rank'].max().index, \n",
        "                             'max': bsr_full.groupby('asin')['rank'].max(), \n",
        "                             'min': bsr_full.groupby('asin')['rank'].min()}).reset_index(drop=True)\n",
        "bsr_movement['diff'] = bsr_movement['max'] - bsr_movement['min']"
      ],
      "metadata": {
        "id": "h6XQBl2_utlt"
      },
      "execution_count": 13,
      "outputs": []
    },
    {
      "cell_type": "code",
      "source": [
        "bsr_movement[['diff']].describe()"
      ],
      "metadata": {
        "colab": {
          "base_uri": "https://localhost:8080/",
          "height": 300
        },
        "id": "wBooKoGNvP0p",
        "outputId": "077d4edb-55a6-45d8-c8ed-3164116dec1d"
      },
      "execution_count": 14,
      "outputs": [
        {
          "output_type": "execute_result",
          "data": {
            "text/plain": [
              "               diff\n",
              "count  9.991000e+03\n",
              "mean   2.568364e+05\n",
              "std    3.360135e+05\n",
              "min    4.746667e+02\n",
              "25%    8.432039e+04\n",
              "50%    1.728210e+05\n",
              "75%    3.008015e+05\n",
              "max    7.785554e+06"
            ],
            "text/html": [
              "\n",
              "  <div id=\"df-3cde67a8-af0e-4b7b-a434-a3f1e58ec7d8\">\n",
              "    <div class=\"colab-df-container\">\n",
              "      <div>\n",
              "<style scoped>\n",
              "    .dataframe tbody tr th:only-of-type {\n",
              "        vertical-align: middle;\n",
              "    }\n",
              "\n",
              "    .dataframe tbody tr th {\n",
              "        vertical-align: top;\n",
              "    }\n",
              "\n",
              "    .dataframe thead th {\n",
              "        text-align: right;\n",
              "    }\n",
              "</style>\n",
              "<table border=\"1\" class=\"dataframe\">\n",
              "  <thead>\n",
              "    <tr style=\"text-align: right;\">\n",
              "      <th></th>\n",
              "      <th>diff</th>\n",
              "    </tr>\n",
              "  </thead>\n",
              "  <tbody>\n",
              "    <tr>\n",
              "      <th>count</th>\n",
              "      <td>9.991000e+03</td>\n",
              "    </tr>\n",
              "    <tr>\n",
              "      <th>mean</th>\n",
              "      <td>2.568364e+05</td>\n",
              "    </tr>\n",
              "    <tr>\n",
              "      <th>std</th>\n",
              "      <td>3.360135e+05</td>\n",
              "    </tr>\n",
              "    <tr>\n",
              "      <th>min</th>\n",
              "      <td>4.746667e+02</td>\n",
              "    </tr>\n",
              "    <tr>\n",
              "      <th>25%</th>\n",
              "      <td>8.432039e+04</td>\n",
              "    </tr>\n",
              "    <tr>\n",
              "      <th>50%</th>\n",
              "      <td>1.728210e+05</td>\n",
              "    </tr>\n",
              "    <tr>\n",
              "      <th>75%</th>\n",
              "      <td>3.008015e+05</td>\n",
              "    </tr>\n",
              "    <tr>\n",
              "      <th>max</th>\n",
              "      <td>7.785554e+06</td>\n",
              "    </tr>\n",
              "  </tbody>\n",
              "</table>\n",
              "</div>\n",
              "      <button class=\"colab-df-convert\" onclick=\"convertToInteractive('df-3cde67a8-af0e-4b7b-a434-a3f1e58ec7d8')\"\n",
              "              title=\"Convert this dataframe to an interactive table.\"\n",
              "              style=\"display:none;\">\n",
              "        \n",
              "  <svg xmlns=\"http://www.w3.org/2000/svg\" height=\"24px\"viewBox=\"0 0 24 24\"\n",
              "       width=\"24px\">\n",
              "    <path d=\"M0 0h24v24H0V0z\" fill=\"none\"/>\n",
              "    <path d=\"M18.56 5.44l.94 2.06.94-2.06 2.06-.94-2.06-.94-.94-2.06-.94 2.06-2.06.94zm-11 1L8.5 8.5l.94-2.06 2.06-.94-2.06-.94L8.5 2.5l-.94 2.06-2.06.94zm10 10l.94 2.06.94-2.06 2.06-.94-2.06-.94-.94-2.06-.94 2.06-2.06.94z\"/><path d=\"M17.41 7.96l-1.37-1.37c-.4-.4-.92-.59-1.43-.59-.52 0-1.04.2-1.43.59L10.3 9.45l-7.72 7.72c-.78.78-.78 2.05 0 2.83L4 21.41c.39.39.9.59 1.41.59.51 0 1.02-.2 1.41-.59l7.78-7.78 2.81-2.81c.8-.78.8-2.07 0-2.86zM5.41 20L4 18.59l7.72-7.72 1.47 1.35L5.41 20z\"/>\n",
              "  </svg>\n",
              "      </button>\n",
              "      \n",
              "  <style>\n",
              "    .colab-df-container {\n",
              "      display:flex;\n",
              "      flex-wrap:wrap;\n",
              "      gap: 12px;\n",
              "    }\n",
              "\n",
              "    .colab-df-convert {\n",
              "      background-color: #E8F0FE;\n",
              "      border: none;\n",
              "      border-radius: 50%;\n",
              "      cursor: pointer;\n",
              "      display: none;\n",
              "      fill: #1967D2;\n",
              "      height: 32px;\n",
              "      padding: 0 0 0 0;\n",
              "      width: 32px;\n",
              "    }\n",
              "\n",
              "    .colab-df-convert:hover {\n",
              "      background-color: #E2EBFA;\n",
              "      box-shadow: 0px 1px 2px rgba(60, 64, 67, 0.3), 0px 1px 3px 1px rgba(60, 64, 67, 0.15);\n",
              "      fill: #174EA6;\n",
              "    }\n",
              "\n",
              "    [theme=dark] .colab-df-convert {\n",
              "      background-color: #3B4455;\n",
              "      fill: #D2E3FC;\n",
              "    }\n",
              "\n",
              "    [theme=dark] .colab-df-convert:hover {\n",
              "      background-color: #434B5C;\n",
              "      box-shadow: 0px 1px 3px 1px rgba(0, 0, 0, 0.15);\n",
              "      filter: drop-shadow(0px 1px 2px rgba(0, 0, 0, 0.3));\n",
              "      fill: #FFFFFF;\n",
              "    }\n",
              "  </style>\n",
              "\n",
              "      <script>\n",
              "        const buttonEl =\n",
              "          document.querySelector('#df-3cde67a8-af0e-4b7b-a434-a3f1e58ec7d8 button.colab-df-convert');\n",
              "        buttonEl.style.display =\n",
              "          google.colab.kernel.accessAllowed ? 'block' : 'none';\n",
              "\n",
              "        async function convertToInteractive(key) {\n",
              "          const element = document.querySelector('#df-3cde67a8-af0e-4b7b-a434-a3f1e58ec7d8');\n",
              "          const dataTable =\n",
              "            await google.colab.kernel.invokeFunction('convertToInteractive',\n",
              "                                                     [key], {});\n",
              "          if (!dataTable) return;\n",
              "\n",
              "          const docLinkHtml = 'Like what you see? Visit the ' +\n",
              "            '<a target=\"_blank\" href=https://colab.research.google.com/notebooks/data_table.ipynb>data table notebook</a>'\n",
              "            + ' to learn more about interactive tables.';\n",
              "          element.innerHTML = '';\n",
              "          dataTable['output_type'] = 'display_data';\n",
              "          await google.colab.output.renderOutput(dataTable, element);\n",
              "          const docLink = document.createElement('div');\n",
              "          docLink.innerHTML = docLinkHtml;\n",
              "          element.appendChild(docLink);\n",
              "        }\n",
              "      </script>\n",
              "    </div>\n",
              "  </div>\n",
              "  "
            ]
          },
          "metadata": {},
          "execution_count": 14
        }
      ]
    },
    {
      "cell_type": "code",
      "source": [
        "# QUESTION: why are there multiple rows within asin-date?\n",
        "# QUESTION: why are there non-integer rank?   - ties? average over a day?\n",
        "bsr_full.query('asin==\"B00012NIAG\"').sort_values('date')"
      ],
      "metadata": {
        "colab": {
          "base_uri": "https://localhost:8080/",
          "height": 424
        },
        "id": "xdOIHH5UeaFe",
        "outputId": "c6a646fd-14a3-4336-90cb-d05909044c38"
      },
      "execution_count": 15,
      "outputs": [
        {
          "output_type": "execute_result",
          "data": {
            "text/plain": [
              "          Unnamed: 0        date          rank  avg180_price        asin\n",
              "11071437    11071437  2017-07-03   9964.000000         11.23  B00012NIAG\n",
              "28639072    28639072  2017-07-03   9964.000000         11.23  B00012NIAG\n",
              "18773977    18773977  2017-07-03   9964.000000         11.23  B00012NIAG\n",
              "11071438    11071438  2017-07-04   9161.333333         11.23  B00012NIAG\n",
              "28639073    28639073  2017-07-04   9161.333333         11.23  B00012NIAG\n",
              "...              ...         ...           ...           ...         ...\n",
              "11072877    11072877  2021-07-01  28780.750000         11.23  B00012NIAG\n",
              "18775417    18775417  2021-07-01  28780.750000         11.23  B00012NIAG\n",
              "18775418    18775418  2021-07-02  26104.857143         11.23  B00012NIAG\n",
              "11072878    11072878  2021-07-02  25649.666667         11.23  B00012NIAG\n",
              "28640513    28640513  2021-07-02  26104.857143         11.23  B00012NIAG\n",
              "\n",
              "[4326 rows x 5 columns]"
            ],
            "text/html": [
              "\n",
              "  <div id=\"df-93389297-ca27-4d4b-a1a3-468128acb077\">\n",
              "    <div class=\"colab-df-container\">\n",
              "      <div>\n",
              "<style scoped>\n",
              "    .dataframe tbody tr th:only-of-type {\n",
              "        vertical-align: middle;\n",
              "    }\n",
              "\n",
              "    .dataframe tbody tr th {\n",
              "        vertical-align: top;\n",
              "    }\n",
              "\n",
              "    .dataframe thead th {\n",
              "        text-align: right;\n",
              "    }\n",
              "</style>\n",
              "<table border=\"1\" class=\"dataframe\">\n",
              "  <thead>\n",
              "    <tr style=\"text-align: right;\">\n",
              "      <th></th>\n",
              "      <th>Unnamed: 0</th>\n",
              "      <th>date</th>\n",
              "      <th>rank</th>\n",
              "      <th>avg180_price</th>\n",
              "      <th>asin</th>\n",
              "    </tr>\n",
              "  </thead>\n",
              "  <tbody>\n",
              "    <tr>\n",
              "      <th>11071437</th>\n",
              "      <td>11071437</td>\n",
              "      <td>2017-07-03</td>\n",
              "      <td>9964.000000</td>\n",
              "      <td>11.23</td>\n",
              "      <td>B00012NIAG</td>\n",
              "    </tr>\n",
              "    <tr>\n",
              "      <th>28639072</th>\n",
              "      <td>28639072</td>\n",
              "      <td>2017-07-03</td>\n",
              "      <td>9964.000000</td>\n",
              "      <td>11.23</td>\n",
              "      <td>B00012NIAG</td>\n",
              "    </tr>\n",
              "    <tr>\n",
              "      <th>18773977</th>\n",
              "      <td>18773977</td>\n",
              "      <td>2017-07-03</td>\n",
              "      <td>9964.000000</td>\n",
              "      <td>11.23</td>\n",
              "      <td>B00012NIAG</td>\n",
              "    </tr>\n",
              "    <tr>\n",
              "      <th>11071438</th>\n",
              "      <td>11071438</td>\n",
              "      <td>2017-07-04</td>\n",
              "      <td>9161.333333</td>\n",
              "      <td>11.23</td>\n",
              "      <td>B00012NIAG</td>\n",
              "    </tr>\n",
              "    <tr>\n",
              "      <th>28639073</th>\n",
              "      <td>28639073</td>\n",
              "      <td>2017-07-04</td>\n",
              "      <td>9161.333333</td>\n",
              "      <td>11.23</td>\n",
              "      <td>B00012NIAG</td>\n",
              "    </tr>\n",
              "    <tr>\n",
              "      <th>...</th>\n",
              "      <td>...</td>\n",
              "      <td>...</td>\n",
              "      <td>...</td>\n",
              "      <td>...</td>\n",
              "      <td>...</td>\n",
              "    </tr>\n",
              "    <tr>\n",
              "      <th>11072877</th>\n",
              "      <td>11072877</td>\n",
              "      <td>2021-07-01</td>\n",
              "      <td>28780.750000</td>\n",
              "      <td>11.23</td>\n",
              "      <td>B00012NIAG</td>\n",
              "    </tr>\n",
              "    <tr>\n",
              "      <th>18775417</th>\n",
              "      <td>18775417</td>\n",
              "      <td>2021-07-01</td>\n",
              "      <td>28780.750000</td>\n",
              "      <td>11.23</td>\n",
              "      <td>B00012NIAG</td>\n",
              "    </tr>\n",
              "    <tr>\n",
              "      <th>18775418</th>\n",
              "      <td>18775418</td>\n",
              "      <td>2021-07-02</td>\n",
              "      <td>26104.857143</td>\n",
              "      <td>11.23</td>\n",
              "      <td>B00012NIAG</td>\n",
              "    </tr>\n",
              "    <tr>\n",
              "      <th>11072878</th>\n",
              "      <td>11072878</td>\n",
              "      <td>2021-07-02</td>\n",
              "      <td>25649.666667</td>\n",
              "      <td>11.23</td>\n",
              "      <td>B00012NIAG</td>\n",
              "    </tr>\n",
              "    <tr>\n",
              "      <th>28640513</th>\n",
              "      <td>28640513</td>\n",
              "      <td>2021-07-02</td>\n",
              "      <td>26104.857143</td>\n",
              "      <td>11.23</td>\n",
              "      <td>B00012NIAG</td>\n",
              "    </tr>\n",
              "  </tbody>\n",
              "</table>\n",
              "<p>4326 rows × 5 columns</p>\n",
              "</div>\n",
              "      <button class=\"colab-df-convert\" onclick=\"convertToInteractive('df-93389297-ca27-4d4b-a1a3-468128acb077')\"\n",
              "              title=\"Convert this dataframe to an interactive table.\"\n",
              "              style=\"display:none;\">\n",
              "        \n",
              "  <svg xmlns=\"http://www.w3.org/2000/svg\" height=\"24px\"viewBox=\"0 0 24 24\"\n",
              "       width=\"24px\">\n",
              "    <path d=\"M0 0h24v24H0V0z\" fill=\"none\"/>\n",
              "    <path d=\"M18.56 5.44l.94 2.06.94-2.06 2.06-.94-2.06-.94-.94-2.06-.94 2.06-2.06.94zm-11 1L8.5 8.5l.94-2.06 2.06-.94-2.06-.94L8.5 2.5l-.94 2.06-2.06.94zm10 10l.94 2.06.94-2.06 2.06-.94-2.06-.94-.94-2.06-.94 2.06-2.06.94z\"/><path d=\"M17.41 7.96l-1.37-1.37c-.4-.4-.92-.59-1.43-.59-.52 0-1.04.2-1.43.59L10.3 9.45l-7.72 7.72c-.78.78-.78 2.05 0 2.83L4 21.41c.39.39.9.59 1.41.59.51 0 1.02-.2 1.41-.59l7.78-7.78 2.81-2.81c.8-.78.8-2.07 0-2.86zM5.41 20L4 18.59l7.72-7.72 1.47 1.35L5.41 20z\"/>\n",
              "  </svg>\n",
              "      </button>\n",
              "      \n",
              "  <style>\n",
              "    .colab-df-container {\n",
              "      display:flex;\n",
              "      flex-wrap:wrap;\n",
              "      gap: 12px;\n",
              "    }\n",
              "\n",
              "    .colab-df-convert {\n",
              "      background-color: #E8F0FE;\n",
              "      border: none;\n",
              "      border-radius: 50%;\n",
              "      cursor: pointer;\n",
              "      display: none;\n",
              "      fill: #1967D2;\n",
              "      height: 32px;\n",
              "      padding: 0 0 0 0;\n",
              "      width: 32px;\n",
              "    }\n",
              "\n",
              "    .colab-df-convert:hover {\n",
              "      background-color: #E2EBFA;\n",
              "      box-shadow: 0px 1px 2px rgba(60, 64, 67, 0.3), 0px 1px 3px 1px rgba(60, 64, 67, 0.15);\n",
              "      fill: #174EA6;\n",
              "    }\n",
              "\n",
              "    [theme=dark] .colab-df-convert {\n",
              "      background-color: #3B4455;\n",
              "      fill: #D2E3FC;\n",
              "    }\n",
              "\n",
              "    [theme=dark] .colab-df-convert:hover {\n",
              "      background-color: #434B5C;\n",
              "      box-shadow: 0px 1px 3px 1px rgba(0, 0, 0, 0.15);\n",
              "      filter: drop-shadow(0px 1px 2px rgba(0, 0, 0, 0.3));\n",
              "      fill: #FFFFFF;\n",
              "    }\n",
              "  </style>\n",
              "\n",
              "      <script>\n",
              "        const buttonEl =\n",
              "          document.querySelector('#df-93389297-ca27-4d4b-a1a3-468128acb077 button.colab-df-convert');\n",
              "        buttonEl.style.display =\n",
              "          google.colab.kernel.accessAllowed ? 'block' : 'none';\n",
              "\n",
              "        async function convertToInteractive(key) {\n",
              "          const element = document.querySelector('#df-93389297-ca27-4d4b-a1a3-468128acb077');\n",
              "          const dataTable =\n",
              "            await google.colab.kernel.invokeFunction('convertToInteractive',\n",
              "                                                     [key], {});\n",
              "          if (!dataTable) return;\n",
              "\n",
              "          const docLinkHtml = 'Like what you see? Visit the ' +\n",
              "            '<a target=\"_blank\" href=https://colab.research.google.com/notebooks/data_table.ipynb>data table notebook</a>'\n",
              "            + ' to learn more about interactive tables.';\n",
              "          element.innerHTML = '';\n",
              "          dataTable['output_type'] = 'display_data';\n",
              "          await google.colab.output.renderOutput(dataTable, element);\n",
              "          const docLink = document.createElement('div');\n",
              "          docLink.innerHTML = docLinkHtml;\n",
              "          element.appendChild(docLink);\n",
              "        }\n",
              "      </script>\n",
              "    </div>\n",
              "  </div>\n",
              "  "
            ]
          },
          "metadata": {},
          "execution_count": 15
        }
      ]
    },
    {
      "cell_type": "code",
      "source": [
        "print(bsr_full['asin'].unique().shape[0], 'products')\n",
        "print(bsr_full[['asin','date']].drop_duplicates().shape[0], 'product-date combinations')\n",
        "print(bsr_full[['asin','date','rank']].drop_duplicates().shape[0], 'product-date-rank combinations')\n",
        "print(bsr_full[['asin','date','avg180_price']].drop_duplicates().shape[0], 'product-date-price combinations')"
      ],
      "metadata": {
        "colab": {
          "base_uri": "https://localhost:8080/"
        },
        "id": "eDKb4Imv3KCw",
        "outputId": "4b2abcdd-cc37-488d-a6d6-83e677edc31d"
      },
      "execution_count": 16,
      "outputs": [
        {
          "output_type": "stream",
          "name": "stdout",
          "text": [
            "9991 products\n",
            "9706238 product-date combinations\n",
            "9707698 product-date-rank combinations\n",
            "10322729 product-date-price combinations\n"
          ]
        }
      ]
    },
    {
      "cell_type": "markdown",
      "source": [
        "NOTE: rank/price differ within product-date"
      ],
      "metadata": {
        "id": "aZhoYcIEeOd2"
      }
    },
    {
      "cell_type": "code",
      "source": [
        "# product missing rank on certain days\n",
        "bsr_sub = bsr_full[['date','rank','asin']].groupby(['date','asin'])['rank'].mean().to_frame().reset_index()\n",
        "bsr_start = bsr_sub.groupby(['asin'])['date'].min().to_frame().reset_index().rename(columns={'date':'start'})\n",
        "bsr_end = bsr_sub.groupby(['asin'])['date'].max().to_frame().reset_index().rename(columns={'date':'end'})\n",
        "bsr_dates = bsr_start.merge(bsr_end, on='asin', how='outer')\n",
        "del bsr_start \n",
        "del bsr_end\n",
        "bsr_dates['start'] = pd.to_datetime(bsr_dates['start'])\n",
        "bsr_dates['end'] = pd.to_datetime(bsr_dates['end'])\n",
        "bsr_dates['days_in_bw'] = (bsr_dates['end'] - bsr_dates['start']).dt.days + 1 \n",
        "bsr_dates = bsr_dates.merge(bsr_sub.groupby('asin')[['rank']].count().reset_index().rename(columns={'rank':'n_rank'}),\n",
        "                            on='asin',how='outer')\n",
        "bsr_dates.head()"
      ],
      "metadata": {
        "colab": {
          "base_uri": "https://localhost:8080/",
          "height": 206
        },
        "id": "RwlACnMfeliO",
        "outputId": "4b816656-00bd-4284-b382-c10361749e29"
      },
      "execution_count": 17,
      "outputs": [
        {
          "output_type": "execute_result",
          "data": {
            "text/plain": [
              "         asin      start        end  days_in_bw  n_rank\n",
              "0  2635214875 2020-02-21 2021-07-02         498     466\n",
              "1  B000052XB5 2017-07-03 2021-07-02        1461    1460\n",
              "2  B00005313T 2017-07-03 2021-07-02        1461    1460\n",
              "3  B0000533I2 2017-07-03 2021-07-02        1461    1456\n",
              "4  B00005K9DO 2017-07-03 2021-07-02        1461    1413"
            ],
            "text/html": [
              "\n",
              "  <div id=\"df-198333d6-78f9-4e2e-8ef3-10f12801381d\">\n",
              "    <div class=\"colab-df-container\">\n",
              "      <div>\n",
              "<style scoped>\n",
              "    .dataframe tbody tr th:only-of-type {\n",
              "        vertical-align: middle;\n",
              "    }\n",
              "\n",
              "    .dataframe tbody tr th {\n",
              "        vertical-align: top;\n",
              "    }\n",
              "\n",
              "    .dataframe thead th {\n",
              "        text-align: right;\n",
              "    }\n",
              "</style>\n",
              "<table border=\"1\" class=\"dataframe\">\n",
              "  <thead>\n",
              "    <tr style=\"text-align: right;\">\n",
              "      <th></th>\n",
              "      <th>asin</th>\n",
              "      <th>start</th>\n",
              "      <th>end</th>\n",
              "      <th>days_in_bw</th>\n",
              "      <th>n_rank</th>\n",
              "    </tr>\n",
              "  </thead>\n",
              "  <tbody>\n",
              "    <tr>\n",
              "      <th>0</th>\n",
              "      <td>2635214875</td>\n",
              "      <td>2020-02-21</td>\n",
              "      <td>2021-07-02</td>\n",
              "      <td>498</td>\n",
              "      <td>466</td>\n",
              "    </tr>\n",
              "    <tr>\n",
              "      <th>1</th>\n",
              "      <td>B000052XB5</td>\n",
              "      <td>2017-07-03</td>\n",
              "      <td>2021-07-02</td>\n",
              "      <td>1461</td>\n",
              "      <td>1460</td>\n",
              "    </tr>\n",
              "    <tr>\n",
              "      <th>2</th>\n",
              "      <td>B00005313T</td>\n",
              "      <td>2017-07-03</td>\n",
              "      <td>2021-07-02</td>\n",
              "      <td>1461</td>\n",
              "      <td>1460</td>\n",
              "    </tr>\n",
              "    <tr>\n",
              "      <th>3</th>\n",
              "      <td>B0000533I2</td>\n",
              "      <td>2017-07-03</td>\n",
              "      <td>2021-07-02</td>\n",
              "      <td>1461</td>\n",
              "      <td>1456</td>\n",
              "    </tr>\n",
              "    <tr>\n",
              "      <th>4</th>\n",
              "      <td>B00005K9DO</td>\n",
              "      <td>2017-07-03</td>\n",
              "      <td>2021-07-02</td>\n",
              "      <td>1461</td>\n",
              "      <td>1413</td>\n",
              "    </tr>\n",
              "  </tbody>\n",
              "</table>\n",
              "</div>\n",
              "      <button class=\"colab-df-convert\" onclick=\"convertToInteractive('df-198333d6-78f9-4e2e-8ef3-10f12801381d')\"\n",
              "              title=\"Convert this dataframe to an interactive table.\"\n",
              "              style=\"display:none;\">\n",
              "        \n",
              "  <svg xmlns=\"http://www.w3.org/2000/svg\" height=\"24px\"viewBox=\"0 0 24 24\"\n",
              "       width=\"24px\">\n",
              "    <path d=\"M0 0h24v24H0V0z\" fill=\"none\"/>\n",
              "    <path d=\"M18.56 5.44l.94 2.06.94-2.06 2.06-.94-2.06-.94-.94-2.06-.94 2.06-2.06.94zm-11 1L8.5 8.5l.94-2.06 2.06-.94-2.06-.94L8.5 2.5l-.94 2.06-2.06.94zm10 10l.94 2.06.94-2.06 2.06-.94-2.06-.94-.94-2.06-.94 2.06-2.06.94z\"/><path d=\"M17.41 7.96l-1.37-1.37c-.4-.4-.92-.59-1.43-.59-.52 0-1.04.2-1.43.59L10.3 9.45l-7.72 7.72c-.78.78-.78 2.05 0 2.83L4 21.41c.39.39.9.59 1.41.59.51 0 1.02-.2 1.41-.59l7.78-7.78 2.81-2.81c.8-.78.8-2.07 0-2.86zM5.41 20L4 18.59l7.72-7.72 1.47 1.35L5.41 20z\"/>\n",
              "  </svg>\n",
              "      </button>\n",
              "      \n",
              "  <style>\n",
              "    .colab-df-container {\n",
              "      display:flex;\n",
              "      flex-wrap:wrap;\n",
              "      gap: 12px;\n",
              "    }\n",
              "\n",
              "    .colab-df-convert {\n",
              "      background-color: #E8F0FE;\n",
              "      border: none;\n",
              "      border-radius: 50%;\n",
              "      cursor: pointer;\n",
              "      display: none;\n",
              "      fill: #1967D2;\n",
              "      height: 32px;\n",
              "      padding: 0 0 0 0;\n",
              "      width: 32px;\n",
              "    }\n",
              "\n",
              "    .colab-df-convert:hover {\n",
              "      background-color: #E2EBFA;\n",
              "      box-shadow: 0px 1px 2px rgba(60, 64, 67, 0.3), 0px 1px 3px 1px rgba(60, 64, 67, 0.15);\n",
              "      fill: #174EA6;\n",
              "    }\n",
              "\n",
              "    [theme=dark] .colab-df-convert {\n",
              "      background-color: #3B4455;\n",
              "      fill: #D2E3FC;\n",
              "    }\n",
              "\n",
              "    [theme=dark] .colab-df-convert:hover {\n",
              "      background-color: #434B5C;\n",
              "      box-shadow: 0px 1px 3px 1px rgba(0, 0, 0, 0.15);\n",
              "      filter: drop-shadow(0px 1px 2px rgba(0, 0, 0, 0.3));\n",
              "      fill: #FFFFFF;\n",
              "    }\n",
              "  </style>\n",
              "\n",
              "      <script>\n",
              "        const buttonEl =\n",
              "          document.querySelector('#df-198333d6-78f9-4e2e-8ef3-10f12801381d button.colab-df-convert');\n",
              "        buttonEl.style.display =\n",
              "          google.colab.kernel.accessAllowed ? 'block' : 'none';\n",
              "\n",
              "        async function convertToInteractive(key) {\n",
              "          const element = document.querySelector('#df-198333d6-78f9-4e2e-8ef3-10f12801381d');\n",
              "          const dataTable =\n",
              "            await google.colab.kernel.invokeFunction('convertToInteractive',\n",
              "                                                     [key], {});\n",
              "          if (!dataTable) return;\n",
              "\n",
              "          const docLinkHtml = 'Like what you see? Visit the ' +\n",
              "            '<a target=\"_blank\" href=https://colab.research.google.com/notebooks/data_table.ipynb>data table notebook</a>'\n",
              "            + ' to learn more about interactive tables.';\n",
              "          element.innerHTML = '';\n",
              "          dataTable['output_type'] = 'display_data';\n",
              "          await google.colab.output.renderOutput(dataTable, element);\n",
              "          const docLink = document.createElement('div');\n",
              "          docLink.innerHTML = docLinkHtml;\n",
              "          element.appendChild(docLink);\n",
              "        }\n",
              "      </script>\n",
              "    </div>\n",
              "  </div>\n",
              "  "
            ]
          },
          "metadata": {},
          "execution_count": 17
        }
      ]
    },
    {
      "cell_type": "code",
      "source": [
        "# not many have full rank history\n",
        "(bsr_dates['days_in_bw'] == bsr_dates['n_rank']).mean()"
      ],
      "metadata": {
        "id": "ZkTj5yMJb3mn",
        "colab": {
          "base_uri": "https://localhost:8080/"
        },
        "outputId": "5607a550-ce70-49e2-d7b4-80b2862560aa"
      },
      "execution_count": 18,
      "outputs": [
        {
          "output_type": "execute_result",
          "data": {
            "text/plain": [
              "0.11880692623361025"
            ]
          },
          "metadata": {},
          "execution_count": 18
        }
      ]
    },
    {
      "cell_type": "code",
      "source": [
        "# though not many missing dates\n",
        "(bsr_dates['n_rank'] / bsr_dates['days_in_bw']).mean()"
      ],
      "metadata": {
        "colab": {
          "base_uri": "https://localhost:8080/"
        },
        "id": "SJx934HZqyOy",
        "outputId": "7a4f688c-b3a1-46ae-b87a-9bf065c123fa"
      },
      "execution_count": 19,
      "outputs": [
        {
          "output_type": "execute_result",
          "data": {
            "text/plain": [
              "0.9206648259538116"
            ]
          },
          "metadata": {},
          "execution_count": 19
        }
      ]
    },
    {
      "cell_type": "code",
      "source": [
        "del bsr_dates"
      ],
      "metadata": {
        "id": "BPL-uEOiOnSR"
      },
      "execution_count": 20,
      "outputs": []
    },
    {
      "cell_type": "code",
      "source": [
        "# e.g. no 2020-04-23 rank\n",
        "bsr_full.query('asin == \"2635214875\" & date > \"2020-04-21\"').sort_values('date').head()"
      ],
      "metadata": {
        "id": "5qL_KrAyb3j9",
        "colab": {
          "base_uri": "https://localhost:8080/",
          "height": 206
        },
        "outputId": "af63a05f-4d99-44e5-ce91-faf0726a92f7"
      },
      "execution_count": 21,
      "outputs": [
        {
          "output_type": "execute_result",
          "data": {
            "text/plain": [
              "          Unnamed: 0        date         rank  avg180_price        asin\n",
              "2521247      2521247  2020-04-22  6961.666667         60.32  2635214875\n",
              "13981778    13981778  2020-04-22  6961.666667         60.32  2635214875\n",
              "3484499      3484499  2020-04-22  6961.666667         60.32  2635214875\n",
              "2521248      2521248  2020-04-24  6848.000000         60.32  2635214875\n",
              "13981779    13981779  2020-04-24  6848.000000         60.32  2635214875"
            ],
            "text/html": [
              "\n",
              "  <div id=\"df-a9aba356-d034-4f74-aa91-6c127048d37b\">\n",
              "    <div class=\"colab-df-container\">\n",
              "      <div>\n",
              "<style scoped>\n",
              "    .dataframe tbody tr th:only-of-type {\n",
              "        vertical-align: middle;\n",
              "    }\n",
              "\n",
              "    .dataframe tbody tr th {\n",
              "        vertical-align: top;\n",
              "    }\n",
              "\n",
              "    .dataframe thead th {\n",
              "        text-align: right;\n",
              "    }\n",
              "</style>\n",
              "<table border=\"1\" class=\"dataframe\">\n",
              "  <thead>\n",
              "    <tr style=\"text-align: right;\">\n",
              "      <th></th>\n",
              "      <th>Unnamed: 0</th>\n",
              "      <th>date</th>\n",
              "      <th>rank</th>\n",
              "      <th>avg180_price</th>\n",
              "      <th>asin</th>\n",
              "    </tr>\n",
              "  </thead>\n",
              "  <tbody>\n",
              "    <tr>\n",
              "      <th>2521247</th>\n",
              "      <td>2521247</td>\n",
              "      <td>2020-04-22</td>\n",
              "      <td>6961.666667</td>\n",
              "      <td>60.32</td>\n",
              "      <td>2635214875</td>\n",
              "    </tr>\n",
              "    <tr>\n",
              "      <th>13981778</th>\n",
              "      <td>13981778</td>\n",
              "      <td>2020-04-22</td>\n",
              "      <td>6961.666667</td>\n",
              "      <td>60.32</td>\n",
              "      <td>2635214875</td>\n",
              "    </tr>\n",
              "    <tr>\n",
              "      <th>3484499</th>\n",
              "      <td>3484499</td>\n",
              "      <td>2020-04-22</td>\n",
              "      <td>6961.666667</td>\n",
              "      <td>60.32</td>\n",
              "      <td>2635214875</td>\n",
              "    </tr>\n",
              "    <tr>\n",
              "      <th>2521248</th>\n",
              "      <td>2521248</td>\n",
              "      <td>2020-04-24</td>\n",
              "      <td>6848.000000</td>\n",
              "      <td>60.32</td>\n",
              "      <td>2635214875</td>\n",
              "    </tr>\n",
              "    <tr>\n",
              "      <th>13981779</th>\n",
              "      <td>13981779</td>\n",
              "      <td>2020-04-24</td>\n",
              "      <td>6848.000000</td>\n",
              "      <td>60.32</td>\n",
              "      <td>2635214875</td>\n",
              "    </tr>\n",
              "  </tbody>\n",
              "</table>\n",
              "</div>\n",
              "      <button class=\"colab-df-convert\" onclick=\"convertToInteractive('df-a9aba356-d034-4f74-aa91-6c127048d37b')\"\n",
              "              title=\"Convert this dataframe to an interactive table.\"\n",
              "              style=\"display:none;\">\n",
              "        \n",
              "  <svg xmlns=\"http://www.w3.org/2000/svg\" height=\"24px\"viewBox=\"0 0 24 24\"\n",
              "       width=\"24px\">\n",
              "    <path d=\"M0 0h24v24H0V0z\" fill=\"none\"/>\n",
              "    <path d=\"M18.56 5.44l.94 2.06.94-2.06 2.06-.94-2.06-.94-.94-2.06-.94 2.06-2.06.94zm-11 1L8.5 8.5l.94-2.06 2.06-.94-2.06-.94L8.5 2.5l-.94 2.06-2.06.94zm10 10l.94 2.06.94-2.06 2.06-.94-2.06-.94-.94-2.06-.94 2.06-2.06.94z\"/><path d=\"M17.41 7.96l-1.37-1.37c-.4-.4-.92-.59-1.43-.59-.52 0-1.04.2-1.43.59L10.3 9.45l-7.72 7.72c-.78.78-.78 2.05 0 2.83L4 21.41c.39.39.9.59 1.41.59.51 0 1.02-.2 1.41-.59l7.78-7.78 2.81-2.81c.8-.78.8-2.07 0-2.86zM5.41 20L4 18.59l7.72-7.72 1.47 1.35L5.41 20z\"/>\n",
              "  </svg>\n",
              "      </button>\n",
              "      \n",
              "  <style>\n",
              "    .colab-df-container {\n",
              "      display:flex;\n",
              "      flex-wrap:wrap;\n",
              "      gap: 12px;\n",
              "    }\n",
              "\n",
              "    .colab-df-convert {\n",
              "      background-color: #E8F0FE;\n",
              "      border: none;\n",
              "      border-radius: 50%;\n",
              "      cursor: pointer;\n",
              "      display: none;\n",
              "      fill: #1967D2;\n",
              "      height: 32px;\n",
              "      padding: 0 0 0 0;\n",
              "      width: 32px;\n",
              "    }\n",
              "\n",
              "    .colab-df-convert:hover {\n",
              "      background-color: #E2EBFA;\n",
              "      box-shadow: 0px 1px 2px rgba(60, 64, 67, 0.3), 0px 1px 3px 1px rgba(60, 64, 67, 0.15);\n",
              "      fill: #174EA6;\n",
              "    }\n",
              "\n",
              "    [theme=dark] .colab-df-convert {\n",
              "      background-color: #3B4455;\n",
              "      fill: #D2E3FC;\n",
              "    }\n",
              "\n",
              "    [theme=dark] .colab-df-convert:hover {\n",
              "      background-color: #434B5C;\n",
              "      box-shadow: 0px 1px 3px 1px rgba(0, 0, 0, 0.15);\n",
              "      filter: drop-shadow(0px 1px 2px rgba(0, 0, 0, 0.3));\n",
              "      fill: #FFFFFF;\n",
              "    }\n",
              "  </style>\n",
              "\n",
              "      <script>\n",
              "        const buttonEl =\n",
              "          document.querySelector('#df-a9aba356-d034-4f74-aa91-6c127048d37b button.colab-df-convert');\n",
              "        buttonEl.style.display =\n",
              "          google.colab.kernel.accessAllowed ? 'block' : 'none';\n",
              "\n",
              "        async function convertToInteractive(key) {\n",
              "          const element = document.querySelector('#df-a9aba356-d034-4f74-aa91-6c127048d37b');\n",
              "          const dataTable =\n",
              "            await google.colab.kernel.invokeFunction('convertToInteractive',\n",
              "                                                     [key], {});\n",
              "          if (!dataTable) return;\n",
              "\n",
              "          const docLinkHtml = 'Like what you see? Visit the ' +\n",
              "            '<a target=\"_blank\" href=https://colab.research.google.com/notebooks/data_table.ipynb>data table notebook</a>'\n",
              "            + ' to learn more about interactive tables.';\n",
              "          element.innerHTML = '';\n",
              "          dataTable['output_type'] = 'display_data';\n",
              "          await google.colab.output.renderOutput(dataTable, element);\n",
              "          const docLink = document.createElement('div');\n",
              "          docLink.innerHTML = docLinkHtml;\n",
              "          element.appendChild(docLink);\n",
              "        }\n",
              "      </script>\n",
              "    </div>\n",
              "  </div>\n",
              "  "
            ]
          },
          "metadata": {},
          "execution_count": 21
        }
      ]
    },
    {
      "cell_type": "code",
      "source": [
        "# but 2020-04-23 has data\n",
        "bsr_full.query('date == \"2020-04-23\"')"
      ],
      "metadata": {
        "colab": {
          "base_uri": "https://localhost:8080/",
          "height": 424
        },
        "id": "7ghBQ5jhmW-S",
        "outputId": "f414291c-cffd-4761-9f5b-266c6e7691bd"
      },
      "execution_count": 22,
      "outputs": [
        {
          "output_type": "execute_result",
          "data": {
            "text/plain": [
              "          Unnamed: 0        date           rank  avg180_price        asin\n",
              "1012            1012  2020-04-23   39751.200000         17.01  B000139ZHU\n",
              "2401            2401  2020-04-23   75320.750000         19.65  B000154TMO\n",
              "3837            3837  2020-04-23   23290.000000         24.70  B0002MSSEG\n",
              "5249            5249  2020-04-23   24684.000000         12.05  B0006GDAAU\n",
              "6667            6667  2020-04-23   17806.000000         14.91  B0006ZWUUM\n",
              "...              ...         ...            ...           ...         ...\n",
              "29083142    29083142  2020-04-23   10682.500000          8.80  B07X49NMHF\n",
              "29083743    29083743  2020-04-23   67126.666667         31.05  B07YM9VGKZ\n",
              "29084279    29084279  2020-04-23  170909.000000         32.70  B08299NLMK\n",
              "29084764    29084764  2020-04-23   34259.250000         17.99  B082PHKWFB\n",
              "29085754    29085754  2020-04-23  156626.400000         34.95  B084ZS2KSF\n",
              "\n",
              "[23304 rows x 5 columns]"
            ],
            "text/html": [
              "\n",
              "  <div id=\"df-bb84107b-5baf-4806-b106-48ae667eb862\">\n",
              "    <div class=\"colab-df-container\">\n",
              "      <div>\n",
              "<style scoped>\n",
              "    .dataframe tbody tr th:only-of-type {\n",
              "        vertical-align: middle;\n",
              "    }\n",
              "\n",
              "    .dataframe tbody tr th {\n",
              "        vertical-align: top;\n",
              "    }\n",
              "\n",
              "    .dataframe thead th {\n",
              "        text-align: right;\n",
              "    }\n",
              "</style>\n",
              "<table border=\"1\" class=\"dataframe\">\n",
              "  <thead>\n",
              "    <tr style=\"text-align: right;\">\n",
              "      <th></th>\n",
              "      <th>Unnamed: 0</th>\n",
              "      <th>date</th>\n",
              "      <th>rank</th>\n",
              "      <th>avg180_price</th>\n",
              "      <th>asin</th>\n",
              "    </tr>\n",
              "  </thead>\n",
              "  <tbody>\n",
              "    <tr>\n",
              "      <th>1012</th>\n",
              "      <td>1012</td>\n",
              "      <td>2020-04-23</td>\n",
              "      <td>39751.200000</td>\n",
              "      <td>17.01</td>\n",
              "      <td>B000139ZHU</td>\n",
              "    </tr>\n",
              "    <tr>\n",
              "      <th>2401</th>\n",
              "      <td>2401</td>\n",
              "      <td>2020-04-23</td>\n",
              "      <td>75320.750000</td>\n",
              "      <td>19.65</td>\n",
              "      <td>B000154TMO</td>\n",
              "    </tr>\n",
              "    <tr>\n",
              "      <th>3837</th>\n",
              "      <td>3837</td>\n",
              "      <td>2020-04-23</td>\n",
              "      <td>23290.000000</td>\n",
              "      <td>24.70</td>\n",
              "      <td>B0002MSSEG</td>\n",
              "    </tr>\n",
              "    <tr>\n",
              "      <th>5249</th>\n",
              "      <td>5249</td>\n",
              "      <td>2020-04-23</td>\n",
              "      <td>24684.000000</td>\n",
              "      <td>12.05</td>\n",
              "      <td>B0006GDAAU</td>\n",
              "    </tr>\n",
              "    <tr>\n",
              "      <th>6667</th>\n",
              "      <td>6667</td>\n",
              "      <td>2020-04-23</td>\n",
              "      <td>17806.000000</td>\n",
              "      <td>14.91</td>\n",
              "      <td>B0006ZWUUM</td>\n",
              "    </tr>\n",
              "    <tr>\n",
              "      <th>...</th>\n",
              "      <td>...</td>\n",
              "      <td>...</td>\n",
              "      <td>...</td>\n",
              "      <td>...</td>\n",
              "      <td>...</td>\n",
              "    </tr>\n",
              "    <tr>\n",
              "      <th>29083142</th>\n",
              "      <td>29083142</td>\n",
              "      <td>2020-04-23</td>\n",
              "      <td>10682.500000</td>\n",
              "      <td>8.80</td>\n",
              "      <td>B07X49NMHF</td>\n",
              "    </tr>\n",
              "    <tr>\n",
              "      <th>29083743</th>\n",
              "      <td>29083743</td>\n",
              "      <td>2020-04-23</td>\n",
              "      <td>67126.666667</td>\n",
              "      <td>31.05</td>\n",
              "      <td>B07YM9VGKZ</td>\n",
              "    </tr>\n",
              "    <tr>\n",
              "      <th>29084279</th>\n",
              "      <td>29084279</td>\n",
              "      <td>2020-04-23</td>\n",
              "      <td>170909.000000</td>\n",
              "      <td>32.70</td>\n",
              "      <td>B08299NLMK</td>\n",
              "    </tr>\n",
              "    <tr>\n",
              "      <th>29084764</th>\n",
              "      <td>29084764</td>\n",
              "      <td>2020-04-23</td>\n",
              "      <td>34259.250000</td>\n",
              "      <td>17.99</td>\n",
              "      <td>B082PHKWFB</td>\n",
              "    </tr>\n",
              "    <tr>\n",
              "      <th>29085754</th>\n",
              "      <td>29085754</td>\n",
              "      <td>2020-04-23</td>\n",
              "      <td>156626.400000</td>\n",
              "      <td>34.95</td>\n",
              "      <td>B084ZS2KSF</td>\n",
              "    </tr>\n",
              "  </tbody>\n",
              "</table>\n",
              "<p>23304 rows × 5 columns</p>\n",
              "</div>\n",
              "      <button class=\"colab-df-convert\" onclick=\"convertToInteractive('df-bb84107b-5baf-4806-b106-48ae667eb862')\"\n",
              "              title=\"Convert this dataframe to an interactive table.\"\n",
              "              style=\"display:none;\">\n",
              "        \n",
              "  <svg xmlns=\"http://www.w3.org/2000/svg\" height=\"24px\"viewBox=\"0 0 24 24\"\n",
              "       width=\"24px\">\n",
              "    <path d=\"M0 0h24v24H0V0z\" fill=\"none\"/>\n",
              "    <path d=\"M18.56 5.44l.94 2.06.94-2.06 2.06-.94-2.06-.94-.94-2.06-.94 2.06-2.06.94zm-11 1L8.5 8.5l.94-2.06 2.06-.94-2.06-.94L8.5 2.5l-.94 2.06-2.06.94zm10 10l.94 2.06.94-2.06 2.06-.94-2.06-.94-.94-2.06-.94 2.06-2.06.94z\"/><path d=\"M17.41 7.96l-1.37-1.37c-.4-.4-.92-.59-1.43-.59-.52 0-1.04.2-1.43.59L10.3 9.45l-7.72 7.72c-.78.78-.78 2.05 0 2.83L4 21.41c.39.39.9.59 1.41.59.51 0 1.02-.2 1.41-.59l7.78-7.78 2.81-2.81c.8-.78.8-2.07 0-2.86zM5.41 20L4 18.59l7.72-7.72 1.47 1.35L5.41 20z\"/>\n",
              "  </svg>\n",
              "      </button>\n",
              "      \n",
              "  <style>\n",
              "    .colab-df-container {\n",
              "      display:flex;\n",
              "      flex-wrap:wrap;\n",
              "      gap: 12px;\n",
              "    }\n",
              "\n",
              "    .colab-df-convert {\n",
              "      background-color: #E8F0FE;\n",
              "      border: none;\n",
              "      border-radius: 50%;\n",
              "      cursor: pointer;\n",
              "      display: none;\n",
              "      fill: #1967D2;\n",
              "      height: 32px;\n",
              "      padding: 0 0 0 0;\n",
              "      width: 32px;\n",
              "    }\n",
              "\n",
              "    .colab-df-convert:hover {\n",
              "      background-color: #E2EBFA;\n",
              "      box-shadow: 0px 1px 2px rgba(60, 64, 67, 0.3), 0px 1px 3px 1px rgba(60, 64, 67, 0.15);\n",
              "      fill: #174EA6;\n",
              "    }\n",
              "\n",
              "    [theme=dark] .colab-df-convert {\n",
              "      background-color: #3B4455;\n",
              "      fill: #D2E3FC;\n",
              "    }\n",
              "\n",
              "    [theme=dark] .colab-df-convert:hover {\n",
              "      background-color: #434B5C;\n",
              "      box-shadow: 0px 1px 3px 1px rgba(0, 0, 0, 0.15);\n",
              "      filter: drop-shadow(0px 1px 2px rgba(0, 0, 0, 0.3));\n",
              "      fill: #FFFFFF;\n",
              "    }\n",
              "  </style>\n",
              "\n",
              "      <script>\n",
              "        const buttonEl =\n",
              "          document.querySelector('#df-bb84107b-5baf-4806-b106-48ae667eb862 button.colab-df-convert');\n",
              "        buttonEl.style.display =\n",
              "          google.colab.kernel.accessAllowed ? 'block' : 'none';\n",
              "\n",
              "        async function convertToInteractive(key) {\n",
              "          const element = document.querySelector('#df-bb84107b-5baf-4806-b106-48ae667eb862');\n",
              "          const dataTable =\n",
              "            await google.colab.kernel.invokeFunction('convertToInteractive',\n",
              "                                                     [key], {});\n",
              "          if (!dataTable) return;\n",
              "\n",
              "          const docLinkHtml = 'Like what you see? Visit the ' +\n",
              "            '<a target=\"_blank\" href=https://colab.research.google.com/notebooks/data_table.ipynb>data table notebook</a>'\n",
              "            + ' to learn more about interactive tables.';\n",
              "          element.innerHTML = '';\n",
              "          dataTable['output_type'] = 'display_data';\n",
              "          await google.colab.output.renderOutput(dataTable, element);\n",
              "          const docLink = document.createElement('div');\n",
              "          docLink.innerHTML = docLinkHtml;\n",
              "          element.appendChild(docLink);\n",
              "        }\n",
              "      </script>\n",
              "    </div>\n",
              "  </div>\n",
              "  "
            ]
          },
          "metadata": {},
          "execution_count": 22
        }
      ]
    },
    {
      "cell_type": "code",
      "source": [
        "# max rank vs. #prod on that day\n",
        "max_rank_per_day = bsr_full[['date', 'rank']].groupby('date').max().reset_index().rename(columns={'rank': 'max_rank'})\n",
        "bsr_n_prob = bsr_full[['date','asin']].drop_duplicates().groupby('date')['asin'].count().to_frame().reset_index().rename(columns={'asin': 'n_prod_ranked'})\n",
        "bsr_n_prob.merge(max_rank_per_day, on='date',how='outer')"
      ],
      "metadata": {
        "colab": {
          "base_uri": "https://localhost:8080/",
          "height": 424
        },
        "id": "jPdGR0PGe8qm",
        "outputId": "2e77cc53-9424-42df-e9a6-9331c65c52e5"
      },
      "execution_count": 23,
      "outputs": [
        {
          "output_type": "execute_result",
          "data": {
            "text/plain": [
              "            date  n_prod_ranked      max_rank\n",
              "0     2017-07-03           3945  3.271760e+06\n",
              "1     2017-07-04           4076  1.734833e+06\n",
              "2     2017-07-05           3903  1.735770e+06\n",
              "3     2017-07-06           4153  1.737027e+06\n",
              "4     2017-07-07           3830  3.623343e+06\n",
              "...          ...            ...           ...\n",
              "1456  2021-06-28           9856  6.062830e+05\n",
              "1457  2021-06-29           9834  2.650423e+05\n",
              "1458  2021-06-30           9866  2.710175e+05\n",
              "1459  2021-07-01           9828  1.939240e+05\n",
              "1460  2021-07-02           9982  1.183337e+06\n",
              "\n",
              "[1461 rows x 3 columns]"
            ],
            "text/html": [
              "\n",
              "  <div id=\"df-d3f35674-fcbf-46e8-b423-51df11f46051\">\n",
              "    <div class=\"colab-df-container\">\n",
              "      <div>\n",
              "<style scoped>\n",
              "    .dataframe tbody tr th:only-of-type {\n",
              "        vertical-align: middle;\n",
              "    }\n",
              "\n",
              "    .dataframe tbody tr th {\n",
              "        vertical-align: top;\n",
              "    }\n",
              "\n",
              "    .dataframe thead th {\n",
              "        text-align: right;\n",
              "    }\n",
              "</style>\n",
              "<table border=\"1\" class=\"dataframe\">\n",
              "  <thead>\n",
              "    <tr style=\"text-align: right;\">\n",
              "      <th></th>\n",
              "      <th>date</th>\n",
              "      <th>n_prod_ranked</th>\n",
              "      <th>max_rank</th>\n",
              "    </tr>\n",
              "  </thead>\n",
              "  <tbody>\n",
              "    <tr>\n",
              "      <th>0</th>\n",
              "      <td>2017-07-03</td>\n",
              "      <td>3945</td>\n",
              "      <td>3.271760e+06</td>\n",
              "    </tr>\n",
              "    <tr>\n",
              "      <th>1</th>\n",
              "      <td>2017-07-04</td>\n",
              "      <td>4076</td>\n",
              "      <td>1.734833e+06</td>\n",
              "    </tr>\n",
              "    <tr>\n",
              "      <th>2</th>\n",
              "      <td>2017-07-05</td>\n",
              "      <td>3903</td>\n",
              "      <td>1.735770e+06</td>\n",
              "    </tr>\n",
              "    <tr>\n",
              "      <th>3</th>\n",
              "      <td>2017-07-06</td>\n",
              "      <td>4153</td>\n",
              "      <td>1.737027e+06</td>\n",
              "    </tr>\n",
              "    <tr>\n",
              "      <th>4</th>\n",
              "      <td>2017-07-07</td>\n",
              "      <td>3830</td>\n",
              "      <td>3.623343e+06</td>\n",
              "    </tr>\n",
              "    <tr>\n",
              "      <th>...</th>\n",
              "      <td>...</td>\n",
              "      <td>...</td>\n",
              "      <td>...</td>\n",
              "    </tr>\n",
              "    <tr>\n",
              "      <th>1456</th>\n",
              "      <td>2021-06-28</td>\n",
              "      <td>9856</td>\n",
              "      <td>6.062830e+05</td>\n",
              "    </tr>\n",
              "    <tr>\n",
              "      <th>1457</th>\n",
              "      <td>2021-06-29</td>\n",
              "      <td>9834</td>\n",
              "      <td>2.650423e+05</td>\n",
              "    </tr>\n",
              "    <tr>\n",
              "      <th>1458</th>\n",
              "      <td>2021-06-30</td>\n",
              "      <td>9866</td>\n",
              "      <td>2.710175e+05</td>\n",
              "    </tr>\n",
              "    <tr>\n",
              "      <th>1459</th>\n",
              "      <td>2021-07-01</td>\n",
              "      <td>9828</td>\n",
              "      <td>1.939240e+05</td>\n",
              "    </tr>\n",
              "    <tr>\n",
              "      <th>1460</th>\n",
              "      <td>2021-07-02</td>\n",
              "      <td>9982</td>\n",
              "      <td>1.183337e+06</td>\n",
              "    </tr>\n",
              "  </tbody>\n",
              "</table>\n",
              "<p>1461 rows × 3 columns</p>\n",
              "</div>\n",
              "      <button class=\"colab-df-convert\" onclick=\"convertToInteractive('df-d3f35674-fcbf-46e8-b423-51df11f46051')\"\n",
              "              title=\"Convert this dataframe to an interactive table.\"\n",
              "              style=\"display:none;\">\n",
              "        \n",
              "  <svg xmlns=\"http://www.w3.org/2000/svg\" height=\"24px\"viewBox=\"0 0 24 24\"\n",
              "       width=\"24px\">\n",
              "    <path d=\"M0 0h24v24H0V0z\" fill=\"none\"/>\n",
              "    <path d=\"M18.56 5.44l.94 2.06.94-2.06 2.06-.94-2.06-.94-.94-2.06-.94 2.06-2.06.94zm-11 1L8.5 8.5l.94-2.06 2.06-.94-2.06-.94L8.5 2.5l-.94 2.06-2.06.94zm10 10l.94 2.06.94-2.06 2.06-.94-2.06-.94-.94-2.06-.94 2.06-2.06.94z\"/><path d=\"M17.41 7.96l-1.37-1.37c-.4-.4-.92-.59-1.43-.59-.52 0-1.04.2-1.43.59L10.3 9.45l-7.72 7.72c-.78.78-.78 2.05 0 2.83L4 21.41c.39.39.9.59 1.41.59.51 0 1.02-.2 1.41-.59l7.78-7.78 2.81-2.81c.8-.78.8-2.07 0-2.86zM5.41 20L4 18.59l7.72-7.72 1.47 1.35L5.41 20z\"/>\n",
              "  </svg>\n",
              "      </button>\n",
              "      \n",
              "  <style>\n",
              "    .colab-df-container {\n",
              "      display:flex;\n",
              "      flex-wrap:wrap;\n",
              "      gap: 12px;\n",
              "    }\n",
              "\n",
              "    .colab-df-convert {\n",
              "      background-color: #E8F0FE;\n",
              "      border: none;\n",
              "      border-radius: 50%;\n",
              "      cursor: pointer;\n",
              "      display: none;\n",
              "      fill: #1967D2;\n",
              "      height: 32px;\n",
              "      padding: 0 0 0 0;\n",
              "      width: 32px;\n",
              "    }\n",
              "\n",
              "    .colab-df-convert:hover {\n",
              "      background-color: #E2EBFA;\n",
              "      box-shadow: 0px 1px 2px rgba(60, 64, 67, 0.3), 0px 1px 3px 1px rgba(60, 64, 67, 0.15);\n",
              "      fill: #174EA6;\n",
              "    }\n",
              "\n",
              "    [theme=dark] .colab-df-convert {\n",
              "      background-color: #3B4455;\n",
              "      fill: #D2E3FC;\n",
              "    }\n",
              "\n",
              "    [theme=dark] .colab-df-convert:hover {\n",
              "      background-color: #434B5C;\n",
              "      box-shadow: 0px 1px 3px 1px rgba(0, 0, 0, 0.15);\n",
              "      filter: drop-shadow(0px 1px 2px rgba(0, 0, 0, 0.3));\n",
              "      fill: #FFFFFF;\n",
              "    }\n",
              "  </style>\n",
              "\n",
              "      <script>\n",
              "        const buttonEl =\n",
              "          document.querySelector('#df-d3f35674-fcbf-46e8-b423-51df11f46051 button.colab-df-convert');\n",
              "        buttonEl.style.display =\n",
              "          google.colab.kernel.accessAllowed ? 'block' : 'none';\n",
              "\n",
              "        async function convertToInteractive(key) {\n",
              "          const element = document.querySelector('#df-d3f35674-fcbf-46e8-b423-51df11f46051');\n",
              "          const dataTable =\n",
              "            await google.colab.kernel.invokeFunction('convertToInteractive',\n",
              "                                                     [key], {});\n",
              "          if (!dataTable) return;\n",
              "\n",
              "          const docLinkHtml = 'Like what you see? Visit the ' +\n",
              "            '<a target=\"_blank\" href=https://colab.research.google.com/notebooks/data_table.ipynb>data table notebook</a>'\n",
              "            + ' to learn more about interactive tables.';\n",
              "          element.innerHTML = '';\n",
              "          dataTable['output_type'] = 'display_data';\n",
              "          await google.colab.output.renderOutput(dataTable, element);\n",
              "          const docLink = document.createElement('div');\n",
              "          docLink.innerHTML = docLinkHtml;\n",
              "          element.appendChild(docLink);\n",
              "        }\n",
              "      </script>\n",
              "    </div>\n",
              "  </div>\n",
              "  "
            ]
          },
          "metadata": {},
          "execution_count": 23
        }
      ]
    },
    {
      "cell_type": "markdown",
      "source": [
        "NOTE: max_rank is usually much larger than number of product on that day"
      ],
      "metadata": {
        "id": "BgnVDkvahscH"
      }
    },
    {
      "cell_type": "code",
      "source": [
        "# do different products have the same rank on the same day?\n",
        "n_prod_per_rank = bsr_full[['date', 'rank', 'asin']].drop_duplicates().groupby(['date','rank']).count().reset_index()\n",
        "n_prod_per_rank.head()"
      ],
      "metadata": {
        "colab": {
          "base_uri": "https://localhost:8080/",
          "height": 206
        },
        "id": "q7rLXUfDe8iE",
        "outputId": "5d270951-738b-41be-a885-1b0d4eabe2a4"
      },
      "execution_count": 24,
      "outputs": [
        {
          "output_type": "execute_result",
          "data": {
            "text/plain": [
              "         date       rank  asin\n",
              "0  2017-07-03  11.200000     1\n",
              "1  2017-07-03  11.500000     1\n",
              "2  2017-07-03  13.600000     1\n",
              "3  2017-07-03  22.857143     1\n",
              "4  2017-07-03  23.333333     1"
            ],
            "text/html": [
              "\n",
              "  <div id=\"df-bbba16c5-e50f-4718-b5c4-4dc73500b962\">\n",
              "    <div class=\"colab-df-container\">\n",
              "      <div>\n",
              "<style scoped>\n",
              "    .dataframe tbody tr th:only-of-type {\n",
              "        vertical-align: middle;\n",
              "    }\n",
              "\n",
              "    .dataframe tbody tr th {\n",
              "        vertical-align: top;\n",
              "    }\n",
              "\n",
              "    .dataframe thead th {\n",
              "        text-align: right;\n",
              "    }\n",
              "</style>\n",
              "<table border=\"1\" class=\"dataframe\">\n",
              "  <thead>\n",
              "    <tr style=\"text-align: right;\">\n",
              "      <th></th>\n",
              "      <th>date</th>\n",
              "      <th>rank</th>\n",
              "      <th>asin</th>\n",
              "    </tr>\n",
              "  </thead>\n",
              "  <tbody>\n",
              "    <tr>\n",
              "      <th>0</th>\n",
              "      <td>2017-07-03</td>\n",
              "      <td>11.200000</td>\n",
              "      <td>1</td>\n",
              "    </tr>\n",
              "    <tr>\n",
              "      <th>1</th>\n",
              "      <td>2017-07-03</td>\n",
              "      <td>11.500000</td>\n",
              "      <td>1</td>\n",
              "    </tr>\n",
              "    <tr>\n",
              "      <th>2</th>\n",
              "      <td>2017-07-03</td>\n",
              "      <td>13.600000</td>\n",
              "      <td>1</td>\n",
              "    </tr>\n",
              "    <tr>\n",
              "      <th>3</th>\n",
              "      <td>2017-07-03</td>\n",
              "      <td>22.857143</td>\n",
              "      <td>1</td>\n",
              "    </tr>\n",
              "    <tr>\n",
              "      <th>4</th>\n",
              "      <td>2017-07-03</td>\n",
              "      <td>23.333333</td>\n",
              "      <td>1</td>\n",
              "    </tr>\n",
              "  </tbody>\n",
              "</table>\n",
              "</div>\n",
              "      <button class=\"colab-df-convert\" onclick=\"convertToInteractive('df-bbba16c5-e50f-4718-b5c4-4dc73500b962')\"\n",
              "              title=\"Convert this dataframe to an interactive table.\"\n",
              "              style=\"display:none;\">\n",
              "        \n",
              "  <svg xmlns=\"http://www.w3.org/2000/svg\" height=\"24px\"viewBox=\"0 0 24 24\"\n",
              "       width=\"24px\">\n",
              "    <path d=\"M0 0h24v24H0V0z\" fill=\"none\"/>\n",
              "    <path d=\"M18.56 5.44l.94 2.06.94-2.06 2.06-.94-2.06-.94-.94-2.06-.94 2.06-2.06.94zm-11 1L8.5 8.5l.94-2.06 2.06-.94-2.06-.94L8.5 2.5l-.94 2.06-2.06.94zm10 10l.94 2.06.94-2.06 2.06-.94-2.06-.94-.94-2.06-.94 2.06-2.06.94z\"/><path d=\"M17.41 7.96l-1.37-1.37c-.4-.4-.92-.59-1.43-.59-.52 0-1.04.2-1.43.59L10.3 9.45l-7.72 7.72c-.78.78-.78 2.05 0 2.83L4 21.41c.39.39.9.59 1.41.59.51 0 1.02-.2 1.41-.59l7.78-7.78 2.81-2.81c.8-.78.8-2.07 0-2.86zM5.41 20L4 18.59l7.72-7.72 1.47 1.35L5.41 20z\"/>\n",
              "  </svg>\n",
              "      </button>\n",
              "      \n",
              "  <style>\n",
              "    .colab-df-container {\n",
              "      display:flex;\n",
              "      flex-wrap:wrap;\n",
              "      gap: 12px;\n",
              "    }\n",
              "\n",
              "    .colab-df-convert {\n",
              "      background-color: #E8F0FE;\n",
              "      border: none;\n",
              "      border-radius: 50%;\n",
              "      cursor: pointer;\n",
              "      display: none;\n",
              "      fill: #1967D2;\n",
              "      height: 32px;\n",
              "      padding: 0 0 0 0;\n",
              "      width: 32px;\n",
              "    }\n",
              "\n",
              "    .colab-df-convert:hover {\n",
              "      background-color: #E2EBFA;\n",
              "      box-shadow: 0px 1px 2px rgba(60, 64, 67, 0.3), 0px 1px 3px 1px rgba(60, 64, 67, 0.15);\n",
              "      fill: #174EA6;\n",
              "    }\n",
              "\n",
              "    [theme=dark] .colab-df-convert {\n",
              "      background-color: #3B4455;\n",
              "      fill: #D2E3FC;\n",
              "    }\n",
              "\n",
              "    [theme=dark] .colab-df-convert:hover {\n",
              "      background-color: #434B5C;\n",
              "      box-shadow: 0px 1px 3px 1px rgba(0, 0, 0, 0.15);\n",
              "      filter: drop-shadow(0px 1px 2px rgba(0, 0, 0, 0.3));\n",
              "      fill: #FFFFFF;\n",
              "    }\n",
              "  </style>\n",
              "\n",
              "      <script>\n",
              "        const buttonEl =\n",
              "          document.querySelector('#df-bbba16c5-e50f-4718-b5c4-4dc73500b962 button.colab-df-convert');\n",
              "        buttonEl.style.display =\n",
              "          google.colab.kernel.accessAllowed ? 'block' : 'none';\n",
              "\n",
              "        async function convertToInteractive(key) {\n",
              "          const element = document.querySelector('#df-bbba16c5-e50f-4718-b5c4-4dc73500b962');\n",
              "          const dataTable =\n",
              "            await google.colab.kernel.invokeFunction('convertToInteractive',\n",
              "                                                     [key], {});\n",
              "          if (!dataTable) return;\n",
              "\n",
              "          const docLinkHtml = 'Like what you see? Visit the ' +\n",
              "            '<a target=\"_blank\" href=https://colab.research.google.com/notebooks/data_table.ipynb>data table notebook</a>'\n",
              "            + ' to learn more about interactive tables.';\n",
              "          element.innerHTML = '';\n",
              "          dataTable['output_type'] = 'display_data';\n",
              "          await google.colab.output.renderOutput(dataTable, element);\n",
              "          const docLink = document.createElement('div');\n",
              "          docLink.innerHTML = docLinkHtml;\n",
              "          element.appendChild(docLink);\n",
              "        }\n",
              "      </script>\n",
              "    </div>\n",
              "  </div>\n",
              "  "
            ]
          },
          "metadata": {},
          "execution_count": 24
        }
      ]
    },
    {
      "cell_type": "code",
      "source": [
        "print((n_prod_per_rank['asin']==1).mean(), 'of date-rank pair has a unique product')"
      ],
      "metadata": {
        "colab": {
          "base_uri": "https://localhost:8080/"
        },
        "id": "qZePluitisV2",
        "outputId": "7693664d-89c7-42bb-9f2f-684d1da501b5"
      },
      "execution_count": 25,
      "outputs": [
        {
          "output_type": "stream",
          "name": "stdout",
          "text": [
            "0.9942211307017689 of date-rank pair has a unique product\n"
          ]
        }
      ]
    },
    {
      "cell_type": "code",
      "source": [
        "# max rank everyday \n",
        "f, axs = plt.subplots(1,1,figsize=(6,4));\n",
        "axs.hist(max_rank_per_day['max_rank'], edgecolor='k', alpha=0.8);\n",
        "axs.set(title='Histogram of Max Rank per Day',\n",
        "        xlabel='max rank per day',\n",
        "        ylabel='frequency');"
      ],
      "metadata": {
        "colab": {
          "base_uri": "https://localhost:8080/",
          "height": 295
        },
        "id": "iYRubhC-AhCu",
        "outputId": "9a205b91-5da0-4cfa-e802-c3d5232aedba"
      },
      "execution_count": 26,
      "outputs": [
        {
          "output_type": "display_data",
          "data": {
            "text/plain": [
              "<Figure size 432x288 with 1 Axes>"
            ],
            "image/png": "[encoded data removed]"
          },
          "metadata": {
            "needs_background": "light"
          }
        }
      ]
    },
    {
      "cell_type": "markdown",
      "source": [
        "NOTE: normalize rank cross-sectionally to get rid off the different size across days."
      ],
      "metadata": {
        "id": "GNaU-SWKCbEH"
      }
    },
    {
      "cell_type": "code",
      "source": [
        "bsr_full['daily_n_prod'] = bsr_full.groupby('date')['rank'].transform(np.max)\n",
        "bsr_full['normed_rank'] = bsr_full['rank'] / bsr_full['daily_n_prod'] \n",
        "rank_spread = bsr_full.groupby('asin')['normed_rank'].max() - bsr_full.groupby('asin')['normed_rank'].min()"
      ],
      "metadata": {
        "id": "rsw7BvEZC1Mb"
      },
      "execution_count": 27,
      "outputs": []
    },
    {
      "cell_type": "code",
      "source": [
        "f, axs = plt.subplots(1,1,figsize=(6,4));\n",
        "axs.hist(rank_spread, bins=20, edgecolor='k', alpha=0.8);\n",
        "axs.set(title='Histogram of Normalized Rank Spread',\n",
        "        xlabel='normalized rank spread',\n",
        "        ylabel='frequency');\n"
      ],
      "metadata": {
        "colab": {
          "base_uri": "https://localhost:8080/",
          "height": 295
        },
        "id": "JkD1agRqFHMV",
        "outputId": "a9bed866-c81d-4e0a-b5f5-14395b51c0f7"
      },
      "execution_count": 28,
      "outputs": [
        {
          "output_type": "display_data",
          "data": {
            "text/plain": [
              "<Figure size 432x288 with 1 Axes>"
            ],
            "image/png": "[encoded data removed]"
          },
          "metadata": {
            "needs_background": "light"
          }
        }
      ]
    },
    {
      "cell_type": "markdown",
      "source": [
        "NOTE: fair to say most products are relatively stable in terms of relative rank? autoregression?"
      ],
      "metadata": {
        "id": "GNR6MGheHqqT"
      }
    },
    {
      "cell_type": "markdown",
      "source": [
        "### review data"
      ],
      "metadata": {
        "id": "kkSIDYIKt6Zm"
      }
    },
    {
      "cell_type": "code",
      "source": [
        "review_full = pd.read_csv(f'{data}/raw/asin_review_history.csv')\n",
        "review_full.head()"
      ],
      "metadata": {
        "id": "5fHJzbQ1Bx1g",
        "colab": {
          "base_uri": "https://localhost:8080/",
          "height": 476
        },
        "outputId": "e3343d8d-8360-4ca2-f0b1-80ffa413aaf6"
      },
      "execution_count": 29,
      "outputs": [
        {
          "output_type": "execute_result",
          "data": {
            "text/plain": [
              "   Unnamed: 0        asin                                       product_name  \\\n",
              "0           0  B00R7FFYO8  Brain Octane Premium C8 MCT Oil from Non-GMO C...   \n",
              "1           1  B00R7FFYO8  Brain Octane Premium C8 MCT Oil from Non-GMO C...   \n",
              "2           2  B00R7FFYO8  Brain Octane Premium C8 MCT Oil from Non-GMO C...   \n",
              "3           3  B00R7FFYO8  Brain Octane Premium C8 MCT Oil from Non-GMO C...   \n",
              "4           4  B00R7FFYO8  Brain Octane Premium C8 MCT Oil from Non-GMO C...   \n",
              "\n",
              "                                        review_title  \\\n",
              "0                    Solution to pouring and storing   \n",
              "1                  Works far beyond my expectations.   \n",
              "2                         When you take the cap off,   \n",
              "3  I'm not even sure this is legit bulletproof oi...   \n",
              "4  Getting a definite bump in energy during the day.   \n",
              "\n",
              "                                         review_text  reviewrating  \\\n",
              "0  This review is being posted more as a solution...           5.0   \n",
              "1  I work with my husband. He asked me what has g...           5.0   \n",
              "2  When you take the cap off, just poke a hole in...           4.0   \n",
              "3  I normally order directly from bulletproof. Am...           1.0   \n",
              "4  I've been using this daily for 3 weeks now. I ...           4.0   \n",
              "\n",
              "  review_date                      reviewvotes  reviewverifiedpurchase  \\\n",
              "0  2017-07-27  1,652 people found this helpful                    True   \n",
              "1  2018-01-09    591 people found this helpful                    True   \n",
              "2  2017-02-08  1,205 people found this helpful                    True   \n",
              "3  2017-10-11    545 people found this helpful                    True   \n",
              "4  2017-06-16    857 people found this helpful                    True   \n",
              "\n",
              "   reviewcommentcount                                               temp  \\\n",
              "0                   0     Reviewed in the United States on July 27, 2017   \n",
              "1                   0   Reviewed in the United States on January 9, 2018   \n",
              "2                   0  Reviewed in the United States on February 8, 2017   \n",
              "3                   0  Reviewed in the United States on October 11, 2017   \n",
              "4                   0     Reviewed in the United States on June 16, 2017   \n",
              "\n",
              "     country_name  \n",
              "0   United States  \n",
              "1   United States  \n",
              "2   United States  \n",
              "3   United States  \n",
              "4   United States  "
            ],
            "text/html": [
              "\n",
              "  <div id=\"df-d4a9c837-3252-4847-b2ed-eb37ed22095f\">\n",
              "    <div class=\"colab-df-container\">\n",
              "      <div>\n",
              "<style scoped>\n",
              "    .dataframe tbody tr th:only-of-type {\n",
              "        vertical-align: middle;\n",
              "    }\n",
              "\n",
              "    .dataframe tbody tr th {\n",
              "        vertical-align: top;\n",
              "    }\n",
              "\n",
              "    .dataframe thead th {\n",
              "        text-align: right;\n",
              "    }\n",
              "</style>\n",
              "<table border=\"1\" class=\"dataframe\">\n",
              "  <thead>\n",
              "    <tr style=\"text-align: right;\">\n",
              "      <th></th>\n",
              "      <th>Unnamed: 0</th>\n",
              "      <th>asin</th>\n",
              "      <th>product_name</th>\n",
              "      <th>review_title</th>\n",
              "      <th>review_text</th>\n",
              "      <th>reviewrating</th>\n",
              "      <th>review_date</th>\n",
              "      <th>reviewvotes</th>\n",
              "      <th>reviewverifiedpurchase</th>\n",
              "      <th>reviewcommentcount</th>\n",
              "      <th>temp</th>\n",
              "      <th>country_name</th>\n",
              "    </tr>\n",
              "  </thead>\n",
              "  <tbody>\n",
              "    <tr>\n",
              "      <th>0</th>\n",
              "      <td>0</td>\n",
              "      <td>B00R7FFYO8</td>\n",
              "      <td>Brain Octane Premium C8 MCT Oil from Non-GMO C...</td>\n",
              "      <td>Solution to pouring and storing</td>\n",
              "      <td>This review is being posted more as a solution...</td>\n",
              "      <td>5.0</td>\n",
              "      <td>2017-07-27</td>\n",
              "      <td>1,652 people found this helpful</td>\n",
              "      <td>True</td>\n",
              "      <td>0</td>\n",
              "      <td>Reviewed in the United States on July 27, 2017</td>\n",
              "      <td>United States</td>\n",
              "    </tr>\n",
              "    <tr>\n",
              "      <th>1</th>\n",
              "      <td>1</td>\n",
              "      <td>B00R7FFYO8</td>\n",
              "      <td>Brain Octane Premium C8 MCT Oil from Non-GMO C...</td>\n",
              "      <td>Works far beyond my expectations.</td>\n",
              "      <td>I work with my husband. He asked me what has g...</td>\n",
              "      <td>5.0</td>\n",
              "      <td>2018-01-09</td>\n",
              "      <td>591 people found this helpful</td>\n",
              "      <td>True</td>\n",
              "      <td>0</td>\n",
              "      <td>Reviewed in the United States on January 9, 2018</td>\n",
              "      <td>United States</td>\n",
              "    </tr>\n",
              "    <tr>\n",
              "      <th>2</th>\n",
              "      <td>2</td>\n",
              "      <td>B00R7FFYO8</td>\n",
              "      <td>Brain Octane Premium C8 MCT Oil from Non-GMO C...</td>\n",
              "      <td>When you take the cap off,</td>\n",
              "      <td>When you take the cap off, just poke a hole in...</td>\n",
              "      <td>4.0</td>\n",
              "      <td>2017-02-08</td>\n",
              "      <td>1,205 people found this helpful</td>\n",
              "      <td>True</td>\n",
              "      <td>0</td>\n",
              "      <td>Reviewed in the United States on February 8, 2017</td>\n",
              "      <td>United States</td>\n",
              "    </tr>\n",
              "    <tr>\n",
              "      <th>3</th>\n",
              "      <td>3</td>\n",
              "      <td>B00R7FFYO8</td>\n",
              "      <td>Brain Octane Premium C8 MCT Oil from Non-GMO C...</td>\n",
              "      <td>I'm not even sure this is legit bulletproof oi...</td>\n",
              "      <td>I normally order directly from bulletproof. Am...</td>\n",
              "      <td>1.0</td>\n",
              "      <td>2017-10-11</td>\n",
              "      <td>545 people found this helpful</td>\n",
              "      <td>True</td>\n",
              "      <td>0</td>\n",
              "      <td>Reviewed in the United States on October 11, 2017</td>\n",
              "      <td>United States</td>\n",
              "    </tr>\n",
              "    <tr>\n",
              "      <th>4</th>\n",
              "      <td>4</td>\n",
              "      <td>B00R7FFYO8</td>\n",
              "      <td>Brain Octane Premium C8 MCT Oil from Non-GMO C...</td>\n",
              "      <td>Getting a definite bump in energy during the day.</td>\n",
              "      <td>I've been using this daily for 3 weeks now. I ...</td>\n",
              "      <td>4.0</td>\n",
              "      <td>2017-06-16</td>\n",
              "      <td>857 people found this helpful</td>\n",
              "      <td>True</td>\n",
              "      <td>0</td>\n",
              "      <td>Reviewed in the United States on June 16, 2017</td>\n",
              "      <td>United States</td>\n",
              "    </tr>\n",
              "  </tbody>\n",
              "</table>\n",
              "</div>\n",
              "      <button class=\"colab-df-convert\" onclick=\"convertToInteractive('df-d4a9c837-3252-4847-b2ed-eb37ed22095f')\"\n",
              "              title=\"Convert this dataframe to an interactive table.\"\n",
              "              style=\"display:none;\">\n",
              "        \n",
              "  <svg xmlns=\"http://www.w3.org/2000/svg\" height=\"24px\"viewBox=\"0 0 24 24\"\n",
              "       width=\"24px\">\n",
              "    <path d=\"M0 0h24v24H0V0z\" fill=\"none\"/>\n",
              "    <path d=\"M18.56 5.44l.94 2.06.94-2.06 2.06-.94-2.06-.94-.94-2.06-.94 2.06-2.06.94zm-11 1L8.5 8.5l.94-2.06 2.06-.94-2.06-.94L8.5 2.5l-.94 2.06-2.06.94zm10 10l.94 2.06.94-2.06 2.06-.94-2.06-.94-.94-2.06-.94 2.06-2.06.94z\"/><path d=\"M17.41 7.96l-1.37-1.37c-.4-.4-.92-.59-1.43-.59-.52 0-1.04.2-1.43.59L10.3 9.45l-7.72 7.72c-.78.78-.78 2.05 0 2.83L4 21.41c.39.39.9.59 1.41.59.51 0 1.02-.2 1.41-.59l7.78-7.78 2.81-2.81c.8-.78.8-2.07 0-2.86zM5.41 20L4 18.59l7.72-7.72 1.47 1.35L5.41 20z\"/>\n",
              "  </svg>\n",
              "      </button>\n",
              "      \n",
              "  <style>\n",
              "    .colab-df-container {\n",
              "      display:flex;\n",
              "      flex-wrap:wrap;\n",
              "      gap: 12px;\n",
              "    }\n",
              "\n",
              "    .colab-df-convert {\n",
              "      background-color: #E8F0FE;\n",
              "      border: none;\n",
              "      border-radius: 50%;\n",
              "      cursor: pointer;\n",
              "      display: none;\n",
              "      fill: #1967D2;\n",
              "      height: 32px;\n",
              "      padding: 0 0 0 0;\n",
              "      width: 32px;\n",
              "    }\n",
              "\n",
              "    .colab-df-convert:hover {\n",
              "      background-color: #E2EBFA;\n",
              "      box-shadow: 0px 1px 2px rgba(60, 64, 67, 0.3), 0px 1px 3px 1px rgba(60, 64, 67, 0.15);\n",
              "      fill: #174EA6;\n",
              "    }\n",
              "\n",
              "    [theme=dark] .colab-df-convert {\n",
              "      background-color: #3B4455;\n",
              "      fill: #D2E3FC;\n",
              "    }\n",
              "\n",
              "    [theme=dark] .colab-df-convert:hover {\n",
              "      background-color: #434B5C;\n",
              "      box-shadow: 0px 1px 3px 1px rgba(0, 0, 0, 0.15);\n",
              "      filter: drop-shadow(0px 1px 2px rgba(0, 0, 0, 0.3));\n",
              "      fill: #FFFFFF;\n",
              "    }\n",
              "  </style>\n",
              "\n",
              "      <script>\n",
              "        const buttonEl =\n",
              "          document.querySelector('#df-d4a9c837-3252-4847-b2ed-eb37ed22095f button.colab-df-convert');\n",
              "        buttonEl.style.display =\n",
              "          google.colab.kernel.accessAllowed ? 'block' : 'none';\n",
              "\n",
              "        async function convertToInteractive(key) {\n",
              "          const element = document.querySelector('#df-d4a9c837-3252-4847-b2ed-eb37ed22095f');\n",
              "          const dataTable =\n",
              "            await google.colab.kernel.invokeFunction('convertToInteractive',\n",
              "                                                     [key], {});\n",
              "          if (!dataTable) return;\n",
              "\n",
              "          const docLinkHtml = 'Like what you see? Visit the ' +\n",
              "            '<a target=\"_blank\" href=https://colab.research.google.com/notebooks/data_table.ipynb>data table notebook</a>'\n",
              "            + ' to learn more about interactive tables.';\n",
              "          element.innerHTML = '';\n",
              "          dataTable['output_type'] = 'display_data';\n",
              "          await google.colab.output.renderOutput(dataTable, element);\n",
              "          const docLink = document.createElement('div');\n",
              "          docLink.innerHTML = docLinkHtml;\n",
              "          element.appendChild(docLink);\n",
              "        }\n",
              "      </script>\n",
              "    </div>\n",
              "  </div>\n",
              "  "
            ]
          },
          "metadata": {},
          "execution_count": 29
        }
      ]
    },
    {
      "cell_type": "code",
      "source": [
        "review_full.shape"
      ],
      "metadata": {
        "colab": {
          "base_uri": "https://localhost:8080/"
        },
        "id": "RLRCZ61HXClc",
        "outputId": "1af74c66-3bd5-4e0f-b089-1ecda8120e53"
      },
      "execution_count": 30,
      "outputs": [
        {
          "output_type": "execute_result",
          "data": {
            "text/plain": [
              "(5532637, 12)"
            ]
          },
          "metadata": {},
          "execution_count": 30
        }
      ]
    },
    {
      "cell_type": "code",
      "source": [
        "review_full['review_date'].min()"
      ],
      "metadata": {
        "colab": {
          "base_uri": "https://localhost:8080/",
          "height": 35
        },
        "id": "RUPJdpACgTS_",
        "outputId": "0ba72b45-6bf4-424c-f080-af6813966d20"
      },
      "execution_count": 31,
      "outputs": [
        {
          "output_type": "execute_result",
          "data": {
            "text/plain": [
              "'2004-01-09'"
            ],
            "application/vnd.google.colaboratory.intrinsic+json": {
              "type": "string"
            }
          },
          "metadata": {},
          "execution_count": 31
        }
      ]
    },
    {
      "cell_type": "code",
      "source": [
        "review_full['review_date'].max()"
      ],
      "metadata": {
        "colab": {
          "base_uri": "https://localhost:8080/",
          "height": 35
        },
        "id": "Q3MHxSxNW4cg",
        "outputId": "56109cf7-402a-425b-f10f-46333ea9e098"
      },
      "execution_count": 32,
      "outputs": [
        {
          "output_type": "execute_result",
          "data": {
            "text/plain": [
              "'2021-07-17'"
            ],
            "application/vnd.google.colaboratory.intrinsic+json": {
              "type": "string"
            }
          },
          "metadata": {},
          "execution_count": 32
        }
      ]
    },
    {
      "cell_type": "code",
      "source": [
        "review_full['year'] = pd.DatetimeIndex(review_full['review_date']).year"
      ],
      "metadata": {
        "id": "IZaHVgVXgfIB"
      },
      "execution_count": 33,
      "outputs": []
    },
    {
      "cell_type": "code",
      "source": [
        "plt.hist(review_full.groupby('asin')['year'].max());"
      ],
      "metadata": {
        "colab": {
          "base_uri": "https://localhost:8080/",
          "height": 265
        },
        "id": "uZgBNPvaOk6s",
        "outputId": "1f113177-6c52-4971-cd61-d65ecbd969a0"
      },
      "execution_count": 34,
      "outputs": [
        {
          "output_type": "display_data",
          "data": {
            "text/plain": [
              "<Figure size 432x288 with 1 Axes>"
            ],
            "image/png": "[encoded data removed]"
          },
          "metadata": {
            "needs_background": "light"
          }
        }
      ]
    },
    {
      "cell_type": "code",
      "source": [
        "first_review_date = review_full.groupby('asin')['review_date'].min().reset_index().rename(columns={'review_date':'first_review'})\n",
        "first_rank_date = bsr_full.groupby('asin')['date'].min().reset_index().rename(columns={'date':'first_rank'})\n",
        "merged_first_date = first_review_date.merge(first_rank_date,how='inner',on='asin')\n",
        "merged_first_date"
      ],
      "metadata": {
        "id": "nVfWdv8mrdhZ",
        "colab": {
          "base_uri": "https://localhost:8080/",
          "height": 424
        },
        "outputId": "e1dc2f2d-c086-482e-a86b-636b6f5c7cc1"
      },
      "execution_count": 35,
      "outputs": [
        {
          "output_type": "execute_result",
          "data": {
            "text/plain": [
              "            asin first_review  first_rank\n",
              "0     2635214875   2014-11-29  2020-02-21\n",
              "1     B000052XB5   2010-06-05  2017-07-03\n",
              "2     B00005313T   2007-09-26  2017-07-03\n",
              "3     B0000533I2   2004-09-12  2017-07-03\n",
              "4     B00005K9DO   2017-02-09  2017-07-03\n",
              "...          ...          ...         ...\n",
              "9953  B096Z9KL3B   2020-10-29  2021-06-21\n",
              "9954  B096ZMC4PR   2012-04-12  2021-06-18\n",
              "9955  B0971W5NJD   2021-06-19  2021-06-16\n",
              "9956  B097C9ZBG1   2019-03-15  2021-06-17\n",
              "9957  B097Z1CVBV   2021-01-27  2021-06-30\n",
              "\n",
              "[9958 rows x 3 columns]"
            ],
            "text/html": [
              "\n",
              "  <div id=\"df-ec3ef024-edfb-4fc6-9686-e155b17682c2\">\n",
              "    <div class=\"colab-df-container\">\n",
              "      <div>\n",
              "<style scoped>\n",
              "    .dataframe tbody tr th:only-of-type {\n",
              "        vertical-align: middle;\n",
              "    }\n",
              "\n",
              "    .dataframe tbody tr th {\n",
              "        vertical-align: top;\n",
              "    }\n",
              "\n",
              "    .dataframe thead th {\n",
              "        text-align: right;\n",
              "    }\n",
              "</style>\n",
              "<table border=\"1\" class=\"dataframe\">\n",
              "  <thead>\n",
              "    <tr style=\"text-align: right;\">\n",
              "      <th></th>\n",
              "      <th>asin</th>\n",
              "      <th>first_review</th>\n",
              "      <th>first_rank</th>\n",
              "    </tr>\n",
              "  </thead>\n",
              "  <tbody>\n",
              "    <tr>\n",
              "      <th>0</th>\n",
              "      <td>2635214875</td>\n",
              "      <td>2014-11-29</td>\n",
              "      <td>2020-02-21</td>\n",
              "    </tr>\n",
              "    <tr>\n",
              "      <th>1</th>\n",
              "      <td>B000052XB5</td>\n",
              "      <td>2010-06-05</td>\n",
              "      <td>2017-07-03</td>\n",
              "    </tr>\n",
              "    <tr>\n",
              "      <th>2</th>\n",
              "      <td>B00005313T</td>\n",
              "      <td>2007-09-26</td>\n",
              "      <td>2017-07-03</td>\n",
              "    </tr>\n",
              "    <tr>\n",
              "      <th>3</th>\n",
              "      <td>B0000533I2</td>\n",
              "      <td>2004-09-12</td>\n",
              "      <td>2017-07-03</td>\n",
              "    </tr>\n",
              "    <tr>\n",
              "      <th>4</th>\n",
              "      <td>B00005K9DO</td>\n",
              "      <td>2017-02-09</td>\n",
              "      <td>2017-07-03</td>\n",
              "    </tr>\n",
              "    <tr>\n",
              "      <th>...</th>\n",
              "      <td>...</td>\n",
              "      <td>...</td>\n",
              "      <td>...</td>\n",
              "    </tr>\n",
              "    <tr>\n",
              "      <th>9953</th>\n",
              "      <td>B096Z9KL3B</td>\n",
              "      <td>2020-10-29</td>\n",
              "      <td>2021-06-21</td>\n",
              "    </tr>\n",
              "    <tr>\n",
              "      <th>9954</th>\n",
              "      <td>B096ZMC4PR</td>\n",
              "      <td>2012-04-12</td>\n",
              "      <td>2021-06-18</td>\n",
              "    </tr>\n",
              "    <tr>\n",
              "      <th>9955</th>\n",
              "      <td>B0971W5NJD</td>\n",
              "      <td>2021-06-19</td>\n",
              "      <td>2021-06-16</td>\n",
              "    </tr>\n",
              "    <tr>\n",
              "      <th>9956</th>\n",
              "      <td>B097C9ZBG1</td>\n",
              "      <td>2019-03-15</td>\n",
              "      <td>2021-06-17</td>\n",
              "    </tr>\n",
              "    <tr>\n",
              "      <th>9957</th>\n",
              "      <td>B097Z1CVBV</td>\n",
              "      <td>2021-01-27</td>\n",
              "      <td>2021-06-30</td>\n",
              "    </tr>\n",
              "  </tbody>\n",
              "</table>\n",
              "<p>9958 rows × 3 columns</p>\n",
              "</div>\n",
              "      <button class=\"colab-df-convert\" onclick=\"convertToInteractive('df-ec3ef024-edfb-4fc6-9686-e155b17682c2')\"\n",
              "              title=\"Convert this dataframe to an interactive table.\"\n",
              "              style=\"display:none;\">\n",
              "        \n",
              "  <svg xmlns=\"http://www.w3.org/2000/svg\" height=\"24px\"viewBox=\"0 0 24 24\"\n",
              "       width=\"24px\">\n",
              "    <path d=\"M0 0h24v24H0V0z\" fill=\"none\"/>\n",
              "    <path d=\"M18.56 5.44l.94 2.06.94-2.06 2.06-.94-2.06-.94-.94-2.06-.94 2.06-2.06.94zm-11 1L8.5 8.5l.94-2.06 2.06-.94-2.06-.94L8.5 2.5l-.94 2.06-2.06.94zm10 10l.94 2.06.94-2.06 2.06-.94-2.06-.94-.94-2.06-.94 2.06-2.06.94z\"/><path d=\"M17.41 7.96l-1.37-1.37c-.4-.4-.92-.59-1.43-.59-.52 0-1.04.2-1.43.59L10.3 9.45l-7.72 7.72c-.78.78-.78 2.05 0 2.83L4 21.41c.39.39.9.59 1.41.59.51 0 1.02-.2 1.41-.59l7.78-7.78 2.81-2.81c.8-.78.8-2.07 0-2.86zM5.41 20L4 18.59l7.72-7.72 1.47 1.35L5.41 20z\"/>\n",
              "  </svg>\n",
              "      </button>\n",
              "      \n",
              "  <style>\n",
              "    .colab-df-container {\n",
              "      display:flex;\n",
              "      flex-wrap:wrap;\n",
              "      gap: 12px;\n",
              "    }\n",
              "\n",
              "    .colab-df-convert {\n",
              "      background-color: #E8F0FE;\n",
              "      border: none;\n",
              "      border-radius: 50%;\n",
              "      cursor: pointer;\n",
              "      display: none;\n",
              "      fill: #1967D2;\n",
              "      height: 32px;\n",
              "      padding: 0 0 0 0;\n",
              "      width: 32px;\n",
              "    }\n",
              "\n",
              "    .colab-df-convert:hover {\n",
              "      background-color: #E2EBFA;\n",
              "      box-shadow: 0px 1px 2px rgba(60, 64, 67, 0.3), 0px 1px 3px 1px rgba(60, 64, 67, 0.15);\n",
              "      fill: #174EA6;\n",
              "    }\n",
              "\n",
              "    [theme=dark] .colab-df-convert {\n",
              "      background-color: #3B4455;\n",
              "      fill: #D2E3FC;\n",
              "    }\n",
              "\n",
              "    [theme=dark] .colab-df-convert:hover {\n",
              "      background-color: #434B5C;\n",
              "      box-shadow: 0px 1px 3px 1px rgba(0, 0, 0, 0.15);\n",
              "      filter: drop-shadow(0px 1px 2px rgba(0, 0, 0, 0.3));\n",
              "      fill: #FFFFFF;\n",
              "    }\n",
              "  </style>\n",
              "\n",
              "      <script>\n",
              "        const buttonEl =\n",
              "          document.querySelector('#df-ec3ef024-edfb-4fc6-9686-e155b17682c2 button.colab-df-convert');\n",
              "        buttonEl.style.display =\n",
              "          google.colab.kernel.accessAllowed ? 'block' : 'none';\n",
              "\n",
              "        async function convertToInteractive(key) {\n",
              "          const element = document.querySelector('#df-ec3ef024-edfb-4fc6-9686-e155b17682c2');\n",
              "          const dataTable =\n",
              "            await google.colab.kernel.invokeFunction('convertToInteractive',\n",
              "                                                     [key], {});\n",
              "          if (!dataTable) return;\n",
              "\n",
              "          const docLinkHtml = 'Like what you see? Visit the ' +\n",
              "            '<a target=\"_blank\" href=https://colab.research.google.com/notebooks/data_table.ipynb>data table notebook</a>'\n",
              "            + ' to learn more about interactive tables.';\n",
              "          element.innerHTML = '';\n",
              "          dataTable['output_type'] = 'display_data';\n",
              "          await google.colab.output.renderOutput(dataTable, element);\n",
              "          const docLink = document.createElement('div');\n",
              "          docLink.innerHTML = docLinkHtml;\n",
              "          element.appendChild(docLink);\n",
              "        }\n",
              "      </script>\n",
              "    </div>\n",
              "  </div>\n",
              "  "
            ]
          },
          "metadata": {},
          "execution_count": 35
        }
      ]
    },
    {
      "cell_type": "code",
      "source": [
        "# add a column of numeric review rotes\n",
        "review_full['reviewvotes_num'] = review_full[\"reviewvotes\"].fillna('0').str.split().str[0].replace('One','1').str.replace(',','').astype('int')"
      ],
      "metadata": {
        "id": "k0GJYRjOyptJ"
      },
      "execution_count": 36,
      "outputs": []
    },
    {
      "cell_type": "code",
      "source": [
        "zero_votes = np.mean(review_full['reviewvotes_num']==0)\n",
        "print(\"Fraction with 0 votes\", zero_votes)\n",
        "max_votes = review_full['reviewvotes_num'].max()\n",
        "print(\"Max number of votes\", max_votes)"
      ],
      "metadata": {
        "colab": {
          "base_uri": "https://localhost:8080/"
        },
        "id": "pXKO3TI6TMgI",
        "outputId": "5a963d0f-d99d-4a02-cbdb-f6f8bb386a6d"
      },
      "execution_count": 37,
      "outputs": [
        {
          "output_type": "stream",
          "name": "stdout",
          "text": [
            "Fraction with 0 votes 0.6568083176250312\n",
            "Max number of votes 16368\n"
          ]
        }
      ]
    },
    {
      "cell_type": "code",
      "source": [
        "# plot LOG review votes (raw #review votes are super right skewed)\n",
        "f, axs = plt.subplots(1,1,figsize=(6,4));\n",
        "axs.hist(np.log(review_full.query('reviewvotes_num>0')['reviewvotes_num']),\n",
        "         edgecolor='k', alpha=0.8, bins=20);\n",
        "axs.set(title='Histogram of Review Votes',\n",
        "        xlabel='log(review votes)',\n",
        "        ylabel='frequency');\n"
      ],
      "metadata": {
        "colab": {
          "base_uri": "https://localhost:8080/",
          "height": 295
        },
        "id": "UpEQPCMio_mi",
        "outputId": "d028642f-5906-4e58-b407-6b2a8462872a"
      },
      "execution_count": 38,
      "outputs": [
        {
          "output_type": "display_data",
          "data": {
            "text/plain": [
              "<Figure size 432x288 with 1 Axes>"
            ],
            "image/png": "[encoded data removed]"
          },
          "metadata": {
            "needs_background": "light"
          }
        }
      ]
    },
    {
      "cell_type": "code",
      "source": [
        "# plot review rating \n",
        "f, axs = plt.subplots(1,1,figsize=(6,4));\n",
        "axs.bar(review_full['reviewrating'].value_counts().index, \n",
        "        review_full['reviewrating'].value_counts().values, \n",
        "        edgecolor='k', alpha=0.8)\n",
        "axs.set(title='Histogram of Review Rating',\n",
        "        xlabel='review rating',\n",
        "        ylabel='frequency');"
      ],
      "metadata": {
        "colab": {
          "base_uri": "https://localhost:8080/",
          "height": 295
        },
        "id": "V3WKU_7hnMUu",
        "outputId": "ead9571c-0ae6-44cc-f43e-555317dc9261"
      },
      "execution_count": 39,
      "outputs": [
        {
          "output_type": "display_data",
          "data": {
            "text/plain": [
              "<Figure size 432x288 with 1 Axes>"
            ],
            "image/png": "[encoded data removed]"
          },
          "metadata": {
            "needs_background": "light"
          }
        }
      ]
    },
    {
      "cell_type": "code",
      "source": [
        "# compute #words in each review\n",
        "\n",
        "# review_full['review_text_len'] = review_full['review_text'].str.split().str.len() # this run out of ram\n",
        "\n",
        "# work around --- chunck df into 20 iterations\n",
        "review_full['review_text_len'] = np.nan\n",
        "chunck_size = review_full.shape[0]//20\n",
        "idx = 0\n",
        "while idx < review_full.shape[0]:\n",
        "  end_idx = min(review_full.shape[0], idx+chunck_size)\n",
        "  review_full.loc[idx:end_idx,'review_text_len'] = review_full.loc[idx:end_idx, 'review_text'].str.split().str.len().values\n",
        "  idx += chunck_size\n"
      ],
      "metadata": {
        "id": "raIC76WXC-qX"
      },
      "execution_count": 40,
      "outputs": []
    },
    {
      "cell_type": "code",
      "source": [
        "max_len = np.max(review_full[\"review_text_len\"])\n",
        "print(f'max length:, {max_len}')\n",
        "\n",
        "short_reviews = np.mean(review_full[\"review_text_len\"] < 10)\n",
        "print(f'Fraction of reviews below 10 words:, {short_reviews}')"
      ],
      "metadata": {
        "colab": {
          "base_uri": "https://localhost:8080/"
        },
        "id": "XLC7UZ6h_D2a",
        "outputId": "3b9c0412-a3f6-40e8-d644-03cefbaca7df"
      },
      "execution_count": 41,
      "outputs": [
        {
          "output_type": "stream",
          "name": "stdout",
          "text": [
            "max length:, 4643.0\n",
            "Fraction of reviews below 10 words:, 0.2873873706154949\n"
          ]
        }
      ]
    },
    {
      "cell_type": "code",
      "source": [
        "# plot length of reviews\n",
        "f, axs = plt.subplots(1,1,figsize=(6,4));\n",
        "axs.hist(np.log(review_full['review_text_len']), bins=20,\n",
        "         edgecolor='k', alpha=0.8);\n",
        "axs.set(title='Histogram of Review Text Length',\n",
        "        xlabel='log(#words in review)',\n",
        "        ylabel='frequency');"
      ],
      "metadata": {
        "colab": {
          "base_uri": "https://localhost:8080/",
          "height": 295
        },
        "id": "b9o7gpqGEngD",
        "outputId": "8f0e14b8-8db4-4fca-ce42-4bab004df19d"
      },
      "execution_count": 42,
      "outputs": [
        {
          "output_type": "display_data",
          "data": {
            "text/plain": [
              "<Figure size 432x288 with 1 Axes>"
            ],
            "image/png": "[encoded data removed]"
          },
          "metadata": {
            "needs_background": "light"
          }
        }
      ]
    },
    {
      "cell_type": "code",
      "source": [
        "# correlation between length of review and review rating?\n",
        "mean_len_by_rating = review_full[['reviewrating','review_text_len']].groupby('reviewrating').mean()\n",
        "med_len_by_rating = review_full[['reviewrating','review_text_len']].groupby('reviewrating').median()\n",
        "\n",
        "f, axs = plt.subplots(1,2,figsize=(12,4));\n",
        "axs[0].bar(mean_len_by_rating.index, mean_len_by_rating.review_text_len,\n",
        "           edgecolor='k', alpha=0.8);\n",
        "axs[0].set(title='Mean Length of Review by Rating',\n",
        "           xlabel='review rating',\n",
        "           ylabel='mean length of review');\n",
        "\n",
        "axs[1].bar(med_len_by_rating.index, med_len_by_rating.review_text_len,\n",
        "           edgecolor='k', alpha=0.8);\n",
        "axs[1].set(title='Median Length of Review by Rating',\n",
        "           xlabel='review rating',\n",
        "           ylabel='median length of review');"
      ],
      "metadata": {
        "colab": {
          "base_uri": "https://localhost:8080/",
          "height": 295
        },
        "id": "ERR1fKBeFzPO",
        "outputId": "73f0bb7e-f3ba-429f-9920-3ed491f82a54"
      },
      "execution_count": 43,
      "outputs": [
        {
          "output_type": "display_data",
          "data": {
            "text/plain": [
              "<Figure size 864x288 with 2 Axes>"
            ],
            "image/png": "[encoded data removed]"
          },
          "metadata": {
            "needs_background": "light"
          }
        }
      ]
    },
    {
      "cell_type": "markdown",
      "source": [
        "### price history"
      ],
      "metadata": {
        "id": "pspnwoDjvXY0"
      }
    },
    {
      "cell_type": "code",
      "source": [
        "price_hist = pd.read_csv(f'{data}/raw/HARVARD_ASIN_PRICE_HISTORY.csv')\n",
        "price_hist.drop('created_at', axis=1, inplace=True)"
      ],
      "metadata": {
        "id": "DEZ3xVCAwb1N"
      },
      "execution_count": 44,
      "outputs": []
    },
    {
      "cell_type": "code",
      "source": [
        "np.random.seed(297)\n",
        "prods = np.random.choice(price_hist['asin'].unique(), size=6)"
      ],
      "metadata": {
        "id": "NV9z9NOLxPwb"
      },
      "execution_count": 45,
      "outputs": []
    },
    {
      "cell_type": "code",
      "source": [
        "f, axs = plt.subplots(3,2,figsize=(24,8));\n",
        "\n",
        "for idx, prod in enumerate(prods):\n",
        "    y = price_hist.query(f'asin == \"{prod}\"')['buybox_price']\n",
        "    axs[idx//2, idx%2].plot(range(y.shape[0]), y)"
      ],
      "metadata": {
        "colab": {
          "base_uri": "https://localhost:8080/",
          "height": 483
        },
        "id": "TZYErI2_wh39",
        "outputId": "4359e699-8c21-4daf-980b-4671bf34b25f"
      },
      "execution_count": 46,
      "outputs": [
        {
          "output_type": "display_data",
          "data": {
            "text/plain": [
              "<Figure size 1728x576 with 6 Axes>"
            ],
            "image/png": "[encoded data removed]"
          },
          "metadata": {
            "needs_background": "light"
          }
        }
      ]
    },
    {
      "cell_type": "markdown",
      "source": [
        "### rank sales"
      ],
      "metadata": {
        "id": "hlFdjvjpwZfy"
      }
    },
    {
      "cell_type": "code",
      "source": [
        "# get id column of both datasets\n",
        "sales = pd.read_csv(f'{data}/raw/rank_sales.csv')"
      ],
      "metadata": {
        "id": "c59-7Mm8Pz9g"
      },
      "execution_count": 47,
      "outputs": []
    },
    {
      "cell_type": "code",
      "source": [
        "plt.plot(range(sales.shape[0]), sales['sales_estimate'])"
      ],
      "metadata": {
        "colab": {
          "base_uri": "https://localhost:8080/",
          "height": 282
        },
        "id": "6S7rmpjUvoXH",
        "outputId": "7bfadfb6-6b0a-4b14-cd76-aa8bb39c383a"
      },
      "execution_count": 48,
      "outputs": [
        {
          "output_type": "execute_result",
          "data": {
            "text/plain": [
              "[<matplotlib.lines.Line2D at 0x7fa73e6baf50>]"
            ]
          },
          "metadata": {},
          "execution_count": 48
        },
        {
          "output_type": "display_data",
          "data": {
            "text/plain": [
              "<Figure size 432x288 with 1 Axes>"
            ],
            "image/png": "[encoded data removed]"
          },
          "metadata": {
            "needs_background": "light"
          }
        }
      ]
    },
    {
      "cell_type": "code",
      "source": [
        "# first 6000 rank \n",
        "first = 6000\n",
        "f, axs = plt.subplots(1,1,figsize=(4,3));\n",
        "axs.plot(range(first), sales.head(first)['sales_estimate']);\n",
        "axs.set(title='Estimated Sales Volume by BSR', xlabel='BSR', \n",
        "        ylabel='estimated sales volume');"
      ],
      "metadata": {
        "colab": {
          "base_uri": "https://localhost:8080/",
          "height": 241
        },
        "id": "-BOlY9YNvpbq",
        "outputId": "23ddd002-024a-4126-f4b6-4472404ac2f3"
      },
      "execution_count": 49,
      "outputs": [
        {
          "output_type": "display_data",
          "data": {
            "text/plain": [
              "<Figure size 288x216 with 1 Axes>"
            ],
            "image/png": "[encoded data removed]"
          },
          "metadata": {
            "needs_background": "light"
          }
        }
      ]
    },
    {
      "cell_type": "code",
      "source": [
        "sales.head()"
      ],
      "metadata": {
        "colab": {
          "base_uri": "https://localhost:8080/",
          "height": 206
        },
        "id": "VfKtjYfEZRWU",
        "outputId": "ae875aa1-d18e-420e-f34f-db38e43173bf"
      },
      "execution_count": 50,
      "outputs": [
        {
          "output_type": "execute_result",
          "data": {
            "text/plain": [
              "   Unnamed: 0  rank  sales_estimate\n",
              "0    15226968     1          5214.0\n",
              "1    15226969     2          4634.0\n",
              "2    15226970     3          4290.0\n",
              "3    15226971     4          4046.0\n",
              "4    15226972     5          3856.0"
            ],
            "text/html": [
              "\n",
              "  <div id=\"df-5a1c61b8-ea4e-46d7-896b-6d5b15b66c3b\">\n",
              "    <div class=\"colab-df-container\">\n",
              "      <div>\n",
              "<style scoped>\n",
              "    .dataframe tbody tr th:only-of-type {\n",
              "        vertical-align: middle;\n",
              "    }\n",
              "\n",
              "    .dataframe tbody tr th {\n",
              "        vertical-align: top;\n",
              "    }\n",
              "\n",
              "    .dataframe thead th {\n",
              "        text-align: right;\n",
              "    }\n",
              "</style>\n",
              "<table border=\"1\" class=\"dataframe\">\n",
              "  <thead>\n",
              "    <tr style=\"text-align: right;\">\n",
              "      <th></th>\n",
              "      <th>Unnamed: 0</th>\n",
              "      <th>rank</th>\n",
              "      <th>sales_estimate</th>\n",
              "    </tr>\n",
              "  </thead>\n",
              "  <tbody>\n",
              "    <tr>\n",
              "      <th>0</th>\n",
              "      <td>15226968</td>\n",
              "      <td>1</td>\n",
              "      <td>5214.0</td>\n",
              "    </tr>\n",
              "    <tr>\n",
              "      <th>1</th>\n",
              "      <td>15226969</td>\n",
              "      <td>2</td>\n",
              "      <td>4634.0</td>\n",
              "    </tr>\n",
              "    <tr>\n",
              "      <th>2</th>\n",
              "      <td>15226970</td>\n",
              "      <td>3</td>\n",
              "      <td>4290.0</td>\n",
              "    </tr>\n",
              "    <tr>\n",
              "      <th>3</th>\n",
              "      <td>15226971</td>\n",
              "      <td>4</td>\n",
              "      <td>4046.0</td>\n",
              "    </tr>\n",
              "    <tr>\n",
              "      <th>4</th>\n",
              "      <td>15226972</td>\n",
              "      <td>5</td>\n",
              "      <td>3856.0</td>\n",
              "    </tr>\n",
              "  </tbody>\n",
              "</table>\n",
              "</div>\n",
              "      <button class=\"colab-df-convert\" onclick=\"convertToInteractive('df-5a1c61b8-ea4e-46d7-896b-6d5b15b66c3b')\"\n",
              "              title=\"Convert this dataframe to an interactive table.\"\n",
              "              style=\"display:none;\">\n",
              "        \n",
              "  <svg xmlns=\"http://www.w3.org/2000/svg\" height=\"24px\"viewBox=\"0 0 24 24\"\n",
              "       width=\"24px\">\n",
              "    <path d=\"M0 0h24v24H0V0z\" fill=\"none\"/>\n",
              "    <path d=\"M18.56 5.44l.94 2.06.94-2.06 2.06-.94-2.06-.94-.94-2.06-.94 2.06-2.06.94zm-11 1L8.5 8.5l.94-2.06 2.06-.94-2.06-.94L8.5 2.5l-.94 2.06-2.06.94zm10 10l.94 2.06.94-2.06 2.06-.94-2.06-.94-.94-2.06-.94 2.06-2.06.94z\"/><path d=\"M17.41 7.96l-1.37-1.37c-.4-.4-.92-.59-1.43-.59-.52 0-1.04.2-1.43.59L10.3 9.45l-7.72 7.72c-.78.78-.78 2.05 0 2.83L4 21.41c.39.39.9.59 1.41.59.51 0 1.02-.2 1.41-.59l7.78-7.78 2.81-2.81c.8-.78.8-2.07 0-2.86zM5.41 20L4 18.59l7.72-7.72 1.47 1.35L5.41 20z\"/>\n",
              "  </svg>\n",
              "      </button>\n",
              "      \n",
              "  <style>\n",
              "    .colab-df-container {\n",
              "      display:flex;\n",
              "      flex-wrap:wrap;\n",
              "      gap: 12px;\n",
              "    }\n",
              "\n",
              "    .colab-df-convert {\n",
              "      background-color: #E8F0FE;\n",
              "      border: none;\n",
              "      border-radius: 50%;\n",
              "      cursor: pointer;\n",
              "      display: none;\n",
              "      fill: #1967D2;\n",
              "      height: 32px;\n",
              "      padding: 0 0 0 0;\n",
              "      width: 32px;\n",
              "    }\n",
              "\n",
              "    .colab-df-convert:hover {\n",
              "      background-color: #E2EBFA;\n",
              "      box-shadow: 0px 1px 2px rgba(60, 64, 67, 0.3), 0px 1px 3px 1px rgba(60, 64, 67, 0.15);\n",
              "      fill: #174EA6;\n",
              "    }\n",
              "\n",
              "    [theme=dark] .colab-df-convert {\n",
              "      background-color: #3B4455;\n",
              "      fill: #D2E3FC;\n",
              "    }\n",
              "\n",
              "    [theme=dark] .colab-df-convert:hover {\n",
              "      background-color: #434B5C;\n",
              "      box-shadow: 0px 1px 3px 1px rgba(0, 0, 0, 0.15);\n",
              "      filter: drop-shadow(0px 1px 2px rgba(0, 0, 0, 0.3));\n",
              "      fill: #FFFFFF;\n",
              "    }\n",
              "  </style>\n",
              "\n",
              "      <script>\n",
              "        const buttonEl =\n",
              "          document.querySelector('#df-5a1c61b8-ea4e-46d7-896b-6d5b15b66c3b button.colab-df-convert');\n",
              "        buttonEl.style.display =\n",
              "          google.colab.kernel.accessAllowed ? 'block' : 'none';\n",
              "\n",
              "        async function convertToInteractive(key) {\n",
              "          const element = document.querySelector('#df-5a1c61b8-ea4e-46d7-896b-6d5b15b66c3b');\n",
              "          const dataTable =\n",
              "            await google.colab.kernel.invokeFunction('convertToInteractive',\n",
              "                                                     [key], {});\n",
              "          if (!dataTable) return;\n",
              "\n",
              "          const docLinkHtml = 'Like what you see? Visit the ' +\n",
              "            '<a target=\"_blank\" href=https://colab.research.google.com/notebooks/data_table.ipynb>data table notebook</a>'\n",
              "            + ' to learn more about interactive tables.';\n",
              "          element.innerHTML = '';\n",
              "          dataTable['output_type'] = 'display_data';\n",
              "          await google.colab.output.renderOutput(dataTable, element);\n",
              "          const docLink = document.createElement('div');\n",
              "          docLink.innerHTML = docLinkHtml;\n",
              "          element.appendChild(docLink);\n",
              "        }\n",
              "      </script>\n",
              "    </div>\n",
              "  </div>\n",
              "  "
            ]
          },
          "metadata": {},
          "execution_count": 50
        }
      ]
    },
    {
      "cell_type": "code",
      "source": [
        "sales.tail()"
      ],
      "metadata": {
        "colab": {
          "base_uri": "https://localhost:8080/",
          "height": 206
        },
        "id": "0VqXyW3GZVTb",
        "outputId": "5a997d54-c9c6-4905-f8b1-f14abd282db2"
      },
      "execution_count": 51,
      "outputs": [
        {
          "output_type": "execute_result",
          "data": {
            "text/plain": [
              "        Unnamed: 0    rank  sales_estimate\n",
              "454297    15681265  454298        0.050010\n",
              "454298    15681266  454299        0.050008\n",
              "454299    15681267  454300        0.050006\n",
              "454300    15681268  454301        0.050004\n",
              "454301    15681269  454302        0.050002"
            ],
            "text/html": [
              "\n",
              "  <div id=\"df-35fbdd36-6633-4eba-bc25-ec915450b859\">\n",
              "    <div class=\"colab-df-container\">\n",
              "      <div>\n",
              "<style scoped>\n",
              "    .dataframe tbody tr th:only-of-type {\n",
              "        vertical-align: middle;\n",
              "    }\n",
              "\n",
              "    .dataframe tbody tr th {\n",
              "        vertical-align: top;\n",
              "    }\n",
              "\n",
              "    .dataframe thead th {\n",
              "        text-align: right;\n",
              "    }\n",
              "</style>\n",
              "<table border=\"1\" class=\"dataframe\">\n",
              "  <thead>\n",
              "    <tr style=\"text-align: right;\">\n",
              "      <th></th>\n",
              "      <th>Unnamed: 0</th>\n",
              "      <th>rank</th>\n",
              "      <th>sales_estimate</th>\n",
              "    </tr>\n",
              "  </thead>\n",
              "  <tbody>\n",
              "    <tr>\n",
              "      <th>454297</th>\n",
              "      <td>15681265</td>\n",
              "      <td>454298</td>\n",
              "      <td>0.050010</td>\n",
              "    </tr>\n",
              "    <tr>\n",
              "      <th>454298</th>\n",
              "      <td>15681266</td>\n",
              "      <td>454299</td>\n",
              "      <td>0.050008</td>\n",
              "    </tr>\n",
              "    <tr>\n",
              "      <th>454299</th>\n",
              "      <td>15681267</td>\n",
              "      <td>454300</td>\n",
              "      <td>0.050006</td>\n",
              "    </tr>\n",
              "    <tr>\n",
              "      <th>454300</th>\n",
              "      <td>15681268</td>\n",
              "      <td>454301</td>\n",
              "      <td>0.050004</td>\n",
              "    </tr>\n",
              "    <tr>\n",
              "      <th>454301</th>\n",
              "      <td>15681269</td>\n",
              "      <td>454302</td>\n",
              "      <td>0.050002</td>\n",
              "    </tr>\n",
              "  </tbody>\n",
              "</table>\n",
              "</div>\n",
              "      <button class=\"colab-df-convert\" onclick=\"convertToInteractive('df-35fbdd36-6633-4eba-bc25-ec915450b859')\"\n",
              "              title=\"Convert this dataframe to an interactive table.\"\n",
              "              style=\"display:none;\">\n",
              "        \n",
              "  <svg xmlns=\"http://www.w3.org/2000/svg\" height=\"24px\"viewBox=\"0 0 24 24\"\n",
              "       width=\"24px\">\n",
              "    <path d=\"M0 0h24v24H0V0z\" fill=\"none\"/>\n",
              "    <path d=\"M18.56 5.44l.94 2.06.94-2.06 2.06-.94-2.06-.94-.94-2.06-.94 2.06-2.06.94zm-11 1L8.5 8.5l.94-2.06 2.06-.94-2.06-.94L8.5 2.5l-.94 2.06-2.06.94zm10 10l.94 2.06.94-2.06 2.06-.94-2.06-.94-.94-2.06-.94 2.06-2.06.94z\"/><path d=\"M17.41 7.96l-1.37-1.37c-.4-.4-.92-.59-1.43-.59-.52 0-1.04.2-1.43.59L10.3 9.45l-7.72 7.72c-.78.78-.78 2.05 0 2.83L4 21.41c.39.39.9.59 1.41.59.51 0 1.02-.2 1.41-.59l7.78-7.78 2.81-2.81c.8-.78.8-2.07 0-2.86zM5.41 20L4 18.59l7.72-7.72 1.47 1.35L5.41 20z\"/>\n",
              "  </svg>\n",
              "      </button>\n",
              "      \n",
              "  <style>\n",
              "    .colab-df-container {\n",
              "      display:flex;\n",
              "      flex-wrap:wrap;\n",
              "      gap: 12px;\n",
              "    }\n",
              "\n",
              "    .colab-df-convert {\n",
              "      background-color: #E8F0FE;\n",
              "      border: none;\n",
              "      border-radius: 50%;\n",
              "      cursor: pointer;\n",
              "      display: none;\n",
              "      fill: #1967D2;\n",
              "      height: 32px;\n",
              "      padding: 0 0 0 0;\n",
              "      width: 32px;\n",
              "    }\n",
              "\n",
              "    .colab-df-convert:hover {\n",
              "      background-color: #E2EBFA;\n",
              "      box-shadow: 0px 1px 2px rgba(60, 64, 67, 0.3), 0px 1px 3px 1px rgba(60, 64, 67, 0.15);\n",
              "      fill: #174EA6;\n",
              "    }\n",
              "\n",
              "    [theme=dark] .colab-df-convert {\n",
              "      background-color: #3B4455;\n",
              "      fill: #D2E3FC;\n",
              "    }\n",
              "\n",
              "    [theme=dark] .colab-df-convert:hover {\n",
              "      background-color: #434B5C;\n",
              "      box-shadow: 0px 1px 3px 1px rgba(0, 0, 0, 0.15);\n",
              "      filter: drop-shadow(0px 1px 2px rgba(0, 0, 0, 0.3));\n",
              "      fill: #FFFFFF;\n",
              "    }\n",
              "  </style>\n",
              "\n",
              "      <script>\n",
              "        const buttonEl =\n",
              "          document.querySelector('#df-35fbdd36-6633-4eba-bc25-ec915450b859 button.colab-df-convert');\n",
              "        buttonEl.style.display =\n",
              "          google.colab.kernel.accessAllowed ? 'block' : 'none';\n",
              "\n",
              "        async function convertToInteractive(key) {\n",
              "          const element = document.querySelector('#df-35fbdd36-6633-4eba-bc25-ec915450b859');\n",
              "          const dataTable =\n",
              "            await google.colab.kernel.invokeFunction('convertToInteractive',\n",
              "                                                     [key], {});\n",
              "          if (!dataTable) return;\n",
              "\n",
              "          const docLinkHtml = 'Like what you see? Visit the ' +\n",
              "            '<a target=\"_blank\" href=https://colab.research.google.com/notebooks/data_table.ipynb>data table notebook</a>'\n",
              "            + ' to learn more about interactive tables.';\n",
              "          element.innerHTML = '';\n",
              "          dataTable['output_type'] = 'display_data';\n",
              "          await google.colab.output.renderOutput(dataTable, element);\n",
              "          const docLink = document.createElement('div');\n",
              "          docLink.innerHTML = docLinkHtml;\n",
              "          element.appendChild(docLink);\n",
              "        }\n",
              "      </script>\n",
              "    </div>\n",
              "  </div>\n",
              "  "
            ]
          },
          "metadata": {},
          "execution_count": 51
        }
      ]
    },
    {
      "cell_type": "code",
      "source": [
        "sales.query('sales_estimate <= 1')"
      ],
      "metadata": {
        "colab": {
          "base_uri": "https://localhost:8080/",
          "height": 424
        },
        "id": "1gn45ha-dULH",
        "outputId": "909f5167-0721-4ddb-9407-dfb1d9e6a509"
      },
      "execution_count": 52,
      "outputs": [
        {
          "output_type": "execute_result",
          "data": {
            "text/plain": [
              "        Unnamed: 0    rank  sales_estimate\n",
              "201933    15428901  201934        1.000000\n",
              "201934    15428902  201935        0.999980\n",
              "201935    15428903  201936        0.999960\n",
              "201936    15428904  201937        0.999941\n",
              "201937    15428905  201938        0.999921\n",
              "...            ...     ...             ...\n",
              "454297    15681265  454298        0.050010\n",
              "454298    15681266  454299        0.050008\n",
              "454299    15681267  454300        0.050006\n",
              "454300    15681268  454301        0.050004\n",
              "454301    15681269  454302        0.050002\n",
              "\n",
              "[252369 rows x 3 columns]"
            ],
            "text/html": [
              "\n",
              "  <div id=\"df-43f1252a-9f29-43e3-8726-bfb40ab442df\">\n",
              "    <div class=\"colab-df-container\">\n",
              "      <div>\n",
              "<style scoped>\n",
              "    .dataframe tbody tr th:only-of-type {\n",
              "        vertical-align: middle;\n",
              "    }\n",
              "\n",
              "    .dataframe tbody tr th {\n",
              "        vertical-align: top;\n",
              "    }\n",
              "\n",
              "    .dataframe thead th {\n",
              "        text-align: right;\n",
              "    }\n",
              "</style>\n",
              "<table border=\"1\" class=\"dataframe\">\n",
              "  <thead>\n",
              "    <tr style=\"text-align: right;\">\n",
              "      <th></th>\n",
              "      <th>Unnamed: 0</th>\n",
              "      <th>rank</th>\n",
              "      <th>sales_estimate</th>\n",
              "    </tr>\n",
              "  </thead>\n",
              "  <tbody>\n",
              "    <tr>\n",
              "      <th>201933</th>\n",
              "      <td>15428901</td>\n",
              "      <td>201934</td>\n",
              "      <td>1.000000</td>\n",
              "    </tr>\n",
              "    <tr>\n",
              "      <th>201934</th>\n",
              "      <td>15428902</td>\n",
              "      <td>201935</td>\n",
              "      <td>0.999980</td>\n",
              "    </tr>\n",
              "    <tr>\n",
              "      <th>201935</th>\n",
              "      <td>15428903</td>\n",
              "      <td>201936</td>\n",
              "      <td>0.999960</td>\n",
              "    </tr>\n",
              "    <tr>\n",
              "      <th>201936</th>\n",
              "      <td>15428904</td>\n",
              "      <td>201937</td>\n",
              "      <td>0.999941</td>\n",
              "    </tr>\n",
              "    <tr>\n",
              "      <th>201937</th>\n",
              "      <td>15428905</td>\n",
              "      <td>201938</td>\n",
              "      <td>0.999921</td>\n",
              "    </tr>\n",
              "    <tr>\n",
              "      <th>...</th>\n",
              "      <td>...</td>\n",
              "      <td>...</td>\n",
              "      <td>...</td>\n",
              "    </tr>\n",
              "    <tr>\n",
              "      <th>454297</th>\n",
              "      <td>15681265</td>\n",
              "      <td>454298</td>\n",
              "      <td>0.050010</td>\n",
              "    </tr>\n",
              "    <tr>\n",
              "      <th>454298</th>\n",
              "      <td>15681266</td>\n",
              "      <td>454299</td>\n",
              "      <td>0.050008</td>\n",
              "    </tr>\n",
              "    <tr>\n",
              "      <th>454299</th>\n",
              "      <td>15681267</td>\n",
              "      <td>454300</td>\n",
              "      <td>0.050006</td>\n",
              "    </tr>\n",
              "    <tr>\n",
              "      <th>454300</th>\n",
              "      <td>15681268</td>\n",
              "      <td>454301</td>\n",
              "      <td>0.050004</td>\n",
              "    </tr>\n",
              "    <tr>\n",
              "      <th>454301</th>\n",
              "      <td>15681269</td>\n",
              "      <td>454302</td>\n",
              "      <td>0.050002</td>\n",
              "    </tr>\n",
              "  </tbody>\n",
              "</table>\n",
              "<p>252369 rows × 3 columns</p>\n",
              "</div>\n",
              "      <button class=\"colab-df-convert\" onclick=\"convertToInteractive('df-43f1252a-9f29-43e3-8726-bfb40ab442df')\"\n",
              "              title=\"Convert this dataframe to an interactive table.\"\n",
              "              style=\"display:none;\">\n",
              "        \n",
              "  <svg xmlns=\"http://www.w3.org/2000/svg\" height=\"24px\"viewBox=\"0 0 24 24\"\n",
              "       width=\"24px\">\n",
              "    <path d=\"M0 0h24v24H0V0z\" fill=\"none\"/>\n",
              "    <path d=\"M18.56 5.44l.94 2.06.94-2.06 2.06-.94-2.06-.94-.94-2.06-.94 2.06-2.06.94zm-11 1L8.5 8.5l.94-2.06 2.06-.94-2.06-.94L8.5 2.5l-.94 2.06-2.06.94zm10 10l.94 2.06.94-2.06 2.06-.94-2.06-.94-.94-2.06-.94 2.06-2.06.94z\"/><path d=\"M17.41 7.96l-1.37-1.37c-.4-.4-.92-.59-1.43-.59-.52 0-1.04.2-1.43.59L10.3 9.45l-7.72 7.72c-.78.78-.78 2.05 0 2.83L4 21.41c.39.39.9.59 1.41.59.51 0 1.02-.2 1.41-.59l7.78-7.78 2.81-2.81c.8-.78.8-2.07 0-2.86zM5.41 20L4 18.59l7.72-7.72 1.47 1.35L5.41 20z\"/>\n",
              "  </svg>\n",
              "      </button>\n",
              "      \n",
              "  <style>\n",
              "    .colab-df-container {\n",
              "      display:flex;\n",
              "      flex-wrap:wrap;\n",
              "      gap: 12px;\n",
              "    }\n",
              "\n",
              "    .colab-df-convert {\n",
              "      background-color: #E8F0FE;\n",
              "      border: none;\n",
              "      border-radius: 50%;\n",
              "      cursor: pointer;\n",
              "      display: none;\n",
              "      fill: #1967D2;\n",
              "      height: 32px;\n",
              "      padding: 0 0 0 0;\n",
              "      width: 32px;\n",
              "    }\n",
              "\n",
              "    .colab-df-convert:hover {\n",
              "      background-color: #E2EBFA;\n",
              "      box-shadow: 0px 1px 2px rgba(60, 64, 67, 0.3), 0px 1px 3px 1px rgba(60, 64, 67, 0.15);\n",
              "      fill: #174EA6;\n",
              "    }\n",
              "\n",
              "    [theme=dark] .colab-df-convert {\n",
              "      background-color: #3B4455;\n",
              "      fill: #D2E3FC;\n",
              "    }\n",
              "\n",
              "    [theme=dark] .colab-df-convert:hover {\n",
              "      background-color: #434B5C;\n",
              "      box-shadow: 0px 1px 3px 1px rgba(0, 0, 0, 0.15);\n",
              "      filter: drop-shadow(0px 1px 2px rgba(0, 0, 0, 0.3));\n",
              "      fill: #FFFFFF;\n",
              "    }\n",
              "  </style>\n",
              "\n",
              "      <script>\n",
              "        const buttonEl =\n",
              "          document.querySelector('#df-43f1252a-9f29-43e3-8726-bfb40ab442df button.colab-df-convert');\n",
              "        buttonEl.style.display =\n",
              "          google.colab.kernel.accessAllowed ? 'block' : 'none';\n",
              "\n",
              "        async function convertToInteractive(key) {\n",
              "          const element = document.querySelector('#df-43f1252a-9f29-43e3-8726-bfb40ab442df');\n",
              "          const dataTable =\n",
              "            await google.colab.kernel.invokeFunction('convertToInteractive',\n",
              "                                                     [key], {});\n",
              "          if (!dataTable) return;\n",
              "\n",
              "          const docLinkHtml = 'Like what you see? Visit the ' +\n",
              "            '<a target=\"_blank\" href=https://colab.research.google.com/notebooks/data_table.ipynb>data table notebook</a>'\n",
              "            + ' to learn more about interactive tables.';\n",
              "          element.innerHTML = '';\n",
              "          dataTable['output_type'] = 'display_data';\n",
              "          await google.colab.output.renderOutput(dataTable, element);\n",
              "          const docLink = document.createElement('div');\n",
              "          docLink.innerHTML = docLinkHtml;\n",
              "          element.appendChild(docLink);\n",
              "        }\n",
              "      </script>\n",
              "    </div>\n",
              "  </div>\n",
              "  "
            ]
          },
          "metadata": {},
          "execution_count": 52
        }
      ]
    },
    {
      "cell_type": "markdown",
      "source": [
        "### look at processed datasets"
      ],
      "metadata": {
        "id": "ej1HwNlu7bwJ"
      }
    },
    {
      "cell_type": "code",
      "source": [
        "bsr_raw = pd.read_csv(f'{data}/raw/asin_bsr_history.csv')\n",
        "bsr_raw['date'] = pd.to_datetime(bsr_raw['date'])\n",
        "bsr_raw = bsr_raw.sort_values(['asin','date'])"
      ],
      "metadata": {
        "id": "OBQBLPNGO7ql"
      },
      "execution_count": 5,
      "outputs": []
    },
    {
      "cell_type": "code",
      "source": [
        "bsr_raw.head()"
      ],
      "metadata": {
        "colab": {
          "base_uri": "https://localhost:8080/",
          "height": 206
        },
        "id": "kmUhKC1ZPL7Q",
        "outputId": "27c54647-c535-476a-b2f9-a6f384deebef"
      },
      "execution_count": 6,
      "outputs": [
        {
          "output_type": "execute_result",
          "data": {
            "text/plain": [
              "          Unnamed: 0       date          rank  avg180_price        asin\n",
              "2521215      2521215 2020-02-21  56154.666667         60.32  2635214875\n",
              "3484467      3484467 2020-02-21  56154.666667         60.32  2635214875\n",
              "13981746    13981746 2020-02-21  56154.666667         60.32  2635214875\n",
              "2521216      2521216 2020-02-22  51188.500000         60.32  2635214875\n",
              "3484468      3484468 2020-02-22  51188.500000         60.32  2635214875"
            ],
            "text/html": [
              "\n",
              "  <div id=\"df-1d4ddfa9-eec3-4c96-8707-98deff066ec1\">\n",
              "    <div class=\"colab-df-container\">\n",
              "      <div>\n",
              "<style scoped>\n",
              "    .dataframe tbody tr th:only-of-type {\n",
              "        vertical-align: middle;\n",
              "    }\n",
              "\n",
              "    .dataframe tbody tr th {\n",
              "        vertical-align: top;\n",
              "    }\n",
              "\n",
              "    .dataframe thead th {\n",
              "        text-align: right;\n",
              "    }\n",
              "</style>\n",
              "<table border=\"1\" class=\"dataframe\">\n",
              "  <thead>\n",
              "    <tr style=\"text-align: right;\">\n",
              "      <th></th>\n",
              "      <th>Unnamed: 0</th>\n",
              "      <th>date</th>\n",
              "      <th>rank</th>\n",
              "      <th>avg180_price</th>\n",
              "      <th>asin</th>\n",
              "    </tr>\n",
              "  </thead>\n",
              "  <tbody>\n",
              "    <tr>\n",
              "      <th>2521215</th>\n",
              "      <td>2521215</td>\n",
              "      <td>2020-02-21</td>\n",
              "      <td>56154.666667</td>\n",
              "      <td>60.32</td>\n",
              "      <td>2635214875</td>\n",
              "    </tr>\n",
              "    <tr>\n",
              "      <th>3484467</th>\n",
              "      <td>3484467</td>\n",
              "      <td>2020-02-21</td>\n",
              "      <td>56154.666667</td>\n",
              "      <td>60.32</td>\n",
              "      <td>2635214875</td>\n",
              "    </tr>\n",
              "    <tr>\n",
              "      <th>13981746</th>\n",
              "      <td>13981746</td>\n",
              "      <td>2020-02-21</td>\n",
              "      <td>56154.666667</td>\n",
              "      <td>60.32</td>\n",
              "      <td>2635214875</td>\n",
              "    </tr>\n",
              "    <tr>\n",
              "      <th>2521216</th>\n",
              "      <td>2521216</td>\n",
              "      <td>2020-02-22</td>\n",
              "      <td>51188.500000</td>\n",
              "      <td>60.32</td>\n",
              "      <td>2635214875</td>\n",
              "    </tr>\n",
              "    <tr>\n",
              "      <th>3484468</th>\n",
              "      <td>3484468</td>\n",
              "      <td>2020-02-22</td>\n",
              "      <td>51188.500000</td>\n",
              "      <td>60.32</td>\n",
              "      <td>2635214875</td>\n",
              "    </tr>\n",
              "  </tbody>\n",
              "</table>\n",
              "</div>\n",
              "      <button class=\"colab-df-convert\" onclick=\"convertToInteractive('df-1d4ddfa9-eec3-4c96-8707-98deff066ec1')\"\n",
              "              title=\"Convert this dataframe to an interactive table.\"\n",
              "              style=\"display:none;\">\n",
              "        \n",
              "  <svg xmlns=\"http://www.w3.org/2000/svg\" height=\"24px\"viewBox=\"0 0 24 24\"\n",
              "       width=\"24px\">\n",
              "    <path d=\"M0 0h24v24H0V0z\" fill=\"none\"/>\n",
              "    <path d=\"M18.56 5.44l.94 2.06.94-2.06 2.06-.94-2.06-.94-.94-2.06-.94 2.06-2.06.94zm-11 1L8.5 8.5l.94-2.06 2.06-.94-2.06-.94L8.5 2.5l-.94 2.06-2.06.94zm10 10l.94 2.06.94-2.06 2.06-.94-2.06-.94-.94-2.06-.94 2.06-2.06.94z\"/><path d=\"M17.41 7.96l-1.37-1.37c-.4-.4-.92-.59-1.43-.59-.52 0-1.04.2-1.43.59L10.3 9.45l-7.72 7.72c-.78.78-.78 2.05 0 2.83L4 21.41c.39.39.9.59 1.41.59.51 0 1.02-.2 1.41-.59l7.78-7.78 2.81-2.81c.8-.78.8-2.07 0-2.86zM5.41 20L4 18.59l7.72-7.72 1.47 1.35L5.41 20z\"/>\n",
              "  </svg>\n",
              "      </button>\n",
              "      \n",
              "  <style>\n",
              "    .colab-df-container {\n",
              "      display:flex;\n",
              "      flex-wrap:wrap;\n",
              "      gap: 12px;\n",
              "    }\n",
              "\n",
              "    .colab-df-convert {\n",
              "      background-color: #E8F0FE;\n",
              "      border: none;\n",
              "      border-radius: 50%;\n",
              "      cursor: pointer;\n",
              "      display: none;\n",
              "      fill: #1967D2;\n",
              "      height: 32px;\n",
              "      padding: 0 0 0 0;\n",
              "      width: 32px;\n",
              "    }\n",
              "\n",
              "    .colab-df-convert:hover {\n",
              "      background-color: #E2EBFA;\n",
              "      box-shadow: 0px 1px 2px rgba(60, 64, 67, 0.3), 0px 1px 3px 1px rgba(60, 64, 67, 0.15);\n",
              "      fill: #174EA6;\n",
              "    }\n",
              "\n",
              "    [theme=dark] .colab-df-convert {\n",
              "      background-color: #3B4455;\n",
              "      fill: #D2E3FC;\n",
              "    }\n",
              "\n",
              "    [theme=dark] .colab-df-convert:hover {\n",
              "      background-color: #434B5C;\n",
              "      box-shadow: 0px 1px 3px 1px rgba(0, 0, 0, 0.15);\n",
              "      filter: drop-shadow(0px 1px 2px rgba(0, 0, 0, 0.3));\n",
              "      fill: #FFFFFF;\n",
              "    }\n",
              "  </style>\n",
              "\n",
              "      <script>\n",
              "        const buttonEl =\n",
              "          document.querySelector('#df-1d4ddfa9-eec3-4c96-8707-98deff066ec1 button.colab-df-convert');\n",
              "        buttonEl.style.display =\n",
              "          google.colab.kernel.accessAllowed ? 'block' : 'none';\n",
              "\n",
              "        async function convertToInteractive(key) {\n",
              "          const element = document.querySelector('#df-1d4ddfa9-eec3-4c96-8707-98deff066ec1');\n",
              "          const dataTable =\n",
              "            await google.colab.kernel.invokeFunction('convertToInteractive',\n",
              "                                                     [key], {});\n",
              "          if (!dataTable) return;\n",
              "\n",
              "          const docLinkHtml = 'Like what you see? Visit the ' +\n",
              "            '<a target=\"_blank\" href=https://colab.research.google.com/notebooks/data_table.ipynb>data table notebook</a>'\n",
              "            + ' to learn more about interactive tables.';\n",
              "          element.innerHTML = '';\n",
              "          dataTable['output_type'] = 'display_data';\n",
              "          await google.colab.output.renderOutput(dataTable, element);\n",
              "          const docLink = document.createElement('div');\n",
              "          docLink.innerHTML = docLinkHtml;\n",
              "          element.appendChild(docLink);\n",
              "        }\n",
              "      </script>\n",
              "    </div>\n",
              "  </div>\n",
              "  "
            ]
          },
          "metadata": {},
          "execution_count": 6
        }
      ]
    },
    {
      "cell_type": "code",
      "source": [
        "bsr_prs = pd.read_pickle(f'{data}/clean/month_level_rank.pickle')\n",
        "bsr_prs['year_month'] = pd.to_datetime(bsr_prs['year_month'])\n",
        "bsr_prs = bsr_prs.sort_values(['asin','year_month'])"
      ],
      "metadata": {
        "id": "VIU7QP1k7kVE"
      },
      "execution_count": 7,
      "outputs": []
    },
    {
      "cell_type": "code",
      "source": [
        "asin_code = 'B00005313T'"
      ],
      "metadata": {
        "id": "sPkVxBhwEq3Z"
      },
      "execution_count": 8,
      "outputs": []
    },
    {
      "cell_type": "code",
      "source": [
        "raw_rank = bsr_raw.query(f'asin==\"{asin_code}\"')['rank']\n",
        "raw_rank_date = bsr_raw.query(f'asin==\"{asin_code}\"')['date']"
      ],
      "metadata": {
        "id": "Ur_o22op8Q4c"
      },
      "execution_count": 9,
      "outputs": []
    },
    {
      "cell_type": "code",
      "source": [
        "dates_in_month = bsr_prs.query(f'asin==\"{asin_code}\"')['dates_in_month']\n",
        "dates = []\n",
        "for row in dates_in_month:\n",
        "    dates.extend(row)\n",
        "\n",
        "rolling_med = bsr_prs.query(f'asin==\"{asin_code}\"')['rolling_median_month_rank']\n",
        "rolling_med_list = []\n",
        "for row in rolling_med:\n",
        "    rolling_med_list.extend(row)"
      ],
      "metadata": {
        "id": "iqRv5McsBel5"
      },
      "execution_count": 10,
      "outputs": []
    },
    {
      "cell_type": "code",
      "source": [
        "median_month_rank = bsr_prs.query(f'asin==\"{asin_code}\"')['median_month_rank']\n",
        "month_date = bsr_prs.query(f'asin==\"{asin_code}\"')['year_month']"
      ],
      "metadata": {
        "id": "uZ6jgdUF8VGh"
      },
      "execution_count": 11,
      "outputs": []
    },
    {
      "cell_type": "code",
      "source": [
        "f, axs = plt.subplots(1,1,figsize=(14,2));\n",
        "axs.plot(raw_rank_date, raw_rank, label='raw rank');\n",
        "axs.set(title='BSR over Time')\n",
        "axs.legend()\n",
        "axs.xaxis.set_major_locator(plt.MaxNLocator(10))\n",
        "\n",
        "f, axs = plt.subplots(1,1,figsize=(14,2));\n",
        "axs.plot(dates, rolling_med_list, label='rolling median')\n",
        "axs.legend()\n",
        "axs.xaxis.set_major_locator(plt.MaxNLocator(10))\n",
        "\n",
        "f, axs = plt.subplots(1,1,figsize=(14,2));\n",
        "axs.plot(month_date, median_month_rank, 'o-', label='monthly median')\n",
        "axs.legend()\n",
        "axs.xaxis.set_major_locator(plt.MaxNLocator(8))"
      ],
      "metadata": {
        "id": "zU15d1OA-e_o",
        "colab": {
          "base_uri": "https://localhost:8080/",
          "height": 453
        },
        "outputId": "8602ab52-0e1e-4c78-c239-46c36c0db0ae"
      },
      "execution_count": 12,
      "outputs": [
        {
          "output_type": "display_data",
          "data": {
            "text/plain": [
              "<Figure size 1008x144 with 1 Axes>"
            ],
            "image/png": "[encoded data removed]"
          },
          "metadata": {
            "needs_background": "light"
          }
        },
        {
          "output_type": "display_data",
          "data": {
            "text/plain": [
              "<Figure size 1008x144 with 1 Axes>"
            ],
            "image/png": "[encoded data removed]"
          },
          "metadata": {
            "needs_background": "light"
          }
        },
        {
          "output_type": "display_data",
          "data": {
            "text/plain": [
              "<Figure size 1008x144 with 1 Axes>"
            ],
            "image/png": "[encoded data removed]"
          },
          "metadata": {
            "needs_background": "light"
          }
        }
      ]
    },
    {
      "cell_type": "code",
      "source": [
        "sales = pd.read_pickle(f'{data}/clean/month_level_rank_sales_price.pickle')\n",
        "rev = pd.read_pickle(f'{data}/clean/month_level_review.pickle')\n",
        "df = rev[['asin', 'year_month']].merge(sales[['asin', 'year_month', 'median_month_est_sales','median_month_rank']], how='inner')"
      ],
      "metadata": {
        "id": "ohpzRhXmnG73"
      },
      "execution_count": 13,
      "outputs": []
    },
    {
      "cell_type": "code",
      "source": [
        "f, axs = plt.subplots(1,2,figsize=(8,3));\n",
        "axs[0].hist(df['median_month_est_sales'], bins=20, edgecolor='k', density=False, alpha=0.8);\n",
        "axs[0].set(title='Full Dataset', xlabel='monthly median sales', ylabel='frequency');\n",
        "axs[1].hist(df.query('median_month_est_sales < 100')['median_month_est_sales'], bins=20, edgecolor='k', density=False, alpha=0.8);\n",
        "axs[1].set(title='Zoomed In', xlabel='monthly median sales');"
      ],
      "metadata": {
        "colab": {
          "base_uri": "https://localhost:8080/",
          "height": 241
        },
        "id": "6_fRmTPDN_QE",
        "outputId": "f62719aa-b787-4e10-944c-0068e7c65f1a"
      },
      "execution_count": 14,
      "outputs": [
        {
          "output_type": "display_data",
          "data": {
            "text/plain": [
              "<Figure size 576x216 with 2 Axes>"
            ],
            "image/png": "[encoded data removed]"
          },
          "metadata": {
            "needs_background": "light"
          }
        }
      ]
    },
    {
      "cell_type": "code",
      "source": [
        "df['median_month_est_sales'].describe()"
      ],
      "metadata": {
        "colab": {
          "base_uri": "https://localhost:8080/"
        },
        "id": "5SgNmdIXO6tx",
        "outputId": "365fe8a7-6399-4333-fb6a-42eab5c178d9"
      },
      "execution_count": 15,
      "outputs": [
        {
          "output_type": "execute_result",
          "data": {
            "text/plain": [
              "count    226637.000000\n",
              "mean         99.470889\n",
              "std         208.381597\n",
              "min           0.024907\n",
              "25%          18.078906\n",
              "50%          39.618164\n",
              "75%          96.171875\n",
              "max        5214.000000\n",
              "Name: median_month_est_sales, dtype: float64"
            ]
          },
          "metadata": {},
          "execution_count": 15
        }
      ]
    },
    {
      "cell_type": "code",
      "source": [
        "f, axs = plt.subplots(1,1,figsize=(4,3));\n",
        "axs.hist(df['median_month_rank'], bins=20, edgecolor='k', density=False, alpha=0.8);\n",
        "axs.set(title='Histogram of Monthly Median Rank', xlabel='monthly median BSR', ylabel='frequency');"
      ],
      "metadata": {
        "colab": {
          "base_uri": "https://localhost:8080/",
          "height": 241
        },
        "id": "bohiMiMaPb6Q",
        "outputId": "3f67cbec-af43-41e3-eb8d-45da81ff425f"
      },
      "execution_count": 16,
      "outputs": [
        {
          "output_type": "display_data",
          "data": {
            "text/plain": [
              "<Figure size 288x216 with 1 Axes>"
            ],
            "image/png": "[encoded data removed]"
          },
          "metadata": {
            "needs_background": "light"
          }
        }
      ]
    },
    {
      "cell_type": "code",
      "source": [
        ""
      ],
      "metadata": {
        "id": "-3J1LnulRvzz"
      },
      "execution_count": 16,
      "outputs": []
    }
  ]
}