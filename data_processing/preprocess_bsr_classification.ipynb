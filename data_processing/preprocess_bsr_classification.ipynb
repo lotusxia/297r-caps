{
  "nbformat": 4,
  "nbformat_minor": 0,
  "metadata": {
    "colab": {
      "name": "preprocess_bsr_classification.ipynb",
      "provenance": [],
      "collapsed_sections": []
    },
    "kernelspec": {
      "name": "python3",
      "display_name": "Python 3"
    },
    "language_info": {
      "name": "python"
    }
  },
  "cells": [
    {
      "cell_type": "markdown",
      "source": [
        "# Preprocess bsr data\n",
        "\n",
        "The purpose of this notebook is to get the best bsr over a certain time period, as well as the first launch date of a product. We would like to estimate the effect of inital reviews on the long-term bsr.\n",
        "\n",
        "Steps:\n",
        "1. Remove the products whose first review date is earlier than the first bsr date. \n",
        "2. Calculate min, 10 quantile, 50 quantile bsr over certain time priod.\n",
        "\n",
        "- For example,for a product whose min date is 1/1/2018. Compute:\n",
        "  1. min bsr between 1/1/2019 and 12/31/2019 (i.e. 1 full year later, over the following 1 full year period)\n",
        "  2. min bsr between 1/1/2020 and 12/31/2020 (i.e. 2 full year later, over the following 1 full year period)\n",
        "  3. min bsr between 1/1/2019 and 3/31/2019 (i.e. 1 full year later, over the follwoing 3 months period)\n",
        "  4. min bsr between 7/1/2019 and 9/30/2019 (i.e. 1.5 year later, over the following 3 months period)\n",
        "  5. min bsr between 1/1/2020 and 3/31/2020 (i.e. 2 year later, over the following 3 months period)\n",
        "\n",
        "3. The first launch date of a product is calculated as \n",
        "  - launch_date = min(first_bsr_date, first_review_date)\n",
        "\n",
        "4. Generate labels based on the selected threshold brs(3000).\n"
      ],
      "metadata": {
        "id": "E7pY6gvyOD9r"
      }
    },
    {
      "cell_type": "code",
      "execution_count": 1,
      "metadata": {
        "id": "NtH3CyKyFeWJ",
        "colab": {
          "base_uri": "https://localhost:8080/"
        },
        "outputId": "53ccf17c-1ea5-42f5-aeda-0bd423cf304e"
      },
      "outputs": [
        {
          "output_type": "stream",
          "name": "stdout",
          "text": [
            "Mounted at /content/drive\n"
          ]
        }
      ],
      "source": [
        "from google.colab import drive\n",
        "drive.mount('/content/drive')"
      ]
    },
    {
      "cell_type": "code",
      "source": [
        "# input folders\n",
        "in_data = \"/content/drive/My Drive/297R-Caps-Pattern/Data/raw\"\n",
        "\n",
        "# intermediate folders\n",
        "int_data = \"/content/drive/My Drive/297R-Caps-Pattern/Data/intermediate\"\n",
        "\n",
        "# output folders\n",
        "out_data = \"/content/drive/My Drive/297R-Caps-Pattern/Data/clean\""
      ],
      "metadata": {
        "id": "gsm9z2xrUQtJ"
      },
      "execution_count": 2,
      "outputs": []
    },
    {
      "cell_type": "code",
      "source": [
        "import csv\n",
        "import numpy as np\n",
        "import pandas as pd\n",
        "import matplotlib.pyplot as plt\n",
        "from tqdm.auto import tqdm"
      ],
      "metadata": {
        "id": "VImpYkSRNHqc"
      },
      "execution_count": 3,
      "outputs": []
    },
    {
      "cell_type": "markdown",
      "source": [
        "# Load dataset"
      ],
      "metadata": {
        "id": "WqNJwzCrFwBc"
      }
    },
    {
      "cell_type": "code",
      "source": [
        "# load filtered bsr datasets\n",
        "bsr_full = pd.read_csv(f'{int_data}/bsr_filtered.csv')"
      ],
      "metadata": {
        "id": "bDDKsVscUf45"
      },
      "execution_count": 4,
      "outputs": []
    },
    {
      "cell_type": "code",
      "source": [
        "# load original review datasets\n",
        "rev_full = pd.read_csv(f'{in_data}/asin_review_history.csv')\n",
        "rev_full = rev_full.drop('Unnamed: 0', axis=1)"
      ],
      "metadata": {
        "id": "5kOb6g7X__9i"
      },
      "execution_count": 5,
      "outputs": []
    },
    {
      "cell_type": "code",
      "source": [
        "# drop products without a Bxxxx asin\n",
        "rev_full = rev_full[rev_full['asin'].str[0] == 'B'].copy()\n",
        "# drop duplicates based on all columns\n",
        "rev_full = rev_full.drop_duplicates()"
      ],
      "metadata": {
        "id": "tDzcUSfyA_se"
      },
      "execution_count": 6,
      "outputs": []
    },
    {
      "cell_type": "code",
      "source": [
        "# before drop asin\n",
        "print(bsr_full.shape)\n",
        "print(rev_full.shape)\n",
        "\n",
        "print(bsr_full['asin'].nunique())\n",
        "print(rev_full['asin'].nunique())"
      ],
      "metadata": {
        "colab": {
          "base_uri": "https://localhost:8080/"
        },
        "id": "6P7-s_1aGDk3",
        "outputId": "691280b8-2e50-4278-d8c6-e4be5eb135b7"
      },
      "execution_count": 7,
      "outputs": [
        {
          "output_type": "stream",
          "name": "stdout",
          "text": [
            "(10418058, 4)\n",
            "(3818253, 11)\n",
            "9146\n",
            "9976\n"
          ]
        }
      ]
    },
    {
      "cell_type": "code",
      "source": [
        "# find product asin with a review before 2017 \n",
        "rev_asin_before_2017 = rev_full.query('review_date < \"2017-01-01\"').copy()['asin'].unique()"
      ],
      "metadata": {
        "id": "Nr0BaOwTBCE1"
      },
      "execution_count": 8,
      "outputs": []
    },
    {
      "cell_type": "code",
      "source": [
        "# num of product that has a review before 2017\n",
        "rev_asin_before_2017.shape"
      ],
      "metadata": {
        "colab": {
          "base_uri": "https://localhost:8080/"
        },
        "id": "FjxXB8t7HAZ8",
        "outputId": "38502586-a5e3-49c4-9436-2dee7578900f"
      },
      "execution_count": 9,
      "outputs": [
        {
          "output_type": "execute_result",
          "data": {
            "text/plain": [
              "(5079,)"
            ]
          },
          "metadata": {},
          "execution_count": 9
        }
      ]
    },
    {
      "cell_type": "code",
      "source": [
        "# remove products from bsr_full with asin in rev_asin_before_2017\n",
        "bsr = bsr_full.query('asin not in @rev_asin_before_2017').copy()\n",
        "# remove products from rev_full with asin in rev_asin_before_2017\n",
        "rev = rev_full.query('asin not in @rev_asin_before_2017').copy()"
      ],
      "metadata": {
        "id": "4W3eB4RFBgmp"
      },
      "execution_count": 10,
      "outputs": []
    },
    {
      "cell_type": "code",
      "source": [
        "# after drop asin\n",
        "print(bsr.shape)\n",
        "print(rev.shape)"
      ],
      "metadata": {
        "colab": {
          "base_uri": "https://localhost:8080/"
        },
        "id": "A_kIvnwpCBZp",
        "outputId": "6884377b-68f0-4608-c492-1af5c490b4ad"
      },
      "execution_count": 11,
      "outputs": [
        {
          "output_type": "stream",
          "name": "stdout",
          "text": [
            "(3530998, 4)\n",
            "(1458040, 11)\n"
          ]
        }
      ]
    },
    {
      "cell_type": "markdown",
      "source": [
        "## Process review data\n"
      ],
      "metadata": {
        "id": "VXlmmG28Ff-h"
      }
    },
    {
      "cell_type": "code",
      "source": [
        "# drop reviewcommentcount since it's all 0\n",
        "rev = rev.drop('reviewcommentcount', axis=1).copy()\n",
        "# rename review date to date\n",
        "rev = rev.rename(columns={'review_date':'date'})"
      ],
      "metadata": {
        "id": "udQ1rIqzCOnS"
      },
      "execution_count": 12,
      "outputs": []
    },
    {
      "cell_type": "code",
      "source": [
        "rev.head()"
      ],
      "metadata": {
        "colab": {
          "base_uri": "https://localhost:8080/",
          "height": 684
        },
        "id": "VKaObOUkFYJR",
        "outputId": "0d6635a8-0159-452e-8a5b-a306e2927a16"
      },
      "execution_count": 13,
      "outputs": [
        {
          "output_type": "execute_result",
          "data": {
            "text/plain": [
              "            asin                                       product_name  \\\n",
              "6083  B079PWNBZW  Align DualBiotic, Prebiotic + Probiotic for Me...   \n",
              "6084  B079PWNBZW  Align DualBiotic, Prebiotic + Probiotic for Me...   \n",
              "6085  B079PWNBZW  Align DualBiotic, Prebiotic + Probiotic for Me...   \n",
              "6086  B079PWNBZW  Align DualBiotic, Prebiotic + Probiotic for Me...   \n",
              "6087  B079PWNBZW  Align DualBiotic, Prebiotic + Probiotic for Me...   \n",
              "\n",
              "                                           review_title  \\\n",
              "6083                              Didn't work for me...   \n",
              "6084                                            BLOATED   \n",
              "6085                                     Actually helps   \n",
              "6086  Great to lose belly fat, reduce gas, constipat...   \n",
              "6087       Don’t get the women’s probiotic. Get regular   \n",
              "\n",
              "                                            review_text  reviewrating  \\\n",
              "6083  The label clearly states that gas or bloating ...           1.0   \n",
              "6084  The flavor is great! I saw another post that m...           5.0   \n",
              "6085  I always hesitate with probiotics because they...           5.0   \n",
              "6086  Been taking these for sometime now. Have ventu...           5.0   \n",
              "6087  I usually take the Align probiotic and love it...           1.0   \n",
              "\n",
              "            date                    reviewvotes  reviewverifiedpurchase  \\\n",
              "6083  2018-12-26  224 people found this helpful                    True   \n",
              "6084  2020-08-03   70 people found this helpful                    True   \n",
              "6085  2018-09-06  126 people found this helpful                    True   \n",
              "6086  2020-02-18   56 people found this helpful                    True   \n",
              "6087  2018-09-15   89 people found this helpful                    True   \n",
              "\n",
              "                                                   temp    country_name  \n",
              "6083  Reviewed in the United States on December 26, ...   United States  \n",
              "6084    Reviewed in the United States on August 3, 2020   United States  \n",
              "6085  Reviewed in the United States on September 6, ...   United States  \n",
              "6086  Reviewed in the United States on February 18, ...   United States  \n",
              "6087  Reviewed in the United States on September 15,...   United States  "
            ],
            "text/html": [
              "\n",
              "  <div id=\"df-fe1f6d89-5d8b-4b79-b74c-31f6e85119db\">\n",
              "    <div class=\"colab-df-container\">\n",
              "      <div>\n",
              "<style scoped>\n",
              "    .dataframe tbody tr th:only-of-type {\n",
              "        vertical-align: middle;\n",
              "    }\n",
              "\n",
              "    .dataframe tbody tr th {\n",
              "        vertical-align: top;\n",
              "    }\n",
              "\n",
              "    .dataframe thead th {\n",
              "        text-align: right;\n",
              "    }\n",
              "</style>\n",
              "<table border=\"1\" class=\"dataframe\">\n",
              "  <thead>\n",
              "    <tr style=\"text-align: right;\">\n",
              "      <th></th>\n",
              "      <th>asin</th>\n",
              "      <th>product_name</th>\n",
              "      <th>review_title</th>\n",
              "      <th>review_text</th>\n",
              "      <th>reviewrating</th>\n",
              "      <th>date</th>\n",
              "      <th>reviewvotes</th>\n",
              "      <th>reviewverifiedpurchase</th>\n",
              "      <th>temp</th>\n",
              "      <th>country_name</th>\n",
              "    </tr>\n",
              "  </thead>\n",
              "  <tbody>\n",
              "    <tr>\n",
              "      <th>6083</th>\n",
              "      <td>B079PWNBZW</td>\n",
              "      <td>Align DualBiotic, Prebiotic + Probiotic for Me...</td>\n",
              "      <td>Didn't work for me...</td>\n",
              "      <td>The label clearly states that gas or bloating ...</td>\n",
              "      <td>1.0</td>\n",
              "      <td>2018-12-26</td>\n",
              "      <td>224 people found this helpful</td>\n",
              "      <td>True</td>\n",
              "      <td>Reviewed in the United States on December 26, ...</td>\n",
              "      <td>United States</td>\n",
              "    </tr>\n",
              "    <tr>\n",
              "      <th>6084</th>\n",
              "      <td>B079PWNBZW</td>\n",
              "      <td>Align DualBiotic, Prebiotic + Probiotic for Me...</td>\n",
              "      <td>BLOATED</td>\n",
              "      <td>The flavor is great! I saw another post that m...</td>\n",
              "      <td>5.0</td>\n",
              "      <td>2020-08-03</td>\n",
              "      <td>70 people found this helpful</td>\n",
              "      <td>True</td>\n",
              "      <td>Reviewed in the United States on August 3, 2020</td>\n",
              "      <td>United States</td>\n",
              "    </tr>\n",
              "    <tr>\n",
              "      <th>6085</th>\n",
              "      <td>B079PWNBZW</td>\n",
              "      <td>Align DualBiotic, Prebiotic + Probiotic for Me...</td>\n",
              "      <td>Actually helps</td>\n",
              "      <td>I always hesitate with probiotics because they...</td>\n",
              "      <td>5.0</td>\n",
              "      <td>2018-09-06</td>\n",
              "      <td>126 people found this helpful</td>\n",
              "      <td>True</td>\n",
              "      <td>Reviewed in the United States on September 6, ...</td>\n",
              "      <td>United States</td>\n",
              "    </tr>\n",
              "    <tr>\n",
              "      <th>6086</th>\n",
              "      <td>B079PWNBZW</td>\n",
              "      <td>Align DualBiotic, Prebiotic + Probiotic for Me...</td>\n",
              "      <td>Great to lose belly fat, reduce gas, constipat...</td>\n",
              "      <td>Been taking these for sometime now. Have ventu...</td>\n",
              "      <td>5.0</td>\n",
              "      <td>2020-02-18</td>\n",
              "      <td>56 people found this helpful</td>\n",
              "      <td>True</td>\n",
              "      <td>Reviewed in the United States on February 18, ...</td>\n",
              "      <td>United States</td>\n",
              "    </tr>\n",
              "    <tr>\n",
              "      <th>6087</th>\n",
              "      <td>B079PWNBZW</td>\n",
              "      <td>Align DualBiotic, Prebiotic + Probiotic for Me...</td>\n",
              "      <td>Don’t get the women’s probiotic. Get regular</td>\n",
              "      <td>I usually take the Align probiotic and love it...</td>\n",
              "      <td>1.0</td>\n",
              "      <td>2018-09-15</td>\n",
              "      <td>89 people found this helpful</td>\n",
              "      <td>True</td>\n",
              "      <td>Reviewed in the United States on September 15,...</td>\n",
              "      <td>United States</td>\n",
              "    </tr>\n",
              "  </tbody>\n",
              "</table>\n",
              "</div>\n",
              "      <button class=\"colab-df-convert\" onclick=\"convertToInteractive('df-fe1f6d89-5d8b-4b79-b74c-31f6e85119db')\"\n",
              "              title=\"Convert this dataframe to an interactive table.\"\n",
              "              style=\"display:none;\">\n",
              "        \n",
              "  <svg xmlns=\"http://www.w3.org/2000/svg\" height=\"24px\"viewBox=\"0 0 24 24\"\n",
              "       width=\"24px\">\n",
              "    <path d=\"M0 0h24v24H0V0z\" fill=\"none\"/>\n",
              "    <path d=\"M18.56 5.44l.94 2.06.94-2.06 2.06-.94-2.06-.94-.94-2.06-.94 2.06-2.06.94zm-11 1L8.5 8.5l.94-2.06 2.06-.94-2.06-.94L8.5 2.5l-.94 2.06-2.06.94zm10 10l.94 2.06.94-2.06 2.06-.94-2.06-.94-.94-2.06-.94 2.06-2.06.94z\"/><path d=\"M17.41 7.96l-1.37-1.37c-.4-.4-.92-.59-1.43-.59-.52 0-1.04.2-1.43.59L10.3 9.45l-7.72 7.72c-.78.78-.78 2.05 0 2.83L4 21.41c.39.39.9.59 1.41.59.51 0 1.02-.2 1.41-.59l7.78-7.78 2.81-2.81c.8-.78.8-2.07 0-2.86zM5.41 20L4 18.59l7.72-7.72 1.47 1.35L5.41 20z\"/>\n",
              "  </svg>\n",
              "      </button>\n",
              "      \n",
              "  <style>\n",
              "    .colab-df-container {\n",
              "      display:flex;\n",
              "      flex-wrap:wrap;\n",
              "      gap: 12px;\n",
              "    }\n",
              "\n",
              "    .colab-df-convert {\n",
              "      background-color: #E8F0FE;\n",
              "      border: none;\n",
              "      border-radius: 50%;\n",
              "      cursor: pointer;\n",
              "      display: none;\n",
              "      fill: #1967D2;\n",
              "      height: 32px;\n",
              "      padding: 0 0 0 0;\n",
              "      width: 32px;\n",
              "    }\n",
              "\n",
              "    .colab-df-convert:hover {\n",
              "      background-color: #E2EBFA;\n",
              "      box-shadow: 0px 1px 2px rgba(60, 64, 67, 0.3), 0px 1px 3px 1px rgba(60, 64, 67, 0.15);\n",
              "      fill: #174EA6;\n",
              "    }\n",
              "\n",
              "    [theme=dark] .colab-df-convert {\n",
              "      background-color: #3B4455;\n",
              "      fill: #D2E3FC;\n",
              "    }\n",
              "\n",
              "    [theme=dark] .colab-df-convert:hover {\n",
              "      background-color: #434B5C;\n",
              "      box-shadow: 0px 1px 3px 1px rgba(0, 0, 0, 0.15);\n",
              "      filter: drop-shadow(0px 1px 2px rgba(0, 0, 0, 0.3));\n",
              "      fill: #FFFFFF;\n",
              "    }\n",
              "  </style>\n",
              "\n",
              "      <script>\n",
              "        const buttonEl =\n",
              "          document.querySelector('#df-fe1f6d89-5d8b-4b79-b74c-31f6e85119db button.colab-df-convert');\n",
              "        buttonEl.style.display =\n",
              "          google.colab.kernel.accessAllowed ? 'block' : 'none';\n",
              "\n",
              "        async function convertToInteractive(key) {\n",
              "          const element = document.querySelector('#df-fe1f6d89-5d8b-4b79-b74c-31f6e85119db');\n",
              "          const dataTable =\n",
              "            await google.colab.kernel.invokeFunction('convertToInteractive',\n",
              "                                                     [key], {});\n",
              "          if (!dataTable) return;\n",
              "\n",
              "          const docLinkHtml = 'Like what you see? Visit the ' +\n",
              "            '<a target=\"_blank\" href=https://colab.research.google.com/notebooks/data_table.ipynb>data table notebook</a>'\n",
              "            + ' to learn more about interactive tables.';\n",
              "          element.innerHTML = '';\n",
              "          dataTable['output_type'] = 'display_data';\n",
              "          await google.colab.output.renderOutput(dataTable, element);\n",
              "          const docLink = document.createElement('div');\n",
              "          docLink.innerHTML = docLinkHtml;\n",
              "          element.appendChild(docLink);\n",
              "        }\n",
              "      </script>\n",
              "    </div>\n",
              "  </div>\n",
              "  "
            ]
          },
          "metadata": {},
          "execution_count": 13
        }
      ]
    },
    {
      "cell_type": "code",
      "source": [
        "# check the min date of rev\n",
        "rev['date'].min()"
      ],
      "metadata": {
        "colab": {
          "base_uri": "https://localhost:8080/",
          "height": 35
        },
        "id": "ElLUSk8XFpsy",
        "outputId": "f1eefae5-23bd-4f48-c24f-c33499966a3b"
      },
      "execution_count": 14,
      "outputs": [
        {
          "output_type": "execute_result",
          "data": {
            "text/plain": [
              "'2017-01-01'"
            ],
            "application/vnd.google.colaboratory.intrinsic+json": {
              "type": "string"
            }
          },
          "metadata": {},
          "execution_count": 14
        }
      ]
    },
    {
      "cell_type": "markdown",
      "source": [
        "# Merge"
      ],
      "metadata": {
        "id": "ocuuaZbiHehP"
      }
    },
    {
      "cell_type": "code",
      "source": [
        "bsr['date'] = pd.to_datetime(bsr['date'])\n",
        "rev['date'] = pd.to_datetime(rev['date'])"
      ],
      "metadata": {
        "id": "wpdcnM2SG5CX"
      },
      "execution_count": 15,
      "outputs": []
    },
    {
      "cell_type": "code",
      "source": [
        "# product sample is the intersect of reviews and bsrs\n",
        "rev_prod = rev[['asin']].drop_duplicates().copy()\n",
        "bsr_prod = bsr[['asin']].drop_duplicates().copy()\n",
        "\n",
        "prod_sample = rev_prod.merge(bsr_prod, on='asin', how='inner')\n",
        "print(prod_sample.shape[0], 'product remains')\n"
      ],
      "metadata": {
        "colab": {
          "base_uri": "https://localhost:8080/"
        },
        "id": "3JXLcJqlIlCk",
        "outputId": "501dcd39-5624-4067-c73c-15f2bfc93f12"
      },
      "execution_count": 16,
      "outputs": [
        {
          "output_type": "stream",
          "name": "stdout",
          "text": [
            "4146 product remains\n"
          ]
        }
      ]
    },
    {
      "cell_type": "code",
      "source": [
        "rev = rev.merge(prod_sample, on='asin', how='right').copy()\n",
        "bsr = bsr.merge(prod_sample, on='asin', how='right').copy()"
      ],
      "metadata": {
        "id": "GVTSyuE9Jdi_"
      },
      "execution_count": 17,
      "outputs": []
    },
    {
      "cell_type": "code",
      "source": [
        "bsr.to_pickle(f'{out_data}/bsr_after_2017.pickle',index=False)\n",
        "rev.to_pickle(f'{out_data}/rev_after_2017.pickle',index=False)"
      ],
      "metadata": {
        "id": "DzAXV3KZM_hT"
      },
      "execution_count": null,
      "outputs": []
    },
    {
      "cell_type": "markdown",
      "source": [
        "# Process BSR"
      ],
      "metadata": {
        "id": "9tMqgiQ9Pf3e"
      }
    },
    {
      "cell_type": "code",
      "source": [
        "def fill_na_rank(rank_list):\n",
        "    rank_df = pd.DataFrame(rank_list,columns=['Rank'])\n",
        "    rank_df = pd.concat([rank_df.ffill(), rank_df.bfill()]).groupby(level=0).mean()['Rank'].values.tolist()\n",
        "    return rank_df\n",
        "\n",
        "def get_value(rank):\n",
        "  return [rank.min(), rank.quantile(0.1), rank.quantile(0.5)]\n",
        "  \n",
        "def compute_min_bsr(date, rank):\n",
        "  date_df = pd.DataFrame(zip(date, rank), columns=['date','rank'])\n",
        "  date_df['YearMonth'] = pd.to_datetime(date_df['date'].apply(pd.to_datetime).apply(lambda x: x.strftime('%m-%Y')))\n",
        "\n",
        "  min_month = date_df['YearMonth'].min()\n",
        "  one_yr_later = min_month + pd.DateOffset(months=12)\n",
        "  one_half_yr_later = min_month + pd.DateOffset(months=18)\n",
        "  two_yr_later = min_month + pd.DateOffset(months=24)\n",
        "\n",
        "  # 1 full year later, for 1 full year\n",
        "  range_1 = date_df[(date_df['YearMonth'] >= one_yr_later) & (date_df['YearMonth'] < one_yr_later + pd.DateOffset(months=12))]\n",
        "  # 2 full year later, for 1 full year\n",
        "  range_2 = date_df[(date_df['YearMonth'] >= two_yr_later) & (date_df['YearMonth'] < two_yr_later + pd.DateOffset(months=12))]\n",
        "  # 1 full year later, for 3 months\n",
        "  range_3 = date_df[(date_df['YearMonth'] >= one_yr_later) & (date_df['YearMonth'] < one_yr_later + pd.DateOffset(months=3))]\n",
        "  # 1.5 full year later, for 3 months\n",
        "  range_4 = date_df[(date_df['YearMonth'] >= one_half_yr_later) & (date_df['YearMonth'] < one_half_yr_later + pd.DateOffset(months=3))]\n",
        "  # 2 full year later, for 3 months\n",
        "  range_5 = date_df[(date_df['YearMonth'] >= two_yr_later) & (date_df['YearMonth'] < two_yr_later + pd.DateOffset(months=3))]\n",
        "  return [min_month, get_value(range_1['rank']), get_value(range_2['rank']), get_value(range_3['rank']), \n",
        "          get_value(range_4['rank']), get_value(range_5['rank'])]\n"
      ],
      "metadata": {
        "id": "T_pLXqW3QMTj"
      },
      "execution_count": 18,
      "outputs": []
    },
    {
      "cell_type": "code",
      "source": [
        "# Sorting by date\n",
        "bsr_sorted = bsr.sort_values('date')\n",
        "bsr_sorted.reset_index(inplace=True)"
      ],
      "metadata": {
        "id": "-JH6P1F1P43T"
      },
      "execution_count": 19,
      "outputs": []
    },
    {
      "cell_type": "code",
      "source": [
        "# Grouping by product and creating timelines\n",
        "grouped_data = bsr_sorted.groupby('asin')\n",
        "bsr_timelines_by_product = grouped_data['rank'].apply(list).reset_index(name='rank')\n",
        "bsr_timelines_by_product['date'] = grouped_data['date'].apply(list).reset_index(name='date')['date']"
      ],
      "metadata": {
        "id": "TV51KgOgPj2A"
      },
      "execution_count": 20,
      "outputs": []
    },
    {
      "cell_type": "code",
      "source": [
        "# fill nan value in the rank\n",
        "bsr_timelines_by_product['filled_rank'] = bsr_timelines_by_product['rank'].apply(fill_na_rank)"
      ],
      "metadata": {
        "id": "AGfPJAfzQQb5"
      },
      "execution_count": 21,
      "outputs": []
    },
    {
      "cell_type": "markdown",
      "source": [
        "for a product whose min date is 1/1/2018.\n",
        "compute:\n",
        "1. min bsr between 1/1/2019 and 12/31/2019 (i.e. 1 full year later, for 1 full year)\n",
        "2. min bsr between 1/1/2020 and 12/31/2020 (i.e. 2 full year later, for 1 full year)\n",
        "3. min bsr between 1/1/2019 and 3/31/2019 (i.e. 1 full year later, for 3 months)\n",
        "4. min bsr between 7/1/2019 and 9/30/2019 (i.e. 1.5 year later, for 3 months)\n",
        "5. min bsr between 1/1/2020 and 3/31/2020 (i.e. 2 year later, for 3 months)"
      ],
      "metadata": {
        "id": "zJ16wQ1yU85i"
      }
    },
    {
      "cell_type": "code",
      "source": [
        "result_all = bsr_timelines_by_product.apply(lambda x: compute_min_bsr(x.date, \n",
        "                                                                      x.filled_rank),\n",
        "                                            axis=1)"
      ],
      "metadata": {
        "id": "oNRLPGKqjO5t"
      },
      "execution_count": 22,
      "outputs": []
    },
    {
      "cell_type": "code",
      "source": [
        "min_month = []\n",
        "after_1_yr_period_12_mo_min_bsr = []\n",
        "after_1_yr_period_12_mo_10_perc_bsr = []\n",
        "after_1_yr_period_12_mo_median_bsr = []\n",
        "\n",
        "after_2_yr_period_12_mo_min_bsr = []\n",
        "after_2_yr_period_12_mo_10_perc_bsr = []\n",
        "after_2_yr_period_12_mo_median_bsr = []\n",
        "\n",
        "after_1_yr_period_3_mo_min_bsr = []\n",
        "after_1_yr_period_3_mo_10_perc_bsr = []\n",
        "after_1_yr_period_3_mo_median_bsr = []\n",
        "\n",
        "after_1_5_yr_period_3_mo_min_bsr = []\n",
        "after_1_5_yr_period_3_mo_10_perc_bsr = []\n",
        "after_1_5_yr_period_3_mo_median_bsr = []\n",
        "\n",
        "after_2_yr_period_3_mo_min_bsr = []\n",
        "after_2_yr_period_3_mo_10_perc_bsr = []\n",
        "after_2_yr_period_3_mo_median_bsr = []\n",
        "\n",
        "for row in result_all:\n",
        "  min_month.append(row[0])\n",
        "  after_1_yr_period_12_mo_min_bsr.append(row[1][0])\n",
        "  after_1_yr_period_12_mo_10_perc_bsr.append(row[1][1])\n",
        "  after_1_yr_period_12_mo_median_bsr.append(row[1][2])\n",
        "\n",
        "  after_2_yr_period_12_mo_min_bsr.append(row[2][0])\n",
        "  after_2_yr_period_12_mo_10_perc_bsr.append(row[2][1])\n",
        "  after_2_yr_period_12_mo_median_bsr.append(row[2][2])\n",
        "\n",
        "  after_1_yr_period_3_mo_min_bsr.append(row[3][0])\n",
        "  after_1_yr_period_3_mo_10_perc_bsr.append(row[3][1])\n",
        "  after_1_yr_period_3_mo_median_bsr.append(row[3][2])\n",
        "\n",
        "  after_1_5_yr_period_3_mo_min_bsr.append(row[4][0])\n",
        "  after_1_5_yr_period_3_mo_10_perc_bsr.append(row[4][1])\n",
        "  after_1_5_yr_period_3_mo_median_bsr.append(row[4][2])\n",
        "\n",
        "  after_2_yr_period_3_mo_min_bsr.append(row[5][0])\n",
        "  after_2_yr_period_3_mo_10_perc_bsr.append(row[5][1])\n",
        "  after_2_yr_period_3_mo_median_bsr.append(row[5][2])\n"
      ],
      "metadata": {
        "id": "O8banL9ugG4w"
      },
      "execution_count": 23,
      "outputs": []
    },
    {
      "cell_type": "code",
      "source": [
        "bsr_timelines_by_product['min_month_bsr'] = min_month\n",
        "\n",
        "bsr_timelines_by_product['after_1_yr_period_12_mo_min_bsr'] = after_1_yr_period_12_mo_min_bsr\n",
        "bsr_timelines_by_product['after_1_yr_period_12_mo_10_perc_bsr'] = after_1_yr_period_12_mo_10_perc_bsr\n",
        "bsr_timelines_by_product['after_1_yr_period_12_mo_median_bsr'] = after_1_yr_period_12_mo_median_bsr\n",
        "\n",
        "bsr_timelines_by_product['after_2_yr_period_12_mo_min_bsr'] = after_2_yr_period_12_mo_min_bsr\n",
        "bsr_timelines_by_product['after_2_yr_period_12_mo_10_perc_bsr'] = after_2_yr_period_12_mo_10_perc_bsr\n",
        "bsr_timelines_by_product['after_2_yr_period_12_mo_median_bsr'] = after_2_yr_period_12_mo_median_bsr\n",
        "\n",
        "bsr_timelines_by_product['after_1_yr_period_3_mo_min_bsr'] = after_1_yr_period_3_mo_min_bsr\n",
        "bsr_timelines_by_product['after_1_yr_period_3_mo_10_perc_bsr'] = after_1_yr_period_3_mo_10_perc_bsr\n",
        "bsr_timelines_by_product['after_1_yr_period_3_mo_median_bsr'] = after_1_yr_period_3_mo_median_bsr\n",
        "\n",
        "bsr_timelines_by_product['after_1_5_yr_period_3_mo_min_bsr'] = after_1_5_yr_period_3_mo_min_bsr\n",
        "bsr_timelines_by_product['after_1_5_yr_period_3_mo_10_perc_bsr'] = after_1_5_yr_period_3_mo_10_perc_bsr\n",
        "bsr_timelines_by_product['after_1_5_yr_period_3_mo_median_bsr'] = after_1_5_yr_period_3_mo_median_bsr\n",
        "\n",
        "bsr_timelines_by_product['after_2_yr_period_3_mo_min_bsr'] = after_2_yr_period_3_mo_min_bsr\n",
        "bsr_timelines_by_product['after_2_yr_period_3_mo_10_perc_bsr'] = after_2_yr_period_3_mo_10_perc_bsr\n",
        "bsr_timelines_by_product['after_2_yr_period_3_mo_median_bsr'] = after_2_yr_period_3_mo_median_bsr"
      ],
      "metadata": {
        "id": "gMHimhD1qdsB"
      },
      "execution_count": 24,
      "outputs": []
    },
    {
      "cell_type": "code",
      "source": [
        "bsr_timelines_by_product.isnull().sum()"
      ],
      "metadata": {
        "colab": {
          "base_uri": "https://localhost:8080/"
        },
        "id": "BTJpNBDMmwtI",
        "outputId": "2e17bfb9-0339-4d26-ad5e-92264ac0103f"
      },
      "execution_count": 25,
      "outputs": [
        {
          "output_type": "execute_result",
          "data": {
            "text/plain": [
              "asin                                       0\n",
              "rank                                       0\n",
              "date                                       0\n",
              "filled_rank                                0\n",
              "min_month_bsr                              0\n",
              "after_1_yr_period_12_mo_min_bsr          455\n",
              "after_1_yr_period_12_mo_10_perc_bsr      455\n",
              "after_1_yr_period_12_mo_median_bsr       455\n",
              "after_2_yr_period_12_mo_min_bsr         1692\n",
              "after_2_yr_period_12_mo_10_perc_bsr     1692\n",
              "after_2_yr_period_12_mo_median_bsr      1692\n",
              "after_1_yr_period_3_mo_min_bsr           455\n",
              "after_1_yr_period_3_mo_10_perc_bsr       455\n",
              "after_1_yr_period_3_mo_median_bsr        455\n",
              "after_1_5_yr_period_3_mo_min_bsr        1082\n",
              "after_1_5_yr_period_3_mo_10_perc_bsr    1082\n",
              "after_1_5_yr_period_3_mo_median_bsr     1082\n",
              "after_2_yr_period_3_mo_min_bsr          1692\n",
              "after_2_yr_period_3_mo_10_perc_bsr      1692\n",
              "after_2_yr_period_3_mo_median_bsr       1692\n",
              "dtype: int64"
            ]
          },
          "metadata": {},
          "execution_count": 25
        }
      ]
    },
    {
      "cell_type": "code",
      "source": [
        "# before removing\n",
        "bsr_timelines_by_product.shape"
      ],
      "metadata": {
        "colab": {
          "base_uri": "https://localhost:8080/"
        },
        "id": "dHZ63UyCn8A6",
        "outputId": "4ac732d9-a4ac-4b3f-ede5-d0b44dd01e23"
      },
      "execution_count": 26,
      "outputs": [
        {
          "output_type": "execute_result",
          "data": {
            "text/plain": [
              "(4146, 20)"
            ]
          },
          "metadata": {},
          "execution_count": 26
        }
      ]
    },
    {
      "cell_type": "code",
      "source": [
        "# remove products whose whole live period is less than 1 yr\n",
        "bsr_timelines_by_product = bsr_timelines_by_product[bsr_timelines_by_product['after_1_yr_period_12_mo_min_bsr'].notna()]"
      ],
      "metadata": {
        "id": "QOCIXLbdmemo"
      },
      "execution_count": 27,
      "outputs": []
    },
    {
      "cell_type": "code",
      "source": [
        "# after removing\n",
        "bsr_timelines_by_product.shape"
      ],
      "metadata": {
        "colab": {
          "base_uri": "https://localhost:8080/"
        },
        "id": "EYd98Hk1pbt2",
        "outputId": "0c4c9377-0f90-43f2-de49-559a4f350b70"
      },
      "execution_count": 28,
      "outputs": [
        {
          "output_type": "execute_result",
          "data": {
            "text/plain": [
              "(3691, 20)"
            ]
          },
          "metadata": {},
          "execution_count": 28
        }
      ]
    },
    {
      "cell_type": "code",
      "source": [
        "min_bsr_over_time= bsr_timelines_by_product.drop(columns = ['rank','date','filled_rank'])"
      ],
      "metadata": {
        "id": "fWV857sVqHe-"
      },
      "execution_count": 29,
      "outputs": []
    },
    {
      "cell_type": "code",
      "source": [
        "min_bsr_over_time.to_pickle(f'{int_data}/min_bsr_over_time.pickle')"
      ],
      "metadata": {
        "id": "aSL77DwrrNLG"
      },
      "execution_count": 31,
      "outputs": []
    },
    {
      "cell_type": "markdown",
      "source": [
        "# Process review"
      ],
      "metadata": {
        "id": "xSPGzMbHqqoZ"
      }
    },
    {
      "cell_type": "code",
      "source": [
        "rev['reviewvotes_num'] = rev[\"reviewvotes\"].fillna('0').str.split().str[0].replace('One','1').str.replace(',','').astype('int')\n",
        "rev = rev.drop(['reviewvotes', 'temp'],axis=1)\n"
      ],
      "metadata": {
        "id": "H03pcMGXsxG9"
      },
      "execution_count": 32,
      "outputs": []
    },
    {
      "cell_type": "code",
      "source": [
        "# sort by date\n",
        "rev['date'] = pd.to_datetime(rev['date'])\n",
        "rev = rev.sort_values(['asin','date']).copy()\n",
        "\n",
        "# add column year-moth \n",
        "rev['year_month'] = rev['date'].dt.strftime('%m-%Y')\n",
        "\n",
        "# reformat date column \n",
        "rev['date'] = rev['date'].dt.strftime('%m-%d-%Y')\n",
        "\n",
        "# fill nan reviews with empty string\n",
        "rev['review_text'] = rev['review_text'].fillna('')\n",
        "\n",
        "assert (pd.isnull(rev['review_text'])).sum() == 0\n"
      ],
      "metadata": {
        "id": "n8i3rT2Ts1D2"
      },
      "execution_count": 33,
      "outputs": []
    },
    {
      "cell_type": "code",
      "source": [
        "def make_list(group):\n",
        "    cols = ['year_month','date', 'product_name', 'review_title', 'review_text', 'reviewvotes_num', 'reviewrating', 'reviewverifiedpurchase', 'country_name']\n",
        "    listed = {col : group[col].to_list() for col in cols}\n",
        "    return pd.Series(listed)\n",
        "\n",
        "listed = rev.groupby([\"asin\"]).apply(make_list)\n",
        "listed = listed.reset_index()\n",
        "listed['product_name'] = [i[0] for i in listed['product_name']]"
      ],
      "metadata": {
        "id": "eebMgE6rqWm_"
      },
      "execution_count": 34,
      "outputs": []
    },
    {
      "cell_type": "code",
      "source": [
        "def get_concat_review(year_month, date, \n",
        "                      review_title,review_text,\n",
        "                           reviewvotes_num,reviewrating,\n",
        "                           reviewverifiedpurchase,country_name):\n",
        "  date_df = pd.DataFrame(zip(year_month, date,\n",
        "                           review_title,review_text,\n",
        "                           reviewvotes_num,reviewrating,\n",
        "                           reviewverifiedpurchase,country_name ), columns=cols)\n",
        "  min_month =  pd.to_datetime(date_df['year_month']).min()\n",
        "  after_3_mo = min_month + pd.DateOffset(months=3)\n",
        "  after_6_mo = min_month + pd.DateOffset(months=6)\n",
        "  # after_12_mo = min_month + pd.DateOffset(months=12)\n",
        "  date_df['year_month']  =  pd.to_datetime(date_df['year_month'])\n",
        "  # 0-3 months\n",
        "  range_3 = date_df[(date_df['year_month'] >= min_month) & (date_df['year_month'] < after_3_mo)]\n",
        "  # 0-6 months\n",
        "  range_6 = date_df[(date_df['year_month'] >= min_month) & (date_df['year_month'] < after_6_mo)]\n",
        "  # # 0-12 months\n",
        "  # range_12 = date_df[(date_df['year_month'] >= min_month) & (date_df['year_month'] < after_12_mo)]\n",
        "  \n",
        "  return {'min_month_rev': min_month,\n",
        "          '3_mo': make_list(range_3),\n",
        "          '6_mo': make_list(range_6),\n",
        "  }\n",
        "def make_list(range):\n",
        "  cols = ['review_title', 'review_text', 'reviewvotes_num', 'reviewrating', 'reviewverifiedpurchase', 'country_name']\n",
        "  listed = {col : range[col].to_list() for col in cols}\n",
        "  return pd.Series(listed)\n",
        "cols = ['year_month','date', 'review_title', \n",
        "        'review_text', 'reviewvotes_num', 'reviewrating', 'reviewverifiedpurchase', 'country_name']\n"
      ],
      "metadata": {
        "id": "IUjQCsrhvf2V"
      },
      "execution_count": 35,
      "outputs": []
    },
    {
      "cell_type": "code",
      "source": [
        "result_all = listed.apply(lambda x: get_concat_review(x.year_month,\n",
        "                                                      x.date,\n",
        "                                                      x.review_title,\n",
        "                                                      x.review_text,\n",
        "                                                      x.reviewvotes_num,\n",
        "                                                      x.reviewrating,\n",
        "                                                      x.reviewverifiedpurchase,\n",
        "                                                      x.country_name),axis=1)"
      ],
      "metadata": {
        "id": "X3NoRHQ46EIc"
      },
      "execution_count": 36,
      "outputs": []
    },
    {
      "cell_type": "code",
      "source": [
        "results = pd.DataFrame()\n",
        "for row in result_all:\n",
        "  df_3_mo = pd.DataFrame([row['3_mo']])\n",
        "  df_3_mo.columns += '_3_mo'\n",
        "  df_6_mo = pd.DataFrame([row['6_mo']])\n",
        "  df_6_mo.columns += '_6_mo'\n",
        "  df_full = pd.concat([df_3_mo, df_6_mo,],axis=1)\n",
        "  df_full['min_month_rev'] = row['min_month_rev']\n",
        "  results = pd.concat([results, df_full], axis=0).reset_index(drop=True)"
      ],
      "metadata": {
        "id": "vWvPl5Cw6sNc"
      },
      "execution_count": 37,
      "outputs": []
    },
    {
      "cell_type": "code",
      "source": [
        "df_full.columns"
      ],
      "metadata": {
        "colab": {
          "base_uri": "https://localhost:8080/"
        },
        "id": "IF7RwTKMBcQk",
        "outputId": "7d56ff4c-257e-4397-d0b4-479b392fed11"
      },
      "execution_count": 38,
      "outputs": [
        {
          "output_type": "execute_result",
          "data": {
            "text/plain": [
              "Index(['review_title_3_mo', 'review_text_3_mo', 'reviewvotes_num_3_mo',\n",
              "       'reviewrating_3_mo', 'reviewverifiedpurchase_3_mo', 'country_name_3_mo',\n",
              "       'review_title_6_mo', 'review_text_6_mo', 'reviewvotes_num_6_mo',\n",
              "       'reviewrating_6_mo', 'reviewverifiedpurchase_6_mo', 'country_name_6_mo',\n",
              "       'min_month_rev'],\n",
              "      dtype='object')"
            ]
          },
          "metadata": {},
          "execution_count": 38
        }
      ]
    },
    {
      "cell_type": "code",
      "source": [
        "rev_over_time = pd.concat([listed, results], axis=1)"
      ],
      "metadata": {
        "id": "jKO9Qaw7_pPI"
      },
      "execution_count": 39,
      "outputs": []
    },
    {
      "cell_type": "code",
      "source": [
        "rev_over_time.columns"
      ],
      "metadata": {
        "colab": {
          "base_uri": "https://localhost:8080/"
        },
        "id": "9JymKlJ4Bjme",
        "outputId": "6ad2b24a-e2e5-4539-86df-3f90c17a2ff5"
      },
      "execution_count": 40,
      "outputs": [
        {
          "output_type": "execute_result",
          "data": {
            "text/plain": [
              "Index(['asin', 'year_month', 'date', 'product_name', 'review_title',\n",
              "       'review_text', 'reviewvotes_num', 'reviewrating',\n",
              "       'reviewverifiedpurchase', 'country_name', 'review_title_3_mo',\n",
              "       'review_text_3_mo', 'reviewvotes_num_3_mo', 'reviewrating_3_mo',\n",
              "       'reviewverifiedpurchase_3_mo', 'country_name_3_mo', 'review_title_6_mo',\n",
              "       'review_text_6_mo', 'reviewvotes_num_6_mo', 'reviewrating_6_mo',\n",
              "       'reviewverifiedpurchase_6_mo', 'country_name_6_mo', 'min_month_rev'],\n",
              "      dtype='object')"
            ]
          },
          "metadata": {},
          "execution_count": 40
        }
      ]
    },
    {
      "cell_type": "code",
      "source": [
        "rev_over_time_short = rev_over_time[['asin','min_month_rev', 'product_name', 'review_title_3_mo', 'review_text_3_mo', 'reviewvotes_num_3_mo',\n",
        "       'reviewrating_3_mo', 'reviewverifiedpurchase_3_mo', 'country_name_3_mo',\n",
        "       'review_title_6_mo', 'review_text_6_mo', 'reviewvotes_num_6_mo',\n",
        "       'reviewrating_6_mo', 'reviewverifiedpurchase_6_mo', 'country_name_6_mo',\n",
        "       ]]"
      ],
      "metadata": {
        "id": "intHJ8Sl8gHK"
      },
      "execution_count": 41,
      "outputs": []
    },
    {
      "cell_type": "code",
      "source": [
        "rev_over_time_short.to_pickle(f'{int_data}/rev_over_time_short.pickle')"
      ],
      "metadata": {
        "id": "yC4RB3A-CHKW"
      },
      "execution_count": 42,
      "outputs": []
    },
    {
      "cell_type": "code",
      "source": [
        "merged_data = min_bsr_over_time.merge(rev_over_time_short, on='asin',how='inner')"
      ],
      "metadata": {
        "id": "aw0e_GWrCaeA"
      },
      "execution_count": 43,
      "outputs": []
    },
    {
      "cell_type": "code",
      "source": [
        "merged_data['start_month'] = merged_data[['min_month_bsr','min_month_rev']].min(axis=1)"
      ],
      "metadata": {
        "id": "FEwTEGoYCoGt"
      },
      "execution_count": 44,
      "outputs": []
    },
    {
      "cell_type": "code",
      "source": [
        "merged_data.to_pickle(f'{out_data}/bsr_rev_classification.pickle')"
      ],
      "metadata": {
        "id": "8RyC8tJtDikI"
      },
      "execution_count": 46,
      "outputs": []
    },
    {
      "cell_type": "code",
      "source": [
        "merged_data.head()"
      ],
      "metadata": {
        "id": "qeevneFPCwKh",
        "colab": {
          "base_uri": "https://localhost:8080/",
          "height": 473
        },
        "outputId": "110ccf7b-325c-4eb3-856c-92f6609839ad"
      },
      "execution_count": 51,
      "outputs": [
        {
          "output_type": "execute_result",
          "data": {
            "text/plain": [
              "         asin min_month_bsr  after_1_yr_period_12_mo_min_bsr  \\\n",
              "0  B00005K9DO    2017-07-01                      4507.615385   \n",
              "1  B0009DVYVC    2018-05-01                      2022.461538   \n",
              "2  B000CL8LAI    2017-07-01                     80436.000000   \n",
              "3  B000H8A212    2017-07-01                     42585.666667   \n",
              "4  B000POZG0U    2017-07-01                     43471.600000   \n",
              "\n",
              "   after_1_yr_period_12_mo_10_perc_bsr  after_1_yr_period_12_mo_median_bsr  \\\n",
              "0                          7284.191071                        13995.333333   \n",
              "1                          3749.250000                         5272.333333   \n",
              "2                        163346.260000                       299560.166667   \n",
              "3                         58437.187879                        99417.000000   \n",
              "4                         67546.400000                       102598.200000   \n",
              "\n",
              "   after_2_yr_period_12_mo_min_bsr  after_2_yr_period_12_mo_10_perc_bsr  \\\n",
              "0                      9757.571429                         12561.041667   \n",
              "1                      2733.444444                          4973.342857   \n",
              "2                     43079.000000                         78449.375000   \n",
              "3                      3011.800000                          8904.375000   \n",
              "4                     40251.000000                         60004.250000   \n",
              "\n",
              "   after_2_yr_period_12_mo_median_bsr  after_1_yr_period_3_mo_min_bsr  \\\n",
              "0                        16430.104167                    13085.750000   \n",
              "1                        37476.600000                     2022.461538   \n",
              "2                       144469.000000                    80436.000000   \n",
              "3                        35505.083333                    59629.400000   \n",
              "4                        89162.450000                    51325.500000   \n",
              "\n",
              "   after_1_yr_period_3_mo_10_perc_bsr  ...  \\\n",
              "0                        19051.916667  ...   \n",
              "1                         4528.459524  ...   \n",
              "2                       200828.875000  ...   \n",
              "3                        99415.478571  ...   \n",
              "4                        70571.700000  ...   \n",
              "\n",
              "                     reviewrating_3_mo  \\\n",
              "0                                [5.0]   \n",
              "1  [5.0, 4.0, 5.0, 5.0, 5.0, 3.0, 5.0]   \n",
              "2                                [5.0]   \n",
              "3                                [5.0]   \n",
              "4                                [5.0]   \n",
              "\n",
              "                      reviewverifiedpurchase_3_mo  \\\n",
              "0                                          [True]   \n",
              "1  [False, False, False, False, True, True, True]   \n",
              "2                                          [True]   \n",
              "3                                          [True]   \n",
              "4                                          [True]   \n",
              "\n",
              "                                   country_name_3_mo  \\\n",
              "0                                   [ United States]   \n",
              "1  [ United States,  United States,  United State...   \n",
              "2                                   [ United States]   \n",
              "3                                   [ United States]   \n",
              "4                                   [ United States]   \n",
              "\n",
              "                                   review_title_6_mo  \\\n",
              "0                  [Great for pre menopausal women!]   \n",
              "1  [Your kids will love these!, My kids like thes...   \n",
              "2                           [Five Stars, Five Stars]   \n",
              "3  [Works within a day!, Don't Buy!, Sundown Echi...   \n",
              "4  [so it is nice not to have to buy 100mg tablet...   \n",
              "\n",
              "                                    review_text_6_mo  \\\n",
              "0  [If used with Evening Primrose oil, DHEA, and ...   \n",
              "1  [These gummies are great for kids. They are cu...   \n",
              "2  [Great product for speedy recovery., This prod...   \n",
              "3  [I have been using Echinacea for many years bu...   \n",
              "4  [This dosage is hard to find. My physician has...   \n",
              "\n",
              "                                reviewvotes_num_6_mo  \\\n",
              "0                                               [15]   \n",
              "1  [0, 3, 2, 1, 6, 0, 2, 1, 0, 1, 1, 0, 0, 3, 2, ...   \n",
              "2                                            [5, 21]   \n",
              "3                                          [1, 5, 4]   \n",
              "4                                                [4]   \n",
              "\n",
              "                                   reviewrating_6_mo  \\\n",
              "0                                              [5.0]   \n",
              "1  [5.0, 4.0, 5.0, 5.0, 5.0, 3.0, 5.0, 5.0, 5.0, ...   \n",
              "2                                         [5.0, 5.0]   \n",
              "3                                    [5.0, 1.0, 5.0]   \n",
              "4                                              [5.0]   \n",
              "\n",
              "                         reviewverifiedpurchase_6_mo  \\\n",
              "0                                             [True]   \n",
              "1  [False, False, False, False, True, True, True,...   \n",
              "2                                       [True, True]   \n",
              "3                                 [True, True, True]   \n",
              "4                                             [True]   \n",
              "\n",
              "                                   country_name_6_mo start_month  \n",
              "0                                   [ United States]  2017-02-01  \n",
              "1  [ United States,  United States,  United State...  2018-05-01  \n",
              "2                   [ United States,  United States]  2017-07-01  \n",
              "3   [ United States,  United States,  United States]  2017-06-01  \n",
              "4                                   [ United States]  2017-06-01  \n",
              "\n",
              "[5 rows x 32 columns]"
            ],
            "text/html": [
              "\n",
              "  <div id=\"df-9ef99e62-5cde-4099-994b-9253e869ef25\">\n",
              "    <div class=\"colab-df-container\">\n",
              "      <div>\n",
              "<style scoped>\n",
              "    .dataframe tbody tr th:only-of-type {\n",
              "        vertical-align: middle;\n",
              "    }\n",
              "\n",
              "    .dataframe tbody tr th {\n",
              "        vertical-align: top;\n",
              "    }\n",
              "\n",
              "    .dataframe thead th {\n",
              "        text-align: right;\n",
              "    }\n",
              "</style>\n",
              "<table border=\"1\" class=\"dataframe\">\n",
              "  <thead>\n",
              "    <tr style=\"text-align: right;\">\n",
              "      <th></th>\n",
              "      <th>asin</th>\n",
              "      <th>min_month_bsr</th>\n",
              "      <th>after_1_yr_period_12_mo_min_bsr</th>\n",
              "      <th>after_1_yr_period_12_mo_10_perc_bsr</th>\n",
              "      <th>after_1_yr_period_12_mo_median_bsr</th>\n",
              "      <th>after_2_yr_period_12_mo_min_bsr</th>\n",
              "      <th>after_2_yr_period_12_mo_10_perc_bsr</th>\n",
              "      <th>after_2_yr_period_12_mo_median_bsr</th>\n",
              "      <th>after_1_yr_period_3_mo_min_bsr</th>\n",
              "      <th>after_1_yr_period_3_mo_10_perc_bsr</th>\n",
              "      <th>...</th>\n",
              "      <th>reviewrating_3_mo</th>\n",
              "      <th>reviewverifiedpurchase_3_mo</th>\n",
              "      <th>country_name_3_mo</th>\n",
              "      <th>review_title_6_mo</th>\n",
              "      <th>review_text_6_mo</th>\n",
              "      <th>reviewvotes_num_6_mo</th>\n",
              "      <th>reviewrating_6_mo</th>\n",
              "      <th>reviewverifiedpurchase_6_mo</th>\n",
              "      <th>country_name_6_mo</th>\n",
              "      <th>start_month</th>\n",
              "    </tr>\n",
              "  </thead>\n",
              "  <tbody>\n",
              "    <tr>\n",
              "      <th>0</th>\n",
              "      <td>B00005K9DO</td>\n",
              "      <td>2017-07-01</td>\n",
              "      <td>4507.615385</td>\n",
              "      <td>7284.191071</td>\n",
              "      <td>13995.333333</td>\n",
              "      <td>9757.571429</td>\n",
              "      <td>12561.041667</td>\n",
              "      <td>16430.104167</td>\n",
              "      <td>13085.750000</td>\n",
              "      <td>19051.916667</td>\n",
              "      <td>...</td>\n",
              "      <td>[5.0]</td>\n",
              "      <td>[True]</td>\n",
              "      <td>[ United States]</td>\n",
              "      <td>[Great for pre menopausal women!]</td>\n",
              "      <td>[If used with Evening Primrose oil, DHEA, and ...</td>\n",
              "      <td>[15]</td>\n",
              "      <td>[5.0]</td>\n",
              "      <td>[True]</td>\n",
              "      <td>[ United States]</td>\n",
              "      <td>2017-02-01</td>\n",
              "    </tr>\n",
              "    <tr>\n",
              "      <th>1</th>\n",
              "      <td>B0009DVYVC</td>\n",
              "      <td>2018-05-01</td>\n",
              "      <td>2022.461538</td>\n",
              "      <td>3749.250000</td>\n",
              "      <td>5272.333333</td>\n",
              "      <td>2733.444444</td>\n",
              "      <td>4973.342857</td>\n",
              "      <td>37476.600000</td>\n",
              "      <td>2022.461538</td>\n",
              "      <td>4528.459524</td>\n",
              "      <td>...</td>\n",
              "      <td>[5.0, 4.0, 5.0, 5.0, 5.0, 3.0, 5.0]</td>\n",
              "      <td>[False, False, False, False, True, True, True]</td>\n",
              "      <td>[ United States,  United States,  United State...</td>\n",
              "      <td>[Your kids will love these!, My kids like thes...</td>\n",
              "      <td>[These gummies are great for kids. They are cu...</td>\n",
              "      <td>[0, 3, 2, 1, 6, 0, 2, 1, 0, 1, 1, 0, 0, 3, 2, ...</td>\n",
              "      <td>[5.0, 4.0, 5.0, 5.0, 5.0, 3.0, 5.0, 5.0, 5.0, ...</td>\n",
              "      <td>[False, False, False, False, True, True, True,...</td>\n",
              "      <td>[ United States,  United States,  United State...</td>\n",
              "      <td>2018-05-01</td>\n",
              "    </tr>\n",
              "    <tr>\n",
              "      <th>2</th>\n",
              "      <td>B000CL8LAI</td>\n",
              "      <td>2017-07-01</td>\n",
              "      <td>80436.000000</td>\n",
              "      <td>163346.260000</td>\n",
              "      <td>299560.166667</td>\n",
              "      <td>43079.000000</td>\n",
              "      <td>78449.375000</td>\n",
              "      <td>144469.000000</td>\n",
              "      <td>80436.000000</td>\n",
              "      <td>200828.875000</td>\n",
              "      <td>...</td>\n",
              "      <td>[5.0]</td>\n",
              "      <td>[True]</td>\n",
              "      <td>[ United States]</td>\n",
              "      <td>[Five Stars, Five Stars]</td>\n",
              "      <td>[Great product for speedy recovery., This prod...</td>\n",
              "      <td>[5, 21]</td>\n",
              "      <td>[5.0, 5.0]</td>\n",
              "      <td>[True, True]</td>\n",
              "      <td>[ United States,  United States]</td>\n",
              "      <td>2017-07-01</td>\n",
              "    </tr>\n",
              "    <tr>\n",
              "      <th>3</th>\n",
              "      <td>B000H8A212</td>\n",
              "      <td>2017-07-01</td>\n",
              "      <td>42585.666667</td>\n",
              "      <td>58437.187879</td>\n",
              "      <td>99417.000000</td>\n",
              "      <td>3011.800000</td>\n",
              "      <td>8904.375000</td>\n",
              "      <td>35505.083333</td>\n",
              "      <td>59629.400000</td>\n",
              "      <td>99415.478571</td>\n",
              "      <td>...</td>\n",
              "      <td>[5.0]</td>\n",
              "      <td>[True]</td>\n",
              "      <td>[ United States]</td>\n",
              "      <td>[Works within a day!, Don't Buy!, Sundown Echi...</td>\n",
              "      <td>[I have been using Echinacea for many years bu...</td>\n",
              "      <td>[1, 5, 4]</td>\n",
              "      <td>[5.0, 1.0, 5.0]</td>\n",
              "      <td>[True, True, True]</td>\n",
              "      <td>[ United States,  United States,  United States]</td>\n",
              "      <td>2017-06-01</td>\n",
              "    </tr>\n",
              "    <tr>\n",
              "      <th>4</th>\n",
              "      <td>B000POZG0U</td>\n",
              "      <td>2017-07-01</td>\n",
              "      <td>43471.600000</td>\n",
              "      <td>67546.400000</td>\n",
              "      <td>102598.200000</td>\n",
              "      <td>40251.000000</td>\n",
              "      <td>60004.250000</td>\n",
              "      <td>89162.450000</td>\n",
              "      <td>51325.500000</td>\n",
              "      <td>70571.700000</td>\n",
              "      <td>...</td>\n",
              "      <td>[5.0]</td>\n",
              "      <td>[True]</td>\n",
              "      <td>[ United States]</td>\n",
              "      <td>[so it is nice not to have to buy 100mg tablet...</td>\n",
              "      <td>[This dosage is hard to find. My physician has...</td>\n",
              "      <td>[4]</td>\n",
              "      <td>[5.0]</td>\n",
              "      <td>[True]</td>\n",
              "      <td>[ United States]</td>\n",
              "      <td>2017-06-01</td>\n",
              "    </tr>\n",
              "  </tbody>\n",
              "</table>\n",
              "<p>5 rows × 32 columns</p>\n",
              "</div>\n",
              "      <button class=\"colab-df-convert\" onclick=\"convertToInteractive('df-9ef99e62-5cde-4099-994b-9253e869ef25')\"\n",
              "              title=\"Convert this dataframe to an interactive table.\"\n",
              "              style=\"display:none;\">\n",
              "        \n",
              "  <svg xmlns=\"http://www.w3.org/2000/svg\" height=\"24px\"viewBox=\"0 0 24 24\"\n",
              "       width=\"24px\">\n",
              "    <path d=\"M0 0h24v24H0V0z\" fill=\"none\"/>\n",
              "    <path d=\"M18.56 5.44l.94 2.06.94-2.06 2.06-.94-2.06-.94-.94-2.06-.94 2.06-2.06.94zm-11 1L8.5 8.5l.94-2.06 2.06-.94-2.06-.94L8.5 2.5l-.94 2.06-2.06.94zm10 10l.94 2.06.94-2.06 2.06-.94-2.06-.94-.94-2.06-.94 2.06-2.06.94z\"/><path d=\"M17.41 7.96l-1.37-1.37c-.4-.4-.92-.59-1.43-.59-.52 0-1.04.2-1.43.59L10.3 9.45l-7.72 7.72c-.78.78-.78 2.05 0 2.83L4 21.41c.39.39.9.59 1.41.59.51 0 1.02-.2 1.41-.59l7.78-7.78 2.81-2.81c.8-.78.8-2.07 0-2.86zM5.41 20L4 18.59l7.72-7.72 1.47 1.35L5.41 20z\"/>\n",
              "  </svg>\n",
              "      </button>\n",
              "      \n",
              "  <style>\n",
              "    .colab-df-container {\n",
              "      display:flex;\n",
              "      flex-wrap:wrap;\n",
              "      gap: 12px;\n",
              "    }\n",
              "\n",
              "    .colab-df-convert {\n",
              "      background-color: #E8F0FE;\n",
              "      border: none;\n",
              "      border-radius: 50%;\n",
              "      cursor: pointer;\n",
              "      display: none;\n",
              "      fill: #1967D2;\n",
              "      height: 32px;\n",
              "      padding: 0 0 0 0;\n",
              "      width: 32px;\n",
              "    }\n",
              "\n",
              "    .colab-df-convert:hover {\n",
              "      background-color: #E2EBFA;\n",
              "      box-shadow: 0px 1px 2px rgba(60, 64, 67, 0.3), 0px 1px 3px 1px rgba(60, 64, 67, 0.15);\n",
              "      fill: #174EA6;\n",
              "    }\n",
              "\n",
              "    [theme=dark] .colab-df-convert {\n",
              "      background-color: #3B4455;\n",
              "      fill: #D2E3FC;\n",
              "    }\n",
              "\n",
              "    [theme=dark] .colab-df-convert:hover {\n",
              "      background-color: #434B5C;\n",
              "      box-shadow: 0px 1px 3px 1px rgba(0, 0, 0, 0.15);\n",
              "      filter: drop-shadow(0px 1px 2px rgba(0, 0, 0, 0.3));\n",
              "      fill: #FFFFFF;\n",
              "    }\n",
              "  </style>\n",
              "\n",
              "      <script>\n",
              "        const buttonEl =\n",
              "          document.querySelector('#df-9ef99e62-5cde-4099-994b-9253e869ef25 button.colab-df-convert');\n",
              "        buttonEl.style.display =\n",
              "          google.colab.kernel.accessAllowed ? 'block' : 'none';\n",
              "\n",
              "        async function convertToInteractive(key) {\n",
              "          const element = document.querySelector('#df-9ef99e62-5cde-4099-994b-9253e869ef25');\n",
              "          const dataTable =\n",
              "            await google.colab.kernel.invokeFunction('convertToInteractive',\n",
              "                                                     [key], {});\n",
              "          if (!dataTable) return;\n",
              "\n",
              "          const docLinkHtml = 'Like what you see? Visit the ' +\n",
              "            '<a target=\"_blank\" href=https://colab.research.google.com/notebooks/data_table.ipynb>data table notebook</a>'\n",
              "            + ' to learn more about interactive tables.';\n",
              "          element.innerHTML = '';\n",
              "          dataTable['output_type'] = 'display_data';\n",
              "          await google.colab.output.renderOutput(dataTable, element);\n",
              "          const docLink = document.createElement('div');\n",
              "          docLink.innerHTML = docLinkHtml;\n",
              "          element.appendChild(docLink);\n",
              "        }\n",
              "      </script>\n",
              "    </div>\n",
              "  </div>\n",
              "  "
            ]
          },
          "metadata": {},
          "execution_count": 51
        }
      ]
    },
    {
      "cell_type": "code",
      "source": [
        "print('avg #reviews in 3 months:', np.mean([len(i) for i in merged_data['review_text_3_mo']]))\n",
        "print('avg #reviews in 6 months:', np.mean([len(i) for i in merged_data['review_text_6_mo']]))"
      ],
      "metadata": {
        "colab": {
          "base_uri": "https://localhost:8080/"
        },
        "id": "0HeZsRYnf5yj",
        "outputId": "3e9e0d96-29b6-4536-f339-bc739b60c4b2"
      },
      "execution_count": 50,
      "outputs": [
        {
          "output_type": "stream",
          "name": "stdout",
          "text": [
            "avg #reviews in 3 months: 23.007044161473857\n",
            "avg #reviews in 6 months: 54.41343809265781\n"
          ]
        }
      ]
    },
    {
      "cell_type": "code",
      "source": [
        "np.mean(merged_data['after_1_yr_period_12_mo_10_perc_bsr']<3000)"
      ],
      "metadata": {
        "colab": {
          "base_uri": "https://localhost:8080/"
        },
        "id": "OgzxmwcxfCk6",
        "outputId": "5c1ee84d-47ff-45fc-9471-858a809ea532"
      },
      "execution_count": 53,
      "outputs": [
        {
          "output_type": "execute_result",
          "data": {
            "text/plain": [
              "0.10647520997019778"
            ]
          },
          "metadata": {},
          "execution_count": 53
        }
      ]
    },
    {
      "cell_type": "code",
      "source": [
        "np.mean(merged_data['after_1_yr_period_12_mo_min_bsr']<3000)"
      ],
      "metadata": {
        "colab": {
          "base_uri": "https://localhost:8080/"
        },
        "id": "vZuOSb2te8M0",
        "outputId": "507d2de6-d376-4cc9-f9f8-2b0297fdadbc"
      },
      "execution_count": 54,
      "outputs": [
        {
          "output_type": "execute_result",
          "data": {
            "text/plain": [
              "0.18098076402059063"
            ]
          },
          "metadata": {},
          "execution_count": 54
        }
      ]
    },
    {
      "cell_type": "code",
      "source": [
        "np.mean(merged_data['after_2_yr_period_12_mo_min_bsr']<3000)"
      ],
      "metadata": {
        "colab": {
          "base_uri": "https://localhost:8080/"
        },
        "id": "oFEGzYije_E3",
        "outputId": "1f5f2405-d981-4b2c-f93e-028ae9a8b069"
      },
      "execution_count": 56,
      "outputs": [
        {
          "output_type": "execute_result",
          "data": {
            "text/plain": [
              "0.12408561365483609"
            ]
          },
          "metadata": {},
          "execution_count": 56
        }
      ]
    },
    {
      "cell_type": "code",
      "source": [
        ""
      ],
      "metadata": {
        "id": "oW9AK8kDebIm"
      },
      "execution_count": null,
      "outputs": []
    }
  ]
}